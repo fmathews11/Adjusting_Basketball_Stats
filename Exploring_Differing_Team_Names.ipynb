{
 "cells": [
  {
   "cell_type": "code",
   "execution_count": null,
   "id": "initial_id",
   "metadata": {
    "collapsed": true
   },
   "outputs": [],
   "source": [
    "import pandas as pd\n",
    "from modules import constants\n",
    "df = pd.read_parquet('parquet_files/box_scores_sports_reference_2024.gzip')\n",
    "df.to_parquet('parquet_files/TEST_PARQUET.gzip',compression='gzip',index=False)"
   ]
  },
  {
   "cell_type": "code",
   "execution_count": null,
   "outputs": [],
   "source": [
    "df"
   ],
   "metadata": {
    "collapsed": false
   },
   "id": "6470b2af49f19007"
  },
  {
   "cell_type": "code",
   "execution_count": null,
   "outputs": [],
   "source": [
    "df.opp_name[~df.opp_name.str.upper().isin(constants.TEAM_NAME_ID_DICT)].map(str.upper)"
   ],
   "metadata": {
    "collapsed": false
   },
   "id": "2352034b221b3880"
  },
  {
   "cell_type": "code",
   "execution_count": null,
   "outputs": [],
   "source": [
    "\n",
    "max_val = max(constants.TEAM_NAME_ID_DICT.values())\n",
    "max_val +=1\n",
    "max_val"
   ],
   "metadata": {
    "collapsed": false
   },
   "id": "7ac75f808fd4b0b1"
  },
  {
   "cell_type": "code",
   "execution_count": null,
   "outputs": [],
   "source": [
    "update_dict = {}\n",
    "for missing_team in df.opp_name[~df.opp_name.str.upper().isin(constants.TEAM_NAME_ID_DICT)].map(str.upper).tolist():\n",
    "    update_dict[missing_team.upper()] = max_val\n",
    "    max_val +=1"
   ],
   "metadata": {
    "collapsed": false
   },
   "id": "2cc77797eba4ad85"
  },
  {
   "cell_type": "code",
   "execution_count": null,
   "outputs": [],
   "source": [
    "sorted(update_dict.items())"
   ],
   "metadata": {
    "collapsed": false
   },
   "id": "f256b47c55c5cf09"
  },
  {
   "cell_type": "code",
   "execution_count": null,
   "outputs": [],
   "source": [
    "df[df.opp_name.str.upper() == \"ST. FRANCIS (IL)\"]"
   ],
   "metadata": {
    "collapsed": false
   },
   "id": "e7c74764268ee267"
  },
  {
   "cell_type": "code",
   "execution_count": null,
   "outputs": [],
   "source": [
    "constants.TEAM_NAME_ID_DICT.update(update_dict)"
   ],
   "metadata": {
    "collapsed": false
   },
   "id": "f49a1dfcfe61e803"
  },
  {
   "cell_type": "code",
   "execution_count": null,
   "outputs": [],
   "source": [
    "dict(sorted(constants.TEAM_NAME_ID_DICT.items()))"
   ],
   "metadata": {
    "collapsed": false
   },
   "id": "c5714b35e08300be"
  }
 ],
 "metadata": {
  "kernelspec": {
   "display_name": "Python 3",
   "language": "python",
   "name": "python3"
  },
  "language_info": {
   "codemirror_mode": {
    "name": "ipython",
    "version": 2
   },
   "file_extension": ".py",
   "mimetype": "text/x-python",
   "name": "python",
   "nbconvert_exporter": "python",
   "pygments_lexer": "ipython2",
   "version": "2.7.6"
  }
 },
 "nbformat": 4,
 "nbformat_minor": 5
}
