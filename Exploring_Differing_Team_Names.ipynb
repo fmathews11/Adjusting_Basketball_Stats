{
 "cells": [
  {
   "cell_type": "code",
   "execution_count": 1,
   "id": "initial_id",
   "metadata": {
    "collapsed": true,
    "ExecuteTime": {
     "end_time": "2024-02-02T03:56:13.860037700Z",
     "start_time": "2024-02-02T03:56:13.794794800Z"
    }
   },
   "outputs": [
    {
     "data": {
      "text/plain": "          date           opp_name wl score opp_score  fg fga fgpct  3p 3pa  \\\n0   2023-11-06     OKLAHOMA STATE  W    64        59  26  57  .456   5  18   \n1   2023-11-10           NC STATE  L    64        84  20  57  .351   5  17   \n2   2023-11-14       PRAIRIE VIEW  L    74        79  23  60  .383   5  19   \n3   2023-11-17     SAN JOSE STATE  W    77        71  25  59  .424   7  15   \n4   2023-11-19            FORDHAM  W    59        45  22  55  .400   3  12   \n..         ...                ... ..   ...       ...  ..  ..   ...  ..  ..   \n17  2024-01-12       WRIGHT STATE  W    81        71  27  65  .415  10  33   \n18  2024-01-17            OAKLAND  L    67        70  26  66  .394   8  31   \n19  2024-01-20      DETROIT MERCY  W   105        64  38  60  .633  14  26   \n22  2024-01-25              IUPUI  W    78        50  31  61  .508   4  20   \n23  2024-01-28  NORTHERN KENTUCKY  W    82        52  28  61  .459   7  28   \n\n    ... opp_fta opp_ftpct opp_orb opp_trb opp_ast opp_stl opp_blk opp_tov  \\\n0   ...      20      .400       6      32      13       9       2      12   \n1   ...      24      .833      12      34      12       4       3       7   \n2   ...      34      .971       8      34       7       8       5      14   \n3   ...      12      .583       9      35      13       4       3       6   \n4   ...      21      .571      16      41       3       5       3      19   \n..  ...     ...       ...     ...     ...     ...     ...     ...     ...   \n17  ...      16      .750       7      36      15       3       1       6   \n18  ...      13      .923       8      31      12       9       2      10   \n19  ...      14      .786       9      19      10      10       3      14   \n22  ...      20      .500       8      25       7       9       2      13   \n23  ...      22      .636      10      30       8       5       2      19   \n\n   opp_pf          team_name  \n0      16  ABILENE CHRISTIAN  \n1      20  ABILENE CHRISTIAN  \n2      23  ABILENE CHRISTIAN  \n3      18  ABILENE CHRISTIAN  \n4      16  ABILENE CHRISTIAN  \n..    ...                ...  \n17     17   YOUNGSTOWN STATE  \n18     13   YOUNGSTOWN STATE  \n19     15   YOUNGSTOWN STATE  \n22     16   YOUNGSTOWN STATE  \n23     17   YOUNGSTOWN STATE  \n\n[7542 rows x 38 columns]",
      "text/html": "<div>\n<style scoped>\n    .dataframe tbody tr th:only-of-type {\n        vertical-align: middle;\n    }\n\n    .dataframe tbody tr th {\n        vertical-align: top;\n    }\n\n    .dataframe thead th {\n        text-align: right;\n    }\n</style>\n<table border=\"1\" class=\"dataframe\">\n  <thead>\n    <tr style=\"text-align: right;\">\n      <th></th>\n      <th>date</th>\n      <th>opp_name</th>\n      <th>wl</th>\n      <th>score</th>\n      <th>opp_score</th>\n      <th>fg</th>\n      <th>fga</th>\n      <th>fgpct</th>\n      <th>3p</th>\n      <th>3pa</th>\n      <th>...</th>\n      <th>opp_fta</th>\n      <th>opp_ftpct</th>\n      <th>opp_orb</th>\n      <th>opp_trb</th>\n      <th>opp_ast</th>\n      <th>opp_stl</th>\n      <th>opp_blk</th>\n      <th>opp_tov</th>\n      <th>opp_pf</th>\n      <th>team_name</th>\n    </tr>\n  </thead>\n  <tbody>\n    <tr>\n      <th>0</th>\n      <td>2023-11-06</td>\n      <td>OKLAHOMA STATE</td>\n      <td>W</td>\n      <td>64</td>\n      <td>59</td>\n      <td>26</td>\n      <td>57</td>\n      <td>.456</td>\n      <td>5</td>\n      <td>18</td>\n      <td>...</td>\n      <td>20</td>\n      <td>.400</td>\n      <td>6</td>\n      <td>32</td>\n      <td>13</td>\n      <td>9</td>\n      <td>2</td>\n      <td>12</td>\n      <td>16</td>\n      <td>ABILENE CHRISTIAN</td>\n    </tr>\n    <tr>\n      <th>1</th>\n      <td>2023-11-10</td>\n      <td>NC STATE</td>\n      <td>L</td>\n      <td>64</td>\n      <td>84</td>\n      <td>20</td>\n      <td>57</td>\n      <td>.351</td>\n      <td>5</td>\n      <td>17</td>\n      <td>...</td>\n      <td>24</td>\n      <td>.833</td>\n      <td>12</td>\n      <td>34</td>\n      <td>12</td>\n      <td>4</td>\n      <td>3</td>\n      <td>7</td>\n      <td>20</td>\n      <td>ABILENE CHRISTIAN</td>\n    </tr>\n    <tr>\n      <th>2</th>\n      <td>2023-11-14</td>\n      <td>PRAIRIE VIEW</td>\n      <td>L</td>\n      <td>74</td>\n      <td>79</td>\n      <td>23</td>\n      <td>60</td>\n      <td>.383</td>\n      <td>5</td>\n      <td>19</td>\n      <td>...</td>\n      <td>34</td>\n      <td>.971</td>\n      <td>8</td>\n      <td>34</td>\n      <td>7</td>\n      <td>8</td>\n      <td>5</td>\n      <td>14</td>\n      <td>23</td>\n      <td>ABILENE CHRISTIAN</td>\n    </tr>\n    <tr>\n      <th>3</th>\n      <td>2023-11-17</td>\n      <td>SAN JOSE STATE</td>\n      <td>W</td>\n      <td>77</td>\n      <td>71</td>\n      <td>25</td>\n      <td>59</td>\n      <td>.424</td>\n      <td>7</td>\n      <td>15</td>\n      <td>...</td>\n      <td>12</td>\n      <td>.583</td>\n      <td>9</td>\n      <td>35</td>\n      <td>13</td>\n      <td>4</td>\n      <td>3</td>\n      <td>6</td>\n      <td>18</td>\n      <td>ABILENE CHRISTIAN</td>\n    </tr>\n    <tr>\n      <th>4</th>\n      <td>2023-11-19</td>\n      <td>FORDHAM</td>\n      <td>W</td>\n      <td>59</td>\n      <td>45</td>\n      <td>22</td>\n      <td>55</td>\n      <td>.400</td>\n      <td>3</td>\n      <td>12</td>\n      <td>...</td>\n      <td>21</td>\n      <td>.571</td>\n      <td>16</td>\n      <td>41</td>\n      <td>3</td>\n      <td>5</td>\n      <td>3</td>\n      <td>19</td>\n      <td>16</td>\n      <td>ABILENE CHRISTIAN</td>\n    </tr>\n    <tr>\n      <th>...</th>\n      <td>...</td>\n      <td>...</td>\n      <td>...</td>\n      <td>...</td>\n      <td>...</td>\n      <td>...</td>\n      <td>...</td>\n      <td>...</td>\n      <td>...</td>\n      <td>...</td>\n      <td>...</td>\n      <td>...</td>\n      <td>...</td>\n      <td>...</td>\n      <td>...</td>\n      <td>...</td>\n      <td>...</td>\n      <td>...</td>\n      <td>...</td>\n      <td>...</td>\n      <td>...</td>\n    </tr>\n    <tr>\n      <th>17</th>\n      <td>2024-01-12</td>\n      <td>WRIGHT STATE</td>\n      <td>W</td>\n      <td>81</td>\n      <td>71</td>\n      <td>27</td>\n      <td>65</td>\n      <td>.415</td>\n      <td>10</td>\n      <td>33</td>\n      <td>...</td>\n      <td>16</td>\n      <td>.750</td>\n      <td>7</td>\n      <td>36</td>\n      <td>15</td>\n      <td>3</td>\n      <td>1</td>\n      <td>6</td>\n      <td>17</td>\n      <td>YOUNGSTOWN STATE</td>\n    </tr>\n    <tr>\n      <th>18</th>\n      <td>2024-01-17</td>\n      <td>OAKLAND</td>\n      <td>L</td>\n      <td>67</td>\n      <td>70</td>\n      <td>26</td>\n      <td>66</td>\n      <td>.394</td>\n      <td>8</td>\n      <td>31</td>\n      <td>...</td>\n      <td>13</td>\n      <td>.923</td>\n      <td>8</td>\n      <td>31</td>\n      <td>12</td>\n      <td>9</td>\n      <td>2</td>\n      <td>10</td>\n      <td>13</td>\n      <td>YOUNGSTOWN STATE</td>\n    </tr>\n    <tr>\n      <th>19</th>\n      <td>2024-01-20</td>\n      <td>DETROIT MERCY</td>\n      <td>W</td>\n      <td>105</td>\n      <td>64</td>\n      <td>38</td>\n      <td>60</td>\n      <td>.633</td>\n      <td>14</td>\n      <td>26</td>\n      <td>...</td>\n      <td>14</td>\n      <td>.786</td>\n      <td>9</td>\n      <td>19</td>\n      <td>10</td>\n      <td>10</td>\n      <td>3</td>\n      <td>14</td>\n      <td>15</td>\n      <td>YOUNGSTOWN STATE</td>\n    </tr>\n    <tr>\n      <th>22</th>\n      <td>2024-01-25</td>\n      <td>IUPUI</td>\n      <td>W</td>\n      <td>78</td>\n      <td>50</td>\n      <td>31</td>\n      <td>61</td>\n      <td>.508</td>\n      <td>4</td>\n      <td>20</td>\n      <td>...</td>\n      <td>20</td>\n      <td>.500</td>\n      <td>8</td>\n      <td>25</td>\n      <td>7</td>\n      <td>9</td>\n      <td>2</td>\n      <td>13</td>\n      <td>16</td>\n      <td>YOUNGSTOWN STATE</td>\n    </tr>\n    <tr>\n      <th>23</th>\n      <td>2024-01-28</td>\n      <td>NORTHERN KENTUCKY</td>\n      <td>W</td>\n      <td>82</td>\n      <td>52</td>\n      <td>28</td>\n      <td>61</td>\n      <td>.459</td>\n      <td>7</td>\n      <td>28</td>\n      <td>...</td>\n      <td>22</td>\n      <td>.636</td>\n      <td>10</td>\n      <td>30</td>\n      <td>8</td>\n      <td>5</td>\n      <td>2</td>\n      <td>19</td>\n      <td>17</td>\n      <td>YOUNGSTOWN STATE</td>\n    </tr>\n  </tbody>\n</table>\n<p>7542 rows × 38 columns</p>\n</div>"
     },
     "execution_count": 1,
     "metadata": {},
     "output_type": "execute_result"
    }
   ],
   "source": [
    "import pandas as pd\n",
    "from modules import constants\n",
    "df = pd.read_parquet('parquet_files/box_scores_sports_reference_2024.gzip')\n",
    "df"
   ]
  },
  {
   "cell_type": "code",
   "execution_count": 2,
   "outputs": [
    {
     "data": {
      "text/plain": "          date              opp_name wl score opp_score  fg fga fgpct  3p 3pa  \\\n16  2024-01-23                 WELLS  W   105        49  39  82  .476  17  39   \n11  2023-12-18  BLUEFIELD UNIVERSITY  W   103        70  37  72  .514   8  25   \n\n    ... opp_orb opp_trb opp_ast opp_stl opp_blk opp_tov opp_pf team_name  \\\n16  ...       4      21      10       1       5      18      8   CORNELL   \n11  ...      13      30       8       8       2      16     17  MARSHALL   \n\n   team_id opp_id  \n16     310    NaN  \n11     214    NaN  \n\n[2 rows x 40 columns]",
      "text/html": "<div>\n<style scoped>\n    .dataframe tbody tr th:only-of-type {\n        vertical-align: middle;\n    }\n\n    .dataframe tbody tr th {\n        vertical-align: top;\n    }\n\n    .dataframe thead th {\n        text-align: right;\n    }\n</style>\n<table border=\"1\" class=\"dataframe\">\n  <thead>\n    <tr style=\"text-align: right;\">\n      <th></th>\n      <th>date</th>\n      <th>opp_name</th>\n      <th>wl</th>\n      <th>score</th>\n      <th>opp_score</th>\n      <th>fg</th>\n      <th>fga</th>\n      <th>fgpct</th>\n      <th>3p</th>\n      <th>3pa</th>\n      <th>...</th>\n      <th>opp_orb</th>\n      <th>opp_trb</th>\n      <th>opp_ast</th>\n      <th>opp_stl</th>\n      <th>opp_blk</th>\n      <th>opp_tov</th>\n      <th>opp_pf</th>\n      <th>team_name</th>\n      <th>team_id</th>\n      <th>opp_id</th>\n    </tr>\n  </thead>\n  <tbody>\n    <tr>\n      <th>16</th>\n      <td>2024-01-23</td>\n      <td>WELLS</td>\n      <td>W</td>\n      <td>105</td>\n      <td>49</td>\n      <td>39</td>\n      <td>82</td>\n      <td>.476</td>\n      <td>17</td>\n      <td>39</td>\n      <td>...</td>\n      <td>4</td>\n      <td>21</td>\n      <td>10</td>\n      <td>1</td>\n      <td>5</td>\n      <td>18</td>\n      <td>8</td>\n      <td>CORNELL</td>\n      <td>310</td>\n      <td>NaN</td>\n    </tr>\n    <tr>\n      <th>11</th>\n      <td>2023-12-18</td>\n      <td>BLUEFIELD UNIVERSITY</td>\n      <td>W</td>\n      <td>103</td>\n      <td>70</td>\n      <td>37</td>\n      <td>72</td>\n      <td>.514</td>\n      <td>8</td>\n      <td>25</td>\n      <td>...</td>\n      <td>13</td>\n      <td>30</td>\n      <td>8</td>\n      <td>8</td>\n      <td>2</td>\n      <td>16</td>\n      <td>17</td>\n      <td>MARSHALL</td>\n      <td>214</td>\n      <td>NaN</td>\n    </tr>\n  </tbody>\n</table>\n<p>2 rows × 40 columns</p>\n</div>"
     },
     "execution_count": 2,
     "metadata": {},
     "output_type": "execute_result"
    }
   ],
   "source": [
    "df['team_id'] = df.team_name.map(constants.TEAM_NAME_ID_DICT)\n",
    "df['opp_id'] = df.opp_name.map(constants.TEAM_NAME_ID_DICT)\n",
    "df.loc[df.opp_id.isnull()]"
   ],
   "metadata": {
    "collapsed": false,
    "ExecuteTime": {
     "end_time": "2024-02-02T03:56:14.867261600Z",
     "start_time": "2024-02-02T03:56:14.829989Z"
    }
   },
   "id": "6470b2af49f19007"
  },
  {
   "cell_type": "code",
   "execution_count": 5,
   "outputs": [
    {
     "data": {
      "text/plain": "362"
     },
     "execution_count": 5,
     "metadata": {},
     "output_type": "execute_result"
    }
   ],
   "source": [
    "df.loc[~df.opp_id.isin(constants.NON_D1_IDs)].opp_id.nunique()"
   ],
   "metadata": {
    "collapsed": false,
    "ExecuteTime": {
     "end_time": "2024-02-02T03:56:30.684228500Z",
     "start_time": "2024-02-02T03:56:30.659037Z"
    }
   },
   "id": "d9be13b1d2d2b67"
  },
  {
   "cell_type": "markdown",
   "source": [],
   "metadata": {
    "collapsed": false
   },
   "id": "7424c51345ffc983"
  },
  {
   "cell_type": "code",
   "execution_count": 6,
   "outputs": [
    {
     "data": {
      "text/plain": "[]"
     },
     "execution_count": 6,
     "metadata": {},
     "output_type": "execute_result"
    }
   ],
   "source": [
    "df.opp_name[(~df.opp_name.str.upper().isin(constants.TEAM_NAME_ID_DICT)) & (\n",
    "    ~df.opp_name.str.upper().isin(constants.NON_D1_SCHOOLS))].map(str.upper).tolist()"
   ],
   "metadata": {
    "collapsed": false,
    "ExecuteTime": {
     "end_time": "2024-01-26T21:48:12.401967400Z",
     "start_time": "2024-01-26T21:48:12.385431800Z"
    }
   },
   "id": "2352034b221b3880"
  },
  {
   "cell_type": "code",
   "execution_count": 6,
   "outputs": [
    {
     "data": {
      "text/plain": "785"
     },
     "execution_count": 6,
     "metadata": {},
     "output_type": "execute_result"
    }
   ],
   "source": [
    "max_val = max(constants.TEAM_NAME_ID_DICT.values())\n",
    "max_val +=1\n",
    "max_val"
   ],
   "metadata": {
    "collapsed": false,
    "ExecuteTime": {
     "end_time": "2024-02-02T03:56:36.814196900Z",
     "start_time": "2024-02-02T03:56:36.801977700Z"
    }
   },
   "id": "7ac75f808fd4b0b1"
  },
  {
   "cell_type": "code",
   "execution_count": 7,
   "outputs": [],
   "source": [
    "update_dict = {}\n",
    "for missing_team in df.opp_name[(~df.opp_name.str.upper().isin(constants.TEAM_NAME_ID_DICT)) & (\n",
    "    ~df.opp_name.str.upper().isin(constants.NON_D1_SCHOOLS))].map(str.upper).tolist():\n",
    "    update_dict[missing_team.upper()] = max_val\n",
    "    max_val +=1"
   ],
   "metadata": {
    "collapsed": false,
    "ExecuteTime": {
     "end_time": "2024-02-02T03:56:39.992343100Z",
     "start_time": "2024-02-02T03:56:39.974618Z"
    }
   },
   "id": "2cc77797eba4ad85"
  },
  {
   "cell_type": "code",
   "execution_count": 8,
   "outputs": [
    {
     "data": {
      "text/plain": "[('BLUEFIELD UNIVERSITY', 786), ('WELLS', 785)]"
     },
     "execution_count": 8,
     "metadata": {},
     "output_type": "execute_result"
    }
   ],
   "source": [
    "sorted(update_dict.items())"
   ],
   "metadata": {
    "collapsed": false,
    "ExecuteTime": {
     "end_time": "2024-02-02T03:56:42.039823200Z",
     "start_time": "2024-02-02T03:56:42.018789500Z"
    }
   },
   "id": "f256b47c55c5cf09"
  },
  {
   "cell_type": "code",
   "execution_count": 9,
   "outputs": [],
   "source": [
    "constants.TEAM_NAME_ID_DICT.update(update_dict)"
   ],
   "metadata": {
    "collapsed": false,
    "ExecuteTime": {
     "end_time": "2024-02-02T03:56:44.635299400Z",
     "start_time": "2024-02-02T03:56:44.629300Z"
    }
   },
   "id": "f49a1dfcfe61e803"
  },
  {
   "cell_type": "code",
   "execution_count": 10,
   "outputs": [
    {
     "data": {
      "text/plain": "{'ABILENE CHRISTIAN': 215,\n 'ADAMS STATE': 675,\n 'AIR FORCE': 119,\n 'AKRON': 63,\n 'ALABAMA': 136,\n 'ALABAMA A&AMP;M': 100,\n 'ALABAMA A&M': 420,\n 'ALABAMA STATE': 205,\n 'ALBANY (NY)': 147,\n 'ALBANY STATE (GA)': 542,\n 'ALCORN STATE': 113,\n 'ALICE LLOYD': 714,\n 'AMERICAN': 229,\n 'ANDERSON (SC)': 686,\n 'ANGELO STATE': 587,\n 'ANTELOPE VALLEY': 751,\n 'APPALACHIAN STATE': 326,\n 'AQUINAS': 775,\n 'ARCADIA': 764,\n 'ARIZONA': 31,\n 'ARIZONA STATE': 179,\n 'ARKANSAS': 212,\n 'ARKANSAS BAPTIST': 517,\n 'ARKANSAS STATE': 69,\n 'ARKANSAS-FORT SMITH': 770,\n 'ARKANSAS-PINE BLUFF': 227,\n 'ARLINGTON BAPTIST': 761,\n 'ARMY': 234,\n 'ASBURY': 561,\n 'AUBURN': 171,\n 'AURORA': 550,\n 'AUSTIN PEAY': 353,\n 'AVE MARIA': 385,\n 'AVILA': 400,\n 'BALL STATE': 74,\n 'BARD': 531,\n 'BAYLOR': 122,\n 'BELHAVEN (MS)': 718,\n 'BELLARMINE': 57,\n 'BELLEVUE': 595,\n 'BELMONT': 40,\n 'BENEDICTINE': 478,\n 'BEREA': 652,\n 'BERRY': 520,\n 'BETHANY (WV)': 781,\n 'BETHEL (IN)': 778,\n 'BETHEL (TN)': 759,\n 'BETHESDA UNIVERSITY (CA)': 447,\n 'BETHUNE-COOKMAN': 305,\n 'BINGHAMTON': 137,\n 'BIRMINGHAM-SOUTHERN': 719,\n 'BLACKBURN': 678,\n 'BLOOMSBURG': 757,\n 'BLUE MOUNTAIN COLLEGE': 419,\n 'BLUEFIELD UNIVERSITY': 786,\n 'BOB JONES UNIVERSITY': 642,\n 'BOISE STATE': 236,\n 'BOSTON COLLEGE': 202,\n 'BOSTON UNIVERSITY': 109,\n 'BOWIE STATE': 688,\n 'BOWLING GREEN STATE': 159,\n 'BOYCE': 758,\n 'BRADLEY': 220,\n 'BRESCIA': 399,\n 'BREVARD': 482,\n 'BREWTON-PARKER': 742,\n 'BRIDGEWATER (VA)': 687,\n 'BRIGHAM YOUNG': 3,\n 'BROWN': 293,\n 'BRYAN': 703,\n 'BRYANT': 248,\n 'BRYN ATHYN': 734,\n 'BUCKNELL': 18,\n 'BUFFALO': 46,\n 'BUFFALO STATE': 720,\n 'BUTLER': 213,\n 'BYU': 3,\n 'CAIRN': 571,\n 'CAL POLY': 291,\n 'CAL ST DOMINGUEZ HILLS': 704,\n 'CAL STATE BAKERSFIELD': 53,\n 'CAL STATE FULLERTON': 192,\n 'CAL STATE MARITIME': 731,\n 'CAL STATE NORTHRIDGE': 203,\n 'CAL STATE STANISLAUS': 444,\n 'CALIFORNIA': 277,\n 'CALIFORNIA BAPTIST': 158,\n 'CALUMET COLLEGE': 728,\n 'CAMPBELL': 323,\n 'CAMPBELLSVILLE': 640,\n 'CANISIUS': 143,\n 'CAROLINA': 627,\n 'CARROLL (MT)': 472,\n 'CENTRAL ARKANSAS': 70,\n 'CENTRAL CHRISTIAN': 750,\n 'CENTRAL CONNECTICUT': 438,\n 'CENTRAL CONNECTICUT STATE': 92,\n 'CENTRAL FLORIDA': 83,\n 'CENTRAL MICHIGAN': 88,\n 'CENTRAL PENNSYLVANIA COLLEGE': 649,\n 'CHAMINADE': 626,\n 'CHAMPION CHRISTIAN': 464,\n 'CHARLESTON SOUTHERN': 258,\n 'CHARLOTTE': 76,\n 'CHATTANOOGA': 54,\n 'CHEYNEY': 413,\n 'CHICAGO STATE': 148,\n 'CINCINNATI': 218,\n 'CLARK ATLANTA': 408,\n 'CLARKS SUMMIT': 636,\n 'CLEMSON': 191,\n 'CLEVELAND STATE': 239,\n 'COAST GUARD': 436,\n 'COASTAL CAROLINA': 247,\n 'COASTAL GEORGIA': 423,\n 'COE': 774,\n 'COKER': 743,\n 'COLBY-SAWYER': 780,\n 'COLGATE': 344,\n 'COLLEGE OF CHARLESTON': 329,\n 'COLORADO': 184,\n 'COLORADO CHRISTIAN': 534,\n 'COLORADO COLLEGE': 424,\n 'COLORADO STATE': 297,\n 'COLORADO STATE-PUEBLO': 669,\n 'COLUMBIA': 312,\n 'COLUMBIA INTERNATIONAL': 435,\n 'CONCORDIA (CA)': 596,\n 'CONCORDIA-MOORHEAD': 586,\n 'CONNECTICUT': 144,\n 'COPPIN STATE': 15,\n 'CORNELL': 310,\n 'COVENANT': 372,\n 'CREIGHTON': 188,\n 'CROWN (MN)': 752,\n 'CURRY': 415,\n \"D'YOUVILLE\": 528,\n 'DAKOTA WESLEYAN': 452,\n 'DALLAS': 739,\n 'DALLAS CHRISTIAN': 426,\n 'DALTON STATE': 637,\n 'DARTMOUTH': 130,\n 'DAVENPORT': 663,\n 'DAVIDSON': 0,\n 'DAYTON': 320,\n 'DEFIANCE': 373,\n 'DELAWARE': 172,\n 'DELAWARE STATE': 244,\n 'DELAWARE VALLEY': 735,\n 'DELTA STATE': 453,\n 'DENVER': 75,\n 'DEPAUL': 263,\n 'DEPAUW': 591,\n 'DETROIT MERCY': 289,\n 'DILLARD': 567,\n 'DOANE COLLEGE': 593,\n 'DRAKE': 60,\n 'DREXEL': 318,\n 'DUKE': 347,\n 'DUQUESNE': 169,\n 'EAST CAROLINA': 231,\n 'EAST TENNESSEE STATE': 80,\n 'EAST-WEST': 617,\n 'EASTERN ILLINOIS': 111,\n 'EASTERN KENTUCKY': 308,\n 'EASTERN MENNONITE': 599,\n 'EASTERN MICHIGAN': 21,\n 'EASTERN NEW MEXICO': 716,\n 'EASTERN OREGON': 545,\n 'EASTERN WASHINGTON': 33,\n 'ECCLESIA': 568,\n 'EDWARD WATERS': 726,\n 'ELIZABETH CITY STATE': 721,\n 'ELMS': 694,\n 'ELON': 34,\n 'EMERSON': 707,\n 'ERSKINE': 388,\n 'ETSU': 384,\n 'EUREKA': 536,\n 'EVANSVILLE': 128,\n 'EVERGREEN STATE': 547,\n 'FAIRFIELD': 9,\n 'FAIRLEIGH DICKINSON': 287,\n 'FAIRLEIGH DICKINSON-FLORHAM': 732,\n 'FELICIAN': 569,\n 'FERRUM': 379,\n 'FISHER COLLEGE': 367,\n 'FISK': 462,\n 'FLORIDA': 11,\n 'FLORIDA A&AMP;M': 79,\n 'FLORIDA A&M': 79,\n 'FLORIDA ATLANTIC': 163,\n 'FLORIDA GULF COAST': 6,\n 'FLORIDA INTERNATIONAL': 181,\n 'FLORIDA MEMORIAL': 685,\n 'FLORIDA STATE': 354,\n 'FORDHAM': 65,\n 'FORT VALLEY STATE': 697,\n 'FRAMINGHAM STATE': 529,\n 'FRANCISCAN': 604,\n 'FREDONIA STATE': 558,\n 'FRESNO PACIFIC': 386,\n 'FRESNO STATE': 67,\n 'FRIENDS (KS)': 641,\n 'FURMAN': 230,\n 'GALLAUDET': 705,\n 'GARDNER-WEBB': 346,\n 'GEORGE FOX': 733,\n 'GEORGE MASON': 349,\n 'GEORGE WASHINGTON': 209,\n 'GEORGETOWN': 260,\n 'GEORGIA': 185,\n 'GEORGIA SOUTHERN': 193,\n 'GEORGIA STATE': 106,\n 'GEORGIA TECH': 64,\n 'GOLDEY-BEACOM': 378,\n 'GONZAGA': 355,\n 'GOSHEN': 363,\n 'GRAMBLING': 245,\n 'GRAND CANYON': 78,\n 'GREEN BAY': 222,\n 'GREENSBORO': 665,\n 'GWYNEDD-MERCY': 772,\n 'HAMPTON': 256,\n 'HANNIBAL-LAGRANGE': 639,\n 'HARDIN-SIMMONS': 756,\n 'HARRIS-STOWE': 745,\n 'HARTFORD': 754,\n 'HARVARD': 356,\n 'HAWAII': 631,\n 'HAWAII PACIFIC': 692,\n 'HAWAII-HILO': 546,\n 'HEIDELBERG': 513,\n 'HENDRIX': 370,\n 'HIGH POINT': 149,\n 'HOFSTRA': 309,\n 'HOLY CROSS': 55,\n 'HOOD': 515,\n 'HOUSTON': 335,\n 'HOUSTON CHRISTIAN': 241,\n 'HOWARD': 190,\n 'HOWARD PAYNE': 645,\n 'IDAHO': 86,\n 'IDAHO STATE': 224,\n 'ILLINOIS': 223,\n 'ILLINOIS STATE': 105,\n 'ILLINOIS TECH': 589,\n 'ILLINOIS-CHICAGO': 180,\n 'IMMACULATA': 440,\n 'INCARNATE WORD': 103,\n 'INDIANA': 206,\n 'INDIANA STATE': 316,\n 'IONA': 295,\n 'IOWA': 151,\n 'IOWA STATE': 337,\n 'IUPUI': 186,\n 'JACKSON STATE': 317,\n 'JACKSONVILLE': 219,\n 'JACKSONVILLE STATE': 45,\n 'JAMES MADISON': 274,\n 'JARVIS CHRISTIAN': 403,\n 'JOHN BROWN': 364,\n 'JOHN JAY': 430,\n 'JOHNSON & WALES (NC)': 530,\n 'JOHNSON & WALES (RI)': 601,\n 'JOHNSON (FL)': 398,\n 'JOHNSON STATE': 635,\n 'JOHNSON UNIVERSITY': 628,\n 'KANSAS': 253,\n 'KANSAS CHRISTIAN': 434,\n 'KANSAS CITY': 37,\n 'KANSAS STATE': 102,\n 'KEAN': 738,\n 'KEISER': 554,\n 'KENNESAW STATE': 204,\n 'KENT STATE': 154,\n 'KENTUCKY': 269,\n 'KENTUCKY CHRISTIAN': 776,\n 'KENTUCKY STATE': 463,\n 'KENTUCKY WESLEYAN': 479,\n 'KEYSTONE': 521,\n 'KING (TN)': 380,\n 'LA SALLE': 117,\n 'LA SIERRA': 526,\n 'LA VERNE': 368,\n 'LAFAYETTE': 235,\n 'LAGRANGE': 740,\n 'LAKE ERIE': 644,\n 'LAKE SUPERIOR STATE': 537,\n 'LAMAR': 339,\n 'LE MOYNE': 281,\n 'LEHIGH': 56,\n 'LEMOYNE-OWEN': 684,\n 'LETOURNEAU': 572,\n 'LEWIS & CLARK': 432,\n 'LIBERTY': 216,\n 'LIFE': 519,\n 'LIFE PACIFIC': 458,\n 'LIMESTONE': 543,\n 'LINCOLN (MO)': 443,\n 'LINDENWOOD': 95,\n 'LINDSEY WILSON': 746,\n 'LINFIELD': 429,\n 'LIPSCOMB': 254,\n 'LITTLE ROCK': 261,\n 'LIU': 357,\n 'LONG BEACH STATE': 262,\n 'LONG ISLAND UNIVERSITY': 357,\n 'LONGWOOD': 131,\n 'LORAS': 590,\n 'LOUISIANA': 301,\n 'LOUISIANA CHRISTIAN': 706,\n 'LOUISIANA COLLEGE': 564,\n 'LOUISIANA STATE': 62,\n 'LOUISIANA STATE-SHREVEPORT': 727,\n 'LOUISIANA TECH': 29,\n 'LOUISIANA-MONROE': 85,\n 'LOUISVILLE': 259,\n 'LOURDES': 395,\n 'LOYOLA (IL)': 226,\n 'LOYOLA (LA)': 565,\n 'LOYOLA (MD)': 58,\n 'LOYOLA MARYMOUNT': 300,\n 'LSU': 62,\n 'LUTHER': 576,\n 'LYNCHBURG': 673,\n 'LYNDON STATE': 667,\n 'LYNN': 610,\n 'LYON': 566,\n 'MAINE': 175,\n 'MAINE-PRESQUE ISLE': 406,\n 'MALONE': 402,\n 'MANHATTAN': 48,\n 'MARIST': 311,\n 'MARQUETTE': 348,\n 'MARSHALL': 214,\n 'MARY BALDWIN': 691,\n 'MARYLAND': 155,\n 'MARYLAND-BALTIMORE COUNTY': 26,\n 'MARYLAND-EASTERN SHORE': 201,\n 'MARYWOOD': 653,\n 'MASSACHUSETTS': 94,\n 'MASSACHUSETTS-LOWELL': 126,\n 'MAYVILLE STATE': 744,\n 'MCMURRY': 473,\n 'MCNEESE STATE': 120,\n 'MEDGAR EVERS': 722,\n 'MEMPHIS': 296,\n 'MENLO': 609,\n 'MERCER': 282,\n 'MERCHANT MARINE ACADEMY': 650,\n 'MERCY': 737,\n 'MERRIMACK': 194,\n 'MIAMI (FL)': 7,\n 'MIAMI (OH)': 161,\n 'MIAMI-HAMILTON': 646,\n 'MICHIGAN': 164,\n 'MICHIGAN STATE': 35,\n 'MID-AMERICA CHRISTIAN': 428,\n 'MID-ATLANTIC CHRISTIAN': 404,\n 'MIDDLE GEORGIA STATE': 689,\n 'MIDDLE TENNESSEE': 32,\n 'MIDWAY': 414,\n 'MILLIGAN': 575,\n 'MILLSAPS': 417,\n 'MILWAUKEE': 280,\n 'MILWAUKEE ENGINEERING': 690,\n 'MINNESOTA': 124,\n 'MISSISSIPPI': 39,\n 'MISSISSIPPI COLLEGE': 606,\n 'MISSISSIPPI STATE': 51,\n 'MISSISSIPPI UNIVERSITY FOR WOMEN': 708,\n 'MISSISSIPPI VALLEY STATE': 5,\n 'MISSOURI': 135,\n 'MISSOURI BAPTIST UNIVERSITY': 615,\n 'MISSOURI STATE': 264,\n 'MOBILE': 448,\n 'MOLLOY': 477,\n 'MONMOUTH': 265,\n 'MONMOUTH (IL)': 381,\n 'MONTANA': 208,\n 'MONTANA STATE': 351,\n 'MONTANA STATE-NORTHERN': 711,\n 'MONTANA TECH': 712,\n 'MONTEVALLO': 767,\n 'MONTREAT': 768,\n 'MOREHEAD STATE': 84,\n 'MOREHOUSE': 695,\n 'MORGAN STATE': 77,\n 'MOUNT MARTY': 451,\n 'MOUNT OLIVE': 470,\n 'MOUNT SAINT MARY (NY)': 683,\n 'MOUNT SAINT VINCENT': 671,\n \"MOUNT ST. MARY'S\": 251,\n 'MT. ST. MARY (NY)': 540,\n 'MURRAY STATE': 96,\n 'MUSKINGUM': 779,\n 'NAVY': 273,\n 'NC STATE': 237,\n 'NEBRASKA': 199,\n 'NEVADA': 24,\n 'NEVADA-LAS VEGAS': 350,\n 'NEW HAMPSHIRE': 328,\n 'NEW MEXICO': 146,\n 'NEW MEXICO STATE': 20,\n 'NEW ORLEANS': 160,\n 'NEWPORT NEWS-APPRENTICE': 583,\n 'NIAGARA': 252,\n 'NICHOLLS STATE': 41,\n 'NJIT': 89,\n 'NORFOLK STATE': 307,\n 'NORTH ALABAMA': 87,\n 'NORTH AMERICAN': 459,\n 'NORTH CAROLINA': 108,\n 'NORTH CAROLINA A&AMP;T': 290,\n 'NORTH CAROLINA A&T': 469,\n 'NORTH CAROLINA CENTRAL': 93,\n 'NORTH CENTRAL (MN)': 618,\n 'NORTH DAKOTA': 17,\n 'NORTH DAKOTA STATE': 82,\n 'NORTH FLORIDA': 278,\n 'NORTH GREENVILLE': 387,\n 'NORTH PARK': 455,\n 'NORTH TEXAS': 302,\n 'NORTH TEXAS AT DALLAS': 389,\n 'NORTHEASTERN': 112,\n 'NORTHERN ARIZONA': 97,\n 'NORTHERN COLORADO': 336,\n 'NORTHERN ILLINOIS': 352,\n 'NORTHERN IOWA': 272,\n 'NORTHERN KENTUCKY': 138,\n 'NORTHERN NEW MEXICO': 483,\n 'NORTHLAND': 612,\n 'NORTHWEST INDIAN COLLEGE': 412,\n 'NORTHWEST NAZARENE': 769,\n 'NORTHWEST UNIVERSITY': 549,\n 'NORTHWESTERN': 165,\n 'NORTHWESTERN STATE': 28,\n 'NORTHWOOD': 680,\n 'NOTRE DAME': 292,\n 'NOTRE DAME (MD)': 600,\n 'OAK HILLS': 725,\n 'OAKLAND': 321,\n 'OAKLAND CITY': 361,\n 'OAKWOOD': 401,\n 'OCCIDENTAL': 624,\n 'OGLETHORPE': 514,\n 'OHIO': 183,\n 'OHIO CHRISTIAN': 643,\n 'OHIO DOMINICAN': 655,\n 'OHIO STATE': 173,\n 'OKLAHOMA': 98,\n 'OKLAHOMA STATE': 270,\n 'OLD DOMINION': 68,\n 'OLE MISS': 39,\n 'OMAHA': 268,\n 'ORAL ROBERTS': 275,\n 'OREGON': 59,\n 'OREGON STATE': 125,\n 'OUR LADY OF THE LAKE': 696,\n 'PACIFIC': 129,\n 'PACIFIC LUTHERAN': 548,\n 'PACIFIC UNION': 602,\n 'PARK (AZ)': 773,\n 'PAUL QUINN': 605,\n 'PENN': 73,\n 'PENN ST. - BRANDYWINE': 541,\n 'PENN ST. - YORK': 570,\n 'PENN ST.-WILKES BARRE': 418,\n 'PENN STATE': 168,\n 'PENN STATE NEW KENSINGTON': 771,\n 'PENN STATE-ALLEGHENY': 676,\n 'PENNSYLVANIA': 73,\n 'PEPPERDINE': 279,\n 'PFEIFFER': 763,\n 'PIEDMONT': 374,\n 'PITT': 176,\n 'PITTSBURGH': 176,\n 'PITTSBURGH-GREENSBURG': 603,\n 'POINT LOMA NAZARENE': 608,\n 'POINT PARK': 441,\n 'PORTLAND': 12,\n 'PORTLAND BIBLE': 681,\n 'PORTLAND STATE': 314,\n 'PRAIRIE VIEW': 333,\n 'PRESBYTERIAN': 1,\n 'PRINCETON': 242,\n 'PROVIDENCE': 47,\n 'PURDUE': 66,\n 'PURDUE FORT WAYNE': 325,\n 'QUEENS (NC)': 4,\n 'QUEENS (NY)': 784,\n 'QUINNIPIAC': 338,\n 'RADFORD': 207,\n 'REGENT': 480,\n 'REINHARDT': 622,\n 'RHODE ISLAND': 152,\n 'RHODE ISLAND COLLEGE': 523,\n 'RICE': 303,\n 'RICHMOND': 115,\n 'RIDER': 283,\n 'RIVIER': 407,\n 'ROBERT MORRIS': 123,\n 'ROCKFORD': 702,\n 'ROCKY MOUNTAIN': 577,\n 'ROSEMONT': 700,\n 'RUST': 723,\n 'RUTGERS': 132,\n 'SACRAMENTO STATE': 162,\n 'SACRED HEART': 118,\n 'SAGINAW VALLEY': 658,\n 'SAGU AMER. INDIAN COLL.': 713,\n 'SAINT FRANCIS (PA)': 267,\n \"SAINT JOSEPH'S\": 189,\n \"SAINT JOSEPH'S LONG ISLAND\": 461,\n 'SAINT LOUIS': 250,\n 'SAINT MARY (KS)': 553,\n \"SAINT MARY'S\": 27,\n \"SAINT MARY'S (CA)\": 27,\n 'SAINT MARY-OF-THE-WOODS COLLEGE': 396,\n \"SAINT PETER'S\": 22,\n 'SAINT VINCENT (PA)': 736,\n 'SAINT XAVIER (IL)': 783,\n 'SAM HOUSTON': 221,\n 'SAMFORD': 322,\n 'SAN DIEGO': 238,\n 'SAN DIEGO ST.': 294,\n 'SAN DIEGO STATE': 294,\n 'SAN FRANCISCO': 72,\n 'SAN FRANCISCO STATE': 369,\n 'SAN JOSE STATE': 139,\n 'SANTA CLARA': 342,\n 'SARAH LAWRENCE': 442,\n 'SCHREINER': 551,\n 'SCIENCE AND ARTS OF OKLAHOMA': 474,\n 'SEATTLE': 16,\n 'SETON HALL': 319,\n 'SHAWNEE STATE': 578,\n 'SIENA': 174,\n 'SIENA HEIGHTS': 656,\n 'SIU EDWARDSVILLE': 315,\n 'SIU-EDWARDSVILLE': 377,\n 'SMU': 81,\n 'SONOMA STATE': 445,\n 'SOUTH ALABAMA': 334,\n 'SOUTH CAROLINA': 104,\n 'SOUTH CAROLINA STATE': 14,\n 'SOUTH CAROLINA UPSTATE': 195,\n 'SOUTH DAKOTA': 13,\n 'SOUTH DAKOTA MINES': 471,\n 'SOUTH DAKOTA STATE': 177,\n 'SOUTH FLORIDA': 228,\n 'SOUTHEAST MISSOURI STATE': 233,\n 'SOUTHEASTERN LOUISIANA': 345,\n 'SOUTHERN': 330,\n 'SOUTHERN CALIFORNIA': 116,\n 'SOUTHERN ILLINOIS': 49,\n 'SOUTHERN INDIANA': 23,\n 'SOUTHERN METHODIST': 81,\n 'SOUTHERN MISS': 196,\n 'SOUTHERN MISSISSIPPI': 196,\n 'SOUTHERN UTAH': 266,\n 'SOUTHERN VIRGINIA': 527,\n 'SOUTHERN WESLEYAN': 777,\n 'SOUTHERN-NEW ORLEANS': 614,\n 'SOUTHERN–NEW ORLEANS': 765,\n 'SOUTHWEST MINNESOTA STATE': 535,\n 'SOUTHWESTERN ADVENTIST': 466,\n 'SOUTHWESTERN CHRISTIAN': 516,\n 'SOUTHWESTERN OKLAHOMA STATE': 766,\n 'SPALDING': 397,\n 'SPRING HILL': 741,\n 'SPRINGFIELD': 524,\n 'ST. AMBROSE': 638,\n 'ST. ANDREWS': 392,\n \"ST. AUGUSTINE'S\": 661,\n 'ST. BONAVENTURE': 36,\n 'ST. ELIZABETH': 662,\n 'ST. FRANCIS (IL)': 390,\n \"ST. JOHN'S (NY)\": 200,\n \"ST. JOSEPH'S\": 189,\n \"ST. JOSEPH'S–LONG ISLAND\": 755,\n 'ST. KATHERINE': 525,\n \"ST. MARY'S (MD)\": 562,\n \"ST. PETER'S\": 22,\n 'ST. THOMAS': 240,\n 'ST. THOMAS (TX)': 439,\n 'STANFORD': 61,\n 'STEPHEN F. AUSTIN': 90,\n 'STETSON': 271,\n 'STONEHILL': 38,\n 'STONY BROOK': 43,\n 'SUL ROSS STATE': 416,\n 'SUNY DELHI': 532,\n 'SUNY MORRISVILLE': 375,\n 'SUNY-CANTON': 557,\n 'SUNY-MARITIME': 518,\n 'SUNY-ONEONTA': 559,\n 'SUNY-PLATTSBURGH': 634,\n 'SUNY-POTSDAM': 648,\n 'SW ASSEMBL. OF GOD': 456,\n 'SYRACUSE': 107,\n 'TABOR COLLEGE': 699,\n 'TALLADEGA': 710,\n 'TARLETON STATE': 331,\n 'TCU': 286,\n 'TEMPLE': 276,\n 'TENNESSEE': 166,\n 'TENNESSEE STATE': 232,\n 'TENNESSEE TECH': 42,\n 'TENNESSEE WESLEYAN': 666,\n 'TENNESSEE-MARTIN': 332,\n 'TEXAS': 187,\n 'TEXAS A&AMP;M': 145,\n 'TEXAS A&AMP;M-COMMERCE': 304,\n 'TEXAS A&AMP;M-CORPUS CHRISTI': 178,\n 'TEXAS A&M': 145,\n 'TEXAS A&M-COMMERCE': 304,\n 'TEXAS A&M-CORPUS CHRISTI': 178,\n 'TEXAS LUTHERAN': 762,\n 'TEXAS SOUTHERN': 343,\n 'TEXAS STATE': 133,\n 'TEXAS TECH': 313,\n 'TEXAS-RIO GRANDE VALLEY': 10,\n 'TEXAS-TYLER': 630,\n 'THE CITADEL': 141,\n 'THOMAS (ME)': 672,\n 'THOMAS UNIVERSITY': 709,\n 'TIFFIN': 616,\n 'TOCCOA FALLS': 371,\n 'TOLEDO': 243,\n 'TOWSON': 197,\n 'TREVECCA NAZARENE': 698,\n 'TRINITY (FL)': 365,\n 'TRINITY BAPTIST': 460,\n 'TRINITY CHRISTIAN': 475,\n 'TROY': 99,\n 'TRUETT-MCCONNELL': 724,\n 'TRUMAN STATE': 657,\n 'TULANE': 114,\n 'TULSA': 91,\n 'TUSCULUM': 677,\n 'UAB': 340,\n 'UC DAVIS': 19,\n 'UC IRVINE': 170,\n 'UC RIVERSIDE': 134,\n 'UC SAN DIEGO': 284,\n 'UC SANTA BARBARA': 50,\n 'UC-DAVIS': 19,\n 'UC-IRVINE': 170,\n 'UC-MERCED': 468,\n 'UC-RIVERSIDE': 134,\n 'UC-SAN DIEGO': 284,\n 'UCF': 83,\n 'UCLA': 288,\n 'UCONN': 144,\n 'UCSB': 433,\n 'UIC': 180,\n 'UMASS': 94,\n 'UMASS-LOWELL': 126,\n 'UMBC': 26,\n 'UNC': 108,\n 'UNC ASHEVILLE': 225,\n 'UNC GREENSBORO': 358,\n 'UNC WILMINGTON': 257,\n 'UNIV. OF FT. LAUDERDALE': 467,\n 'UNIVERSITY OF THE CUMBERLANDS (KY)': 729,\n 'UNIVERSITY OF THE SOUTHWEST': 580,\n 'UNLV': 350,\n 'USC': 116,\n 'USC UPSTATE': 476,\n 'UT ARLINGTON': 30,\n 'UT-MARTIN': 512,\n 'UTAH': 52,\n 'UTAH STATE': 327,\n 'UTAH TECH': 8,\n 'UTAH VALLEY': 249,\n 'UTEP': 101,\n 'UTSA': 182,\n 'VALLEY CITY STATE': 585,\n 'VALPARAISO': 127,\n 'VANDERBILT': 2,\n 'VANGUARD': 366,\n 'VASSAR': 484,\n 'VCU': 341,\n 'VERMONT': 217,\n 'VILLANOVA': 246,\n 'VIRGINIA': 121,\n 'VIRGINIA COMMONWEALTH': 341,\n 'VIRGINIA TECH': 255,\n 'VIRGINIA WESLEYAN': 427,\n 'VIRGINIA-LYNCHBURG': 421,\n 'VMI': 157,\n 'VOORHEES': 450,\n 'WAGNER': 211,\n 'WAKE FOREST': 324,\n 'WALDORF': 613,\n 'WALLA WALLA': 538,\n 'WARNER PACIFIC': 394,\n 'WARREN WILSON': 539,\n 'WASHINGTON': 25,\n 'WASHINGTON & LEE': 376,\n 'WASHINGTON COLLEGE': 715,\n 'WASHINGTON STATE': 142,\n 'WEBER STATE': 167,\n 'WELLS': 785,\n 'WEST VIRGINIA': 150,\n 'WEST VIRGINIA TECH': 382,\n 'WESTCLIFF': 405,\n 'WESTERN CAROLINA': 620,\n 'WESTERN COLORADO': 633,\n 'WESTERN ILLINOIS': 198,\n 'WESTERN KENTUCKY': 71,\n 'WESTERN MICHIGAN': 153,\n 'WESTERN NEW MEXICO': 579,\n 'WESTERN OREGON': 654,\n 'WESTFIELD STATE': 533,\n 'WESTMINSTER (PA)': 782,\n 'WESTMONT': 625,\n 'WHITTIER': 659,\n 'WICHITA STATE': 110,\n 'WILBERFORCE': 383,\n 'WILEY': 749,\n 'WILKES': 556,\n 'WILLAMETTE': 597,\n 'WILLIAM & MARY': 285,\n 'WILLIAM &AMP; MARY': 285,\n 'WILLIAM CAREY': 457,\n 'WILLIAM JESSUP': 623,\n 'WILLIAM PEACE': 629,\n 'WILLIAM WOODS': 760,\n 'WINTHROP': 210,\n 'WISCONSIN': 306,\n 'WISCONSIN-RIVER FALLS': 753,\n 'WISCONSIN-STOUT': 410,\n 'WITTENBERG': 598,\n 'WOFFORD': 140,\n 'WORCESTER STATE': 409,\n 'WRIGHT STATE': 359,\n 'WYOMING': 298,\n 'XAVIER': 156,\n 'XAVIER (LA)': 360,\n 'YALE': 44,\n 'YORK (NE)': 594,\n 'YOUNGSTOWN STATE': 299}"
     },
     "execution_count": 10,
     "metadata": {},
     "output_type": "execute_result"
    }
   ],
   "source": [
    "dict(sorted(constants.TEAM_NAME_ID_DICT.items()))"
   ],
   "metadata": {
    "collapsed": false,
    "ExecuteTime": {
     "end_time": "2024-02-02T03:56:47.474797800Z",
     "start_time": "2024-02-02T03:56:47.459137Z"
    }
   },
   "id": "c5714b35e08300be"
  },
  {
   "cell_type": "markdown",
   "source": [
    "Finding D2 Schools\n",
    "Find all entries in the opponent column which appear no more than 3 times AND do not appear in the `tean_name`\n",
    "column"
   ],
   "metadata": {
    "collapsed": false
   },
   "id": "a7eb73708a44d3c1"
  },
  {
   "cell_type": "code",
   "execution_count": 11,
   "outputs": [
    {
     "data": {
      "text/plain": "{'ADAMS STATE',\n 'ALBANY STATE (GA)',\n 'ALICE LLOYD',\n 'ANDERSON (SC)',\n 'ANGELO STATE',\n 'ANTELOPE VALLEY',\n 'AQUINAS',\n 'ARCADIA',\n 'ARKANSAS BAPTIST',\n 'ARKANSAS-FORT SMITH',\n 'ARLINGTON BAPTIST',\n 'ASBURY',\n 'AURORA',\n 'AVE MARIA',\n 'AVILA',\n 'BARD',\n 'BELHAVEN (MS)',\n 'BELLEVUE',\n 'BENEDICTINE',\n 'BEREA',\n 'BERRY',\n 'BETHANY (WV)',\n 'BETHEL (IN)',\n 'BETHEL (TN)',\n 'BIRMINGHAM-SOUTHERN',\n 'BLACKBURN',\n 'BLOOMSBURG',\n 'BLUE MOUNTAIN COLLEGE',\n 'BLUEFIELD UNIVERSITY',\n 'BOB JONES UNIVERSITY',\n 'BOWIE STATE',\n 'BOYCE',\n 'BREVARD',\n 'BREWTON-PARKER',\n 'BRIDGEWATER (VA)',\n 'BRYAN',\n 'BRYN ATHYN',\n 'BUFFALO STATE',\n 'CAIRN',\n 'CAL ST DOMINGUEZ HILLS',\n 'CAL STATE MARITIME',\n 'CAL STATE STANISLAUS',\n 'CALUMET COLLEGE',\n 'CAMPBELLSVILLE',\n 'CAROLINA',\n 'CARROLL (MT)',\n 'CENTRAL CHRISTIAN',\n 'CENTRAL PENNSYLVANIA COLLEGE',\n 'CHAMINADE',\n 'CHEYNEY',\n 'CLARK ATLANTA',\n 'CLARKS SUMMIT',\n 'COAST GUARD',\n 'COASTAL GEORGIA',\n 'COE',\n 'COKER',\n 'COLBY-SAWYER',\n 'COLORADO CHRISTIAN',\n 'COLORADO COLLEGE',\n 'COLORADO STATE-PUEBLO',\n 'COLUMBIA INTERNATIONAL',\n 'CONCORDIA (CA)',\n 'CONCORDIA-MOORHEAD',\n 'COVENANT',\n 'CROWN (MN)',\n 'CURRY',\n \"D'YOUVILLE\",\n 'DAKOTA WESLEYAN',\n 'DALLAS',\n 'DALTON STATE',\n 'DAVENPORT',\n 'DEFIANCE',\n 'DELAWARE VALLEY',\n 'DELTA STATE',\n 'DEPAUW',\n 'DILLARD',\n 'DOANE COLLEGE',\n 'EAST-WEST',\n 'EASTERN MENNONITE',\n 'EASTERN NEW MEXICO',\n 'EASTERN OREGON',\n 'EDWARD WATERS',\n 'ELIZABETH CITY STATE',\n 'ELMS',\n 'EMERSON',\n 'ERSKINE',\n 'EUREKA',\n 'EVERGREEN STATE',\n 'FAIRLEIGH DICKINSON-FLORHAM',\n 'FELICIAN',\n 'FERRUM',\n 'FISHER COLLEGE',\n 'FISK',\n 'FLORIDA MEMORIAL',\n 'FORT VALLEY STATE',\n 'FRAMINGHAM STATE',\n 'FRANCISCAN',\n 'FREDONIA STATE',\n 'FRESNO PACIFIC',\n 'FRIENDS (KS)',\n 'GALLAUDET',\n 'GEORGE FOX',\n 'GOLDEY-BEACOM',\n 'GOSHEN',\n 'GREENSBORO',\n 'GWYNEDD-MERCY',\n 'HANNIBAL-LAGRANGE',\n 'HARDIN-SIMMONS',\n 'HARRIS-STOWE',\n 'HARTFORD',\n 'HAWAII PACIFIC',\n 'HAWAII-HILO',\n 'HEIDELBERG',\n 'HENDRIX',\n 'HOOD',\n 'HOWARD PAYNE',\n 'ILLINOIS TECH',\n 'IMMACULATA',\n 'JARVIS CHRISTIAN',\n 'JOHN BROWN',\n 'JOHN JAY',\n 'JOHNSON & WALES (NC)',\n 'JOHNSON & WALES (RI)',\n 'JOHNSON (FL)',\n 'JOHNSON STATE',\n 'JOHNSON UNIVERSITY',\n 'KANSAS CHRISTIAN',\n 'KEAN',\n 'KEISER',\n 'KENTUCKY CHRISTIAN',\n 'KENTUCKY STATE',\n 'KENTUCKY WESLEYAN',\n 'KEYSTONE',\n 'KING (TN)',\n 'LA SIERRA',\n 'LA VERNE',\n 'LAGRANGE',\n 'LAKE ERIE',\n 'LAKE SUPERIOR STATE',\n 'LEMOYNE-OWEN',\n 'LETOURNEAU',\n 'LEWIS & CLARK',\n 'LIFE',\n 'LIFE PACIFIC',\n 'LIMESTONE',\n 'LINCOLN (MO)',\n 'LINDSEY WILSON',\n 'LINFIELD',\n 'LORAS',\n 'LOUISIANA CHRISTIAN',\n 'LOUISIANA STATE-SHREVEPORT',\n 'LOURDES',\n 'LOYOLA (LA)',\n 'LUTHER',\n 'LYNCHBURG',\n 'LYNDON STATE',\n 'LYNN',\n 'LYON',\n 'MAINE-PRESQUE ISLE',\n 'MALONE',\n 'MARY BALDWIN',\n 'MARYWOOD',\n 'MAYVILLE STATE',\n 'MCMURRY',\n 'MEDGAR EVERS',\n 'MENLO',\n 'MERCHANT MARINE ACADEMY',\n 'MERCY',\n 'MIAMI-HAMILTON',\n 'MID-AMERICA CHRISTIAN',\n 'MIDDLE GEORGIA STATE',\n 'MILLIGAN',\n 'MILLSAPS',\n 'MILWAUKEE ENGINEERING',\n 'MISSISSIPPI COLLEGE',\n 'MISSISSIPPI UNIVERSITY FOR WOMEN',\n 'MISSOURI BAPTIST UNIVERSITY',\n 'MOBILE',\n 'MOLLOY',\n 'MONMOUTH (IL)',\n 'MONTANA STATE-NORTHERN',\n 'MONTANA TECH',\n 'MONTEVALLO',\n 'MONTREAT',\n 'MOREHOUSE',\n 'MOUNT MARTY',\n 'MOUNT OLIVE',\n 'MOUNT SAINT MARY (NY)',\n 'MOUNT SAINT VINCENT',\n 'MUSKINGUM',\n 'NEWPORT NEWS-APPRENTICE',\n 'NORTH AMERICAN',\n 'NORTH CENTRAL (MN)',\n 'NORTH GREENVILLE',\n 'NORTH PARK',\n 'NORTH TEXAS AT DALLAS',\n 'NORTHLAND',\n 'NORTHWEST INDIAN COLLEGE',\n 'NORTHWEST NAZARENE',\n 'NORTHWEST UNIVERSITY',\n 'NORTHWOOD',\n 'NOTRE DAME (MD)',\n 'OAK HILLS',\n 'OAKLAND CITY',\n 'OAKWOOD',\n 'OCCIDENTAL',\n 'OGLETHORPE',\n 'OHIO CHRISTIAN',\n 'OHIO DOMINICAN',\n 'OUR LADY OF THE LAKE',\n 'PACIFIC LUTHERAN',\n 'PACIFIC UNION',\n 'PARK (AZ)',\n 'PAUL QUINN',\n 'PENN ST. - BRANDYWINE',\n 'PENN ST. - YORK',\n 'PENN ST.-WILKES BARRE',\n 'PENN STATE NEW KENSINGTON',\n 'PENN STATE-ALLEGHENY',\n 'PFEIFFER',\n 'PIEDMONT',\n 'PITTSBURGH-GREENSBURG',\n 'POINT LOMA NAZARENE',\n 'POINT PARK',\n 'PORTLAND BIBLE',\n 'QUEENS (NY)',\n 'REGENT',\n 'REINHARDT',\n 'RHODE ISLAND COLLEGE',\n 'RIVIER',\n 'ROCKFORD',\n 'ROCKY MOUNTAIN',\n 'ROSEMONT',\n 'RUST',\n 'SAGINAW VALLEY',\n 'SAGU AMER. INDIAN COLL.',\n 'SAINT MARY (KS)',\n 'SAINT MARY-OF-THE-WOODS COLLEGE',\n 'SAINT VINCENT (PA)',\n 'SAINT XAVIER (IL)',\n 'SAN FRANCISCO STATE',\n 'SARAH LAWRENCE',\n 'SCHREINER',\n 'SCIENCE AND ARTS OF OKLAHOMA',\n 'SHAWNEE STATE',\n 'SIENA HEIGHTS',\n 'SONOMA STATE',\n 'SOUTH DAKOTA MINES',\n 'SOUTHERN VIRGINIA',\n 'SOUTHERN WESLEYAN',\n 'SOUTHWEST MINNESOTA STATE',\n 'SOUTHWESTERN ADVENTIST',\n 'SOUTHWESTERN CHRISTIAN',\n 'SOUTHWESTERN OKLAHOMA STATE',\n 'SPALDING',\n 'SPRING HILL',\n 'SPRINGFIELD',\n 'ST. AMBROSE',\n \"ST. AUGUSTINE'S\",\n 'ST. ELIZABETH',\n 'ST. FRANCIS (IL)',\n \"ST. JOSEPH'S–LONG ISLAND\",\n 'ST. KATHERINE',\n \"ST. MARY'S (MD)\",\n 'ST. THOMAS (TX)',\n 'SUL ROSS STATE',\n 'SUNY DELHI',\n 'SUNY MORRISVILLE',\n 'SUNY-CANTON',\n 'SUNY-MARITIME',\n 'SUNY-ONEONTA',\n 'SUNY-PLATTSBURGH',\n 'SUNY-POTSDAM',\n 'SW ASSEMBL. OF GOD',\n 'TABOR COLLEGE',\n 'TALLADEGA',\n 'TENNESSEE WESLEYAN',\n 'TEXAS LUTHERAN',\n 'TEXAS-TYLER',\n 'THOMAS (ME)',\n 'THOMAS UNIVERSITY',\n 'TIFFIN',\n 'TREVECCA NAZARENE',\n 'TRINITY (FL)',\n 'TRINITY CHRISTIAN',\n 'TRUETT-MCCONNELL',\n 'TRUMAN STATE',\n 'TUSCULUM',\n 'UC-MERCED',\n 'UNIV. OF FT. LAUDERDALE',\n 'UNIVERSITY OF THE CUMBERLANDS (KY)',\n 'UNIVERSITY OF THE SOUTHWEST',\n 'VALLEY CITY STATE',\n 'VANGUARD',\n 'VASSAR',\n 'VIRGINIA WESLEYAN',\n 'VOORHEES',\n 'WALDORF',\n 'WALLA WALLA',\n 'WARNER PACIFIC',\n 'WARREN WILSON',\n 'WASHINGTON & LEE',\n 'WASHINGTON COLLEGE',\n 'WELLS',\n 'WEST VIRGINIA TECH',\n 'WESTCLIFF',\n 'WESTERN COLORADO',\n 'WESTERN NEW MEXICO',\n 'WESTERN OREGON',\n 'WESTFIELD STATE',\n 'WESTMINSTER (PA)',\n 'WESTMONT',\n 'WHITTIER',\n 'WILBERFORCE',\n 'WILEY',\n 'WILKES',\n 'WILLAMETTE',\n 'WILLIAM CAREY',\n 'WILLIAM JESSUP',\n 'WILLIAM PEACE',\n 'WILLIAM WOODS',\n 'WISCONSIN-RIVER FALLS',\n 'WISCONSIN-STOUT',\n 'WITTENBERG',\n 'WORCESTER STATE',\n 'XAVIER (LA)',\n 'YORK (NE)'}"
     },
     "execution_count": 11,
     "metadata": {},
     "output_type": "execute_result"
    }
   ],
   "source": [
    "probably_d_2_schools = set(df.opp_name.value_counts()[lambda x: x <=3].index.tolist()).difference(set(df.team_name.unique().tolist()))\n",
    "len(probably_d_2_schools)\n",
    "probably_d_2_schools"
   ],
   "metadata": {
    "collapsed": false,
    "ExecuteTime": {
     "end_time": "2024-02-02T03:58:54.264235900Z",
     "start_time": "2024-02-02T03:58:54.230143300Z"
    }
   },
   "id": "b5190477566dfbaf"
  },
  {
   "cell_type": "code",
   "execution_count": 12,
   "outputs": [
    {
     "data": {
      "text/plain": "{360,\n 361,\n 363,\n 364,\n 365,\n 366,\n 367,\n 368,\n 369,\n 370,\n 372,\n 374,\n 375,\n 376,\n 378,\n 379,\n 380,\n 381,\n 382,\n 383,\n 385,\n 386,\n 388,\n 390,\n 394,\n 395,\n 396,\n 397,\n 400,\n 401,\n 402,\n 403,\n 406,\n 407,\n 408,\n 409,\n 410,\n 412,\n 413,\n 415,\n 416,\n 417,\n 418,\n 419,\n 423,\n 424,\n 427,\n 428,\n 429,\n 430,\n 432,\n 434,\n 435,\n 436,\n 439,\n 440,\n 441,\n 442,\n 443,\n 444,\n 445,\n 448,\n 450,\n 452,\n 453,\n 455,\n 456,\n 457,\n 462,\n 467,\n 468,\n 470,\n 471,\n 472,\n 473,\n 474,\n 475,\n 477,\n 478,\n 479,\n 480,\n 482,\n 484,\n 513,\n 514,\n 515,\n 516,\n 517,\n 518,\n 519,\n 520,\n 521,\n 523,\n 524,\n 525,\n 526,\n 527,\n 528,\n 529,\n 530,\n 531,\n 532,\n 533,\n 534,\n 535,\n 536,\n 537,\n 538,\n 539,\n 541,\n 542,\n 543,\n 545,\n 546,\n 547,\n 548,\n 549,\n 550,\n 551,\n 553,\n 554,\n 556,\n 557,\n 558,\n 559,\n 561,\n 562,\n 565,\n 566,\n 567,\n 569,\n 570,\n 571,\n 572,\n 575,\n 576,\n 577,\n 578,\n 579,\n 580,\n 583,\n 585,\n 586,\n 587,\n 589,\n 590,\n 591,\n 593,\n 594,\n 595,\n 596,\n 597,\n 598,\n 599,\n 600,\n 601,\n 602,\n 603,\n 604,\n 606,\n 608,\n 609,\n 610,\n 612,\n 613,\n 615,\n 616,\n 617,\n 618,\n 622,\n 623,\n 624,\n 625,\n 628,\n 629,\n 630,\n 633,\n 634,\n 635,\n 636,\n 637,\n 638,\n 639,\n 640,\n 641,\n 642,\n 643,\n 644,\n 645,\n 646,\n 648,\n 649,\n 650,\n 652,\n 653,\n 654,\n 655,\n 656,\n 657,\n 658,\n 659,\n 661,\n 662,\n 663,\n 665,\n 666,\n 667,\n 669,\n 671,\n 672,\n 673,\n 675,\n 676,\n 677,\n 678,\n 680,\n 681,\n 683,\n 684,\n 685,\n 686,\n 687,\n 688,\n 689,\n 690,\n 691,\n 692,\n 694,\n 695,\n 696,\n 697,\n 698,\n 699,\n 700,\n 702,\n 703,\n 704,\n 705,\n 706,\n 707,\n 708,\n 709,\n 710,\n 711,\n 712,\n 713,\n 714,\n 715,\n 716,\n 718,\n 719,\n 720,\n 721,\n 722,\n 723,\n 724,\n 725,\n 726,\n 727,\n 728,\n 729,\n 731,\n 732,\n 733,\n 734,\n 735,\n 736,\n 737,\n 738,\n 739,\n 740,\n 741,\n 742,\n 743,\n 744,\n 745,\n 746,\n 749,\n 750,\n 751,\n 752,\n 753,\n 754,\n 755,\n 756,\n 757,\n 759,\n 760,\n 761,\n 762,\n 763,\n 764,\n 766,\n 767,\n 768,\n 769,\n 770,\n 771,\n 772,\n 773,\n 774,\n 775,\n 776,\n 777,\n 778,\n 779,\n 780,\n 781,\n 782,\n 783,\n 784,\n 785,\n 786}"
     },
     "execution_count": 12,
     "metadata": {},
     "output_type": "execute_result"
    }
   ],
   "source": [
    "update_set = {constants.TEAM_NAME_ID_DICT.get(team) for team in df.opp_name.value_counts()[lambda x: x <=2].index.tolist()}\n",
    "update_set"
   ],
   "metadata": {
    "collapsed": false,
    "ExecuteTime": {
     "end_time": "2024-02-02T03:58:56.917589400Z",
     "start_time": "2024-02-02T03:58:56.892940900Z"
    }
   },
   "id": "54587242994fbe30"
  }
 ],
 "metadata": {
  "kernelspec": {
   "display_name": "Python 3",
   "language": "python",
   "name": "python3"
  },
  "language_info": {
   "codemirror_mode": {
    "name": "ipython",
    "version": 2
   },
   "file_extension": ".py",
   "mimetype": "text/x-python",
   "name": "python",
   "nbconvert_exporter": "python",
   "pygments_lexer": "ipython2",
   "version": "2.7.6"
  }
 },
 "nbformat": 4,
 "nbformat_minor": 5
}
