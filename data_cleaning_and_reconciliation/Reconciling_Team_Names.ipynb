{
 "cells": [
  {
   "cell_type": "code",
   "execution_count": null,
   "id": "initial_id",
   "metadata": {
    "collapsed": true
   },
   "outputs": [],
   "source": [
    "import pandas as pd\n",
    "from modules import constants\n",
    "df = pd.read_parquet('../parquet_files/box_scores_sports_reference_2024.gzip')\n",
    "df"
   ]
  },
  {
   "cell_type": "code",
   "execution_count": null,
   "outputs": [],
   "source": [
    "df['team_id'] = df.team_name.map(constants.TEAM_NAME_ID_DICT)\n",
    "df['opp_id'] = df.opp_name.map(constants.TEAM_NAME_ID_DICT)\n",
    "df.loc[df.opp_id.isnull()]"
   ],
   "metadata": {
    "collapsed": false
   },
   "id": "6470b2af49f19007"
  },
  {
   "cell_type": "code",
   "execution_count": null,
   "outputs": [],
   "source": [
    "df.loc[~df.opp_id.isin(constants.NON_D1_IDs)].opp_id.nunique()"
   ],
   "metadata": {
    "collapsed": false
   },
   "id": "d9be13b1d2d2b67"
  },
  {
   "cell_type": "markdown",
   "source": [],
   "metadata": {
    "collapsed": false
   },
   "id": "7424c51345ffc983"
  },
  {
   "cell_type": "code",
   "execution_count": null,
   "outputs": [],
   "source": [
    "df.opp_name[(~df.opp_name.str.upper().isin(constants.TEAM_NAME_ID_DICT)) & (\n",
    "    ~df.opp_name.str.upper().isin(constants.NON_D1_SCHOOLS))].map(str.upper).tolist()"
   ],
   "metadata": {
    "collapsed": false
   },
   "id": "2352034b221b3880"
  },
  {
   "cell_type": "code",
   "execution_count": null,
   "outputs": [],
   "source": [
    "max_val = max(constants.TEAM_NAME_ID_DICT.values())\n",
    "max_val +=1\n",
    "max_val"
   ],
   "metadata": {
    "collapsed": false
   },
   "id": "7ac75f808fd4b0b1"
  },
  {
   "cell_type": "code",
   "execution_count": null,
   "outputs": [],
   "source": [
    "update_dict = {}\n",
    "for missing_team in df.opp_name[(~df.opp_name.str.upper().isin(constants.TEAM_NAME_ID_DICT)) & (\n",
    "    ~df.opp_name.str.upper().isin(constants.NON_D1_SCHOOLS))].map(str.upper).tolist():\n",
    "    update_dict[missing_team.upper()] = max_val\n",
    "    max_val +=1"
   ],
   "metadata": {
    "collapsed": false
   },
   "id": "2cc77797eba4ad85"
  },
  {
   "cell_type": "code",
   "execution_count": null,
   "outputs": [],
   "source": [
    "sorted(update_dict.items())"
   ],
   "metadata": {
    "collapsed": false
   },
   "id": "f256b47c55c5cf09"
  },
  {
   "cell_type": "code",
   "execution_count": null,
   "outputs": [],
   "source": [
    "constants.TEAM_NAME_ID_DICT.update(update_dict)"
   ],
   "metadata": {
    "collapsed": false
   },
   "id": "f49a1dfcfe61e803"
  },
  {
   "cell_type": "code",
   "execution_count": null,
   "outputs": [],
   "source": [
    "dict(sorted(constants.TEAM_NAME_ID_DICT.items()))"
   ],
   "metadata": {
    "collapsed": false
   },
   "id": "c5714b35e08300be"
  },
  {
   "cell_type": "markdown",
   "source": [
    "Finding D2 Schools\n",
    "Find all entries in the opponent column which appear no more than 3 times AND do not appear in the `tean_name`\n",
    "column"
   ],
   "metadata": {
    "collapsed": false
   },
   "id": "a7eb73708a44d3c1"
  },
  {
   "cell_type": "code",
   "execution_count": null,
   "outputs": [],
   "source": [
    "probably_d_2_schools = set(df.opp_name.value_counts()[lambda x: x <=3].index.tolist()).difference(set(df.team_name.unique().tolist()))\n",
    "len(probably_d_2_schools)\n",
    "probably_d_2_schools"
   ],
   "metadata": {
    "collapsed": false
   },
   "id": "b5190477566dfbaf"
  },
  {
   "cell_type": "code",
   "execution_count": null,
   "outputs": [],
   "source": [
    "update_set = {constants.TEAM_NAME_ID_DICT.get(team) for team in df.opp_name.value_counts()[lambda x: x <=2].index.tolist()}\n",
    "update_set"
   ],
   "metadata": {
    "collapsed": false
   },
   "id": "54587242994fbe30"
  }
 ],
 "metadata": {
  "kernelspec": {
   "display_name": "Python 3",
   "language": "python",
   "name": "python3"
  },
  "language_info": {
   "codemirror_mode": {
    "name": "ipython",
    "version": 2
   },
   "file_extension": ".py",
   "mimetype": "text/x-python",
   "name": "python",
   "nbconvert_exporter": "python",
   "pygments_lexer": "ipython2",
   "version": "2.7.6"
  }
 },
 "nbformat": 4,
 "nbformat_minor": 5
}
