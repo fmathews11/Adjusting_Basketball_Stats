{
 "cells": [
  {
   "cell_type": "code",
   "execution_count": 1,
   "metadata": {
    "ExecuteTime": {
     "end_time": "2023-10-17T02:02:51.601073100Z",
     "start_time": "2023-10-17T02:02:46.821702700Z"
    }
   },
   "outputs": [
    {
     "name": "stdout",
     "output_type": "stream",
     "text": [
      "{'clean_dataframes': {},\n",
      " 'first_team': 'Abilene Christian',\n",
      " 'raw_dataframes': [    Unnamed: 0_level_0 Basic Box Score Stats                                  \\\n",
      "              Starters                    MP  FG  FGA    FG%  2P  2PA    2P%   \n",
      "0       Damien Daniels                    38   5   11   .455   4    9   .444   \n",
      "1         Joe Pleasant                    34   2    5   .400   0    3   .000   \n",
      "2       Airion Simmons                    28   5   10   .500   1    4   .250   \n",
      "3      Ali Abdou Dibba                    24   5    9   .556   5    7   .714   \n",
      "4       Tobias Cameron                    22   5    5  1.000   4    4  1.000   \n",
      "5             Reserves                    MP  FG  FGA    FG%  2P  2PA    2P%   \n",
      "6   Hunter-Jack Madden                    23   3    5   .600   1    2   .500   \n",
      "7      Ja'Sean Jackson                    16   1    1  1.000   0    0    NaN   \n",
      "8       Cameron Steele                    11   0    4   .000   0    1   .000   \n",
      "9     Leonardo Bettiol                     4   1    2   .500   1    2   .500   \n",
      "10       School Totals                   200  27   52   .519  16   32   .500   \n",
      "\n",
      "             ...                                                     \n",
      "    3P  3PA  ...    FT%  ORB  DRB  TRB  AST  STL  BLK  TOV  PF  PTS  \n",
      "0    1    2  ...   .857    1    2    3    4    4    0    2   1   17  \n",
      "1    2    2  ...   .500    5    4    9    2    0    0    2   3    7  \n",
      "2    4    6  ...  1.000    1    5    6    2    1    1    2   4   16  \n",
      "3    0    2  ...    NaN    0    2    2    0    0    0    1   2   10  \n",
      "4    1    1  ...   .800    1    3    4    3    1    0    1   3   15  \n",
      "5   3P  3PA  ...    FT%  ORB  DRB  TRB  AST  STL  BLK  TOV  PF  PTS  \n",
      "6    2    3  ...  1.000    0    3    3    1    0    0    0   1   17  \n",
      "7    1    1  ...    NaN    0    1    1    2    1    0    1   3    3  \n",
      "8    0    3  ...    NaN    0    0    0    0    0    0    0   2    0  \n",
      "9    0    0  ...    NaN    0    0    0    1    0    0    1   1    2  \n",
      "10  11   20  ...   .880    8   20   28   15    7    1   10  20   87  \n",
      "\n",
      "[11 rows x 23 columns],\n",
      "                        Unnamed: 0_level_0 Advanced Box Score Stats                              \\\n",
      "              Starters                       MP    TS%   eFG%   3PAr    FTr   \n",
      "0       Damien Daniels                       38   .593   .500   .182   .636   \n",
      "1         Joe Pleasant                       34   .588   .600   .400   .400   \n",
      "2       Airion Simmons                       28   .731   .700   .600   .200   \n",
      "3      Ali Abdou Dibba                       24   .556   .556   .222   .000   \n",
      "4       Tobias Cameron                       22  1.017  1.100   .200  1.000   \n",
      "5             Reserves                       MP    TS%   eFG%   3PAr    FTr   \n",
      "6   Hunter-Jack Madden                       23   .916   .800   .600  1.800   \n",
      "7      Ja'Sean Jackson                       16  1.500  1.500  1.000   .000   \n",
      "8       Cameron Steele                       11   .000   .000   .750   .000   \n",
      "9     Leonardo Bettiol                        4   .500   .500   .000   .000   \n",
      "10       School Totals                      200   .681   .625   .385   .481   \n",
      "\n",
      "                                                                          \n",
      "    ORB%  DRB%  TRB%  AST%  STL%  BLK%  TOV%   USG%   ORtg   DRtg    BPM  \n",
      "0    4.2   7.4   5.9  19.1   6.2   0.0  12.3   23.0    129    102    5.2  \n",
      "1   23.7  16.9  20.1   9.6   0.0   0.0  25.2   12.8    129    113   -2.0  \n",
      "2    5.8  25.7  16.3  14.5   2.1   5.1  15.4   25.2    135    103    7.4  \n",
      "3    0.0  11.7   6.2   0.0   0.0   0.0  10.0   22.1    101    114   -9.6  \n",
      "4    7.4  19.8  13.9  31.1   2.7   0.0  11.9   20.9    188    106   17.4  \n",
      "5   ORB%  DRB%  TRB%  AST%  STL%  BLK%  TOV%   USG%   ORtg   DRtg    BPM  \n",
      "6    0.0  18.9  10.0   8.1   0.0   0.0   0.0   22.1    208    112   13.2  \n",
      "7    0.0   9.2   4.8  21.0   3.8   0.0  50.0    6.9    146    106    5.6  \n",
      "8    0.0   0.0   0.0   0.0   0.0   0.0   0.0   19.3      0    117  -30.3  \n",
      "9    0.0   0.0   0.0  50.5   0.0   0.0  33.3   36.8     86    116  -14.2  \n",
      "10  32.0  71.4  52.8  55.6  10.4   3.6  13.5  100.0  129.9  106.0    NaN  ,\n",
      "                           Unnamed: 0_level_0 Basic Box Score Stats                           \\\n",
      "                 Starters                    MP  FG  FGA    FG%  2P  2PA   \n",
      "0            Reed Nottage                    30   5    9   .556   2    2   \n",
      "1         Taran Armstrong                    29   6   10   .600   6    6   \n",
      "2            Riley Battin                    28   4    7   .571   4    5   \n",
      "3         Hunter Goodrick                    28   0    4   .000   0    3   \n",
      "4           Tre Armstrong                    16   1    2   .500   1    1   \n",
      "5                Reserves                    MP  FG  FGA    FG%  2P  2PA   \n",
      "6   Blondeau Tchoukuiegno                    27   3    8   .375   2    5   \n",
      "7            Joe Quintana                    21   2    7   .286   1    2   \n",
      "8         Timothy Ighoefe                    12   3    3  1.000   3    3   \n",
      "9       Scotty Washington                     8   1    3   .333   0    1   \n",
      "10          School Totals                   200  25   53   .472  19   28   \n",
      "\n",
      "                    ...                                                     \n",
      "      2P%  3P  3PA  ...    FT%  ORB  DRB  TRB  AST  STL  BLK  TOV  PF  PTS  \n",
      "0   1.000   3    7  ...    NaN    2    2    4    2    0    0    1   3   13  \n",
      "1   1.000   0    4  ...   .400    0    2    2    3    1    1    4   3   14  \n",
      "2    .800   0    2  ...  1.000    1    4    5    2    0    0    2   0   10  \n",
      "3    .000   0    1  ...   .625    2    4    6    2    0    0    3   3    5  \n",
      "4   1.000   0    1  ...    NaN    0    1    1    1    0    0    0   0    2  \n",
      "5     2P%  3P  3PA  ...    FT%  ORB  DRB  TRB  AST  STL  BLK  TOV  PF  PTS  \n",
      "6    .400   1    3  ...   .500    1    2    3    3    1    1    2   2    8  \n",
      "7    .500   1    5  ...  1.000    0    0    0    1    2    0    1   2    9  \n",
      "8   1.000   0    0  ...    NaN    2    1    3    0    0    1    0   0    6  \n",
      "9    .000   1    2  ...   .500    0    1    1    2    0    0    0   3    4  \n",
      "10   .679   6   25  ...   .652    8   17   25   16    4    3   13  16   71  \n",
      "\n",
      "[11 rows x 23 columns],\n",
      "                           Unnamed: 0_level_0 Advanced Box Score Stats                             \\\n",
      "                 Starters                       MP    TS%   eFG%  3PAr    FTr   \n",
      "0            Reed Nottage                       30   .722   .722  .778   .000   \n",
      "1         Taran Armstrong                       29   .566   .600  .400   .500   \n",
      "2            Riley Battin                       28   .629   .571  .286   .286   \n",
      "3         Hunter Goodrick                       28   .321   .000  .250  2.000   \n",
      "4           Tre Armstrong                       16   .500   .500  .500   .000   \n",
      "5                Reserves                       MP    TS%   eFG%  3PAr    FTr   \n",
      "6   Blondeau Tchoukuiegno                       27   .447   .438  .375   .250   \n",
      "7            Joe Quintana                       21   .506   .357  .714   .571   \n",
      "8         Timothy Ighoefe                       12  1.000  1.000  .000   .000   \n",
      "9       Scotty Washington                        8   .506   .500  .667   .667   \n",
      "10          School Totals                      200   .555   .528  .472   .434   \n",
      "\n",
      "                                                                          \n",
      "    ORB%  DRB%  TRB%  AST%  STL%  BLK%  TOV%   USG%   ORtg   DRtg    BPM  \n",
      "0    9.5  10.6  10.0  14.5   0.0   0.0  10.0   17.3    137    139    2.8  \n",
      "1    0.0  10.9   5.1  24.3   2.0   4.3  24.4   29.0     90    132   -4.9  \n",
      "2    5.0  22.6  13.3  14.6   0.0   0.0  20.1   18.2    112    136   -2.3  \n",
      "3   10.3  23.0  16.3  11.5   0.0   0.0  27.8   20.2     72    136  -14.6  \n",
      "4    0.0  10.0   4.7  11.1   0.0   0.0   0.0    6.5    123    139   -4.6  \n",
      "5   ORB%  DRB%  TRB%  AST%  STL%  BLK%  TOV%   USG%   ORtg   DRtg    BPM  \n",
      "6    5.3  11.8   8.3  21.5   2.2   4.6  18.3   21.0     92    131   -3.4  \n",
      "7    0.0   0.0   0.0   8.8   5.6   0.0  10.1   24.1    107    128   -1.6  \n",
      "8   24.2  13.6  19.2   0.0   0.0  10.6   0.0   13.2    204    133   11.5  \n",
      "9    0.0  19.7   9.3  49.1   0.0   0.0   0.0   25.3    131    136   -0.2  \n",
      "10  28.6  68.0  47.2  64.0   6.0   9.4  16.9  100.0  106.0  129.9    NaN  ],\n",
      " 'second_team': 'California Baptist'}\n"
     ]
    }
   ],
   "source": [
    "import pickle\n",
    "import pandas as pd\n",
    "import numpy as np\n",
    "from pprint import pprint\n",
    "\n",
    "with open('pickle_files/game_ids_with_boxscores.pickle','rb') as f:\n",
    "    game_ui_boxscore_dict = pickle.load(f)\n",
    "\n",
    "pprint(game_ui_boxscore_dict['2023-02-04-22-california-baptist'])"
   ]
  },
  {
   "cell_type": "code",
   "execution_count": 4,
   "outputs": [
    {
     "data": {
      "text/plain": "          date           opp_name wl score opp_score  fg fga fgpct 3p 3pa  \\\n0   2022-11-07      Jackson State  W    65        56  23  57  .404  8  28   \n1   2022-11-11          Texas A&M  L    58        77  20  52  .385  8  18   \n2   2022-11-15            McMurry  W   104        46  41  68  .603  5  17   \n3   2022-11-21       Wright State  L    61        77  25  58  .431  7  22   \n4   2022-11-22        Weber State  L    67        77  26  53  .491  9  17   \n..         ...                ... ..   ...       ...  ..  ..   ... ..  ..   \n31  2023-02-21      Robert Morris  L    64        83  23  47  .489  4  12   \n32  2023-02-25              IUPUI  W    93        79  34  59  .576  8  18   \n33  2023-03-02      Detroit Mercy  W    71        66  24  55  .436  5  22   \n34  2023-03-06  Northern Kentucky  L    63        75  24  53  .453  4  21   \n35  2023-03-15     Oklahoma State  L    64        69  22  62  .355  8  28   \n\n    ... opp_fta opp_ftpct opp_orb opp_trb opp_ast opp_stl opp_blk opp_tov  \\\n0   ...      14      .714       7      40       9       6       1      21   \n1   ...      35      .714      10      33       7      11       3      19   \n2   ...      15      .667       4      17       7       9       2      27   \n3   ...      19      .632       1      24      18      12       5      18   \n4   ...      25      .920       8      29      10       4       0      18   \n..  ...     ...       ...     ...     ...     ...     ...     ...     ...   \n31  ...       9      .778       4      24      14       6       7      12   \n32  ...      22      .636       8      25      15       4       4      12   \n33  ...      14      .857      13      36      11       5       3      13   \n34  ...      38      .737      16      32       6       6       2       2   \n35  ...      15      .867      15      45      13       3       6       9   \n\n   opp_pf          team_name  \n0      21  Abilene Christian  \n1      17  Abilene Christian  \n2      18  Abilene Christian  \n3      14  Abilene Christian  \n4      13  Abilene Christian  \n..    ...                ...  \n31     17   Youngstown State  \n32     18   Youngstown State  \n33     21   Youngstown State  \n34     18   Youngstown State  \n35     15   Youngstown State  \n\n[11929 rows x 38 columns]",
      "text/html": "<div>\n<style scoped>\n    .dataframe tbody tr th:only-of-type {\n        vertical-align: middle;\n    }\n\n    .dataframe tbody tr th {\n        vertical-align: top;\n    }\n\n    .dataframe thead th {\n        text-align: right;\n    }\n</style>\n<table border=\"1\" class=\"dataframe\">\n  <thead>\n    <tr style=\"text-align: right;\">\n      <th></th>\n      <th>date</th>\n      <th>opp_name</th>\n      <th>wl</th>\n      <th>score</th>\n      <th>opp_score</th>\n      <th>fg</th>\n      <th>fga</th>\n      <th>fgpct</th>\n      <th>3p</th>\n      <th>3pa</th>\n      <th>...</th>\n      <th>opp_fta</th>\n      <th>opp_ftpct</th>\n      <th>opp_orb</th>\n      <th>opp_trb</th>\n      <th>opp_ast</th>\n      <th>opp_stl</th>\n      <th>opp_blk</th>\n      <th>opp_tov</th>\n      <th>opp_pf</th>\n      <th>team_name</th>\n    </tr>\n  </thead>\n  <tbody>\n    <tr>\n      <th>0</th>\n      <td>2022-11-07</td>\n      <td>Jackson State</td>\n      <td>W</td>\n      <td>65</td>\n      <td>56</td>\n      <td>23</td>\n      <td>57</td>\n      <td>.404</td>\n      <td>8</td>\n      <td>28</td>\n      <td>...</td>\n      <td>14</td>\n      <td>.714</td>\n      <td>7</td>\n      <td>40</td>\n      <td>9</td>\n      <td>6</td>\n      <td>1</td>\n      <td>21</td>\n      <td>21</td>\n      <td>Abilene Christian</td>\n    </tr>\n    <tr>\n      <th>1</th>\n      <td>2022-11-11</td>\n      <td>Texas A&amp;M</td>\n      <td>L</td>\n      <td>58</td>\n      <td>77</td>\n      <td>20</td>\n      <td>52</td>\n      <td>.385</td>\n      <td>8</td>\n      <td>18</td>\n      <td>...</td>\n      <td>35</td>\n      <td>.714</td>\n      <td>10</td>\n      <td>33</td>\n      <td>7</td>\n      <td>11</td>\n      <td>3</td>\n      <td>19</td>\n      <td>17</td>\n      <td>Abilene Christian</td>\n    </tr>\n    <tr>\n      <th>2</th>\n      <td>2022-11-15</td>\n      <td>McMurry</td>\n      <td>W</td>\n      <td>104</td>\n      <td>46</td>\n      <td>41</td>\n      <td>68</td>\n      <td>.603</td>\n      <td>5</td>\n      <td>17</td>\n      <td>...</td>\n      <td>15</td>\n      <td>.667</td>\n      <td>4</td>\n      <td>17</td>\n      <td>7</td>\n      <td>9</td>\n      <td>2</td>\n      <td>27</td>\n      <td>18</td>\n      <td>Abilene Christian</td>\n    </tr>\n    <tr>\n      <th>3</th>\n      <td>2022-11-21</td>\n      <td>Wright State</td>\n      <td>L</td>\n      <td>61</td>\n      <td>77</td>\n      <td>25</td>\n      <td>58</td>\n      <td>.431</td>\n      <td>7</td>\n      <td>22</td>\n      <td>...</td>\n      <td>19</td>\n      <td>.632</td>\n      <td>1</td>\n      <td>24</td>\n      <td>18</td>\n      <td>12</td>\n      <td>5</td>\n      <td>18</td>\n      <td>14</td>\n      <td>Abilene Christian</td>\n    </tr>\n    <tr>\n      <th>4</th>\n      <td>2022-11-22</td>\n      <td>Weber State</td>\n      <td>L</td>\n      <td>67</td>\n      <td>77</td>\n      <td>26</td>\n      <td>53</td>\n      <td>.491</td>\n      <td>9</td>\n      <td>17</td>\n      <td>...</td>\n      <td>25</td>\n      <td>.920</td>\n      <td>8</td>\n      <td>29</td>\n      <td>10</td>\n      <td>4</td>\n      <td>0</td>\n      <td>18</td>\n      <td>13</td>\n      <td>Abilene Christian</td>\n    </tr>\n    <tr>\n      <th>...</th>\n      <td>...</td>\n      <td>...</td>\n      <td>...</td>\n      <td>...</td>\n      <td>...</td>\n      <td>...</td>\n      <td>...</td>\n      <td>...</td>\n      <td>...</td>\n      <td>...</td>\n      <td>...</td>\n      <td>...</td>\n      <td>...</td>\n      <td>...</td>\n      <td>...</td>\n      <td>...</td>\n      <td>...</td>\n      <td>...</td>\n      <td>...</td>\n      <td>...</td>\n      <td>...</td>\n    </tr>\n    <tr>\n      <th>31</th>\n      <td>2023-02-21</td>\n      <td>Robert Morris</td>\n      <td>L</td>\n      <td>64</td>\n      <td>83</td>\n      <td>23</td>\n      <td>47</td>\n      <td>.489</td>\n      <td>4</td>\n      <td>12</td>\n      <td>...</td>\n      <td>9</td>\n      <td>.778</td>\n      <td>4</td>\n      <td>24</td>\n      <td>14</td>\n      <td>6</td>\n      <td>7</td>\n      <td>12</td>\n      <td>17</td>\n      <td>Youngstown State</td>\n    </tr>\n    <tr>\n      <th>32</th>\n      <td>2023-02-25</td>\n      <td>IUPUI</td>\n      <td>W</td>\n      <td>93</td>\n      <td>79</td>\n      <td>34</td>\n      <td>59</td>\n      <td>.576</td>\n      <td>8</td>\n      <td>18</td>\n      <td>...</td>\n      <td>22</td>\n      <td>.636</td>\n      <td>8</td>\n      <td>25</td>\n      <td>15</td>\n      <td>4</td>\n      <td>4</td>\n      <td>12</td>\n      <td>18</td>\n      <td>Youngstown State</td>\n    </tr>\n    <tr>\n      <th>33</th>\n      <td>2023-03-02</td>\n      <td>Detroit Mercy</td>\n      <td>W</td>\n      <td>71</td>\n      <td>66</td>\n      <td>24</td>\n      <td>55</td>\n      <td>.436</td>\n      <td>5</td>\n      <td>22</td>\n      <td>...</td>\n      <td>14</td>\n      <td>.857</td>\n      <td>13</td>\n      <td>36</td>\n      <td>11</td>\n      <td>5</td>\n      <td>3</td>\n      <td>13</td>\n      <td>21</td>\n      <td>Youngstown State</td>\n    </tr>\n    <tr>\n      <th>34</th>\n      <td>2023-03-06</td>\n      <td>Northern Kentucky</td>\n      <td>L</td>\n      <td>63</td>\n      <td>75</td>\n      <td>24</td>\n      <td>53</td>\n      <td>.453</td>\n      <td>4</td>\n      <td>21</td>\n      <td>...</td>\n      <td>38</td>\n      <td>.737</td>\n      <td>16</td>\n      <td>32</td>\n      <td>6</td>\n      <td>6</td>\n      <td>2</td>\n      <td>2</td>\n      <td>18</td>\n      <td>Youngstown State</td>\n    </tr>\n    <tr>\n      <th>35</th>\n      <td>2023-03-15</td>\n      <td>Oklahoma State</td>\n      <td>L</td>\n      <td>64</td>\n      <td>69</td>\n      <td>22</td>\n      <td>62</td>\n      <td>.355</td>\n      <td>8</td>\n      <td>28</td>\n      <td>...</td>\n      <td>15</td>\n      <td>.867</td>\n      <td>15</td>\n      <td>45</td>\n      <td>13</td>\n      <td>3</td>\n      <td>6</td>\n      <td>9</td>\n      <td>15</td>\n      <td>Youngstown State</td>\n    </tr>\n  </tbody>\n</table>\n<p>11929 rows × 38 columns</p>\n</div>"
     },
     "execution_count": 4,
     "metadata": {},
     "output_type": "execute_result"
    }
   ],
   "source": [
    "df = pd.read_parquet(\"parquet_files/box_scores_sports_reference_2023.gzip\")\n",
    "df"
   ],
   "metadata": {
    "collapsed": false,
    "ExecuteTime": {
     "end_time": "2023-10-17T02:33:27.712312500Z",
     "start_time": "2023-10-17T02:33:27.659811Z"
    }
   }
  }
 ],
 "metadata": {
  "kernelspec": {
   "display_name": "base",
   "language": "python",
   "name": "python3"
  },
  "language_info": {
   "codemirror_mode": {
    "name": "ipython",
    "version": 3
   },
   "file_extension": ".py",
   "mimetype": "text/x-python",
   "name": "python",
   "nbconvert_exporter": "python",
   "pygments_lexer": "ipython3",
   "version": "3.9.12"
  },
  "orig_nbformat": 4
 },
 "nbformat": 4,
 "nbformat_minor": 2
}
