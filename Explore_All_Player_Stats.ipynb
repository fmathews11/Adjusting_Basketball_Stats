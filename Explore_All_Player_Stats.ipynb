{
 "cells": [
  {
   "cell_type": "code",
   "execution_count": 7,
   "id": "initial_id",
   "metadata": {
    "collapsed": true,
    "ExecuteTime": {
     "end_time": "2023-12-04T22:24:59.375900300Z",
     "start_time": "2023-12-04T22:24:59.236270200Z"
    }
   },
   "outputs": [
    {
     "data": {
      "text/plain": "      Rk             Player  G   GS    MP   FG  FGA    FG%   2P  2PA  ...  \\\n0    1.0          Zach Edey  6  6.0   173   45   76  0.592   45   76  ...   \n1    2.0       Braden Smith  6  6.0   190   29   56  0.518   20   38  ...   \n2    3.0     Fletcher Loyer  6  6.0   165   19   52  0.365   10   24  ...   \n3    4.0        Lance Jones  6  6.0   164   22   54  0.407   13   25  ...   \n4    5.0  Trey Kaufman-Renn  6  6.0    95   12   25  0.480   10   19  ...   \n5    6.0       Myles Colvin  6  0.0    63   11   20  0.550    2    6  ...   \n6    7.0       Camden Heide  6  0.0    70    9   15  0.600    6   10  ...   \n7    8.0        Caleb Furst  6  0.0    80    6   14  0.429    4    9  ...   \n8    9.0       Mason Gillis  6  0.0   108    7   17  0.412    3    7  ...   \n9   10.0          Will Berg  2  0.0    11    5    7  0.714    5    7  ...   \n10  11.0       Ethan Morton  5  0.0    49    2    4  0.500    0    1  ...   \n11  12.0      Brian Waddell  2  0.0    16    3    5  0.600    3    4  ...   \n12  13.0           Sam King  2  0.0     2    0    0    NaN    0    0  ...   \n13  14.0     Carson Barrett  2  0.0     6    0    0    NaN    0    0  ...   \n14  15.0         Josh Furst  1  0.0     1    0    0    NaN    0    0  ...   \n15  16.0       Chase Martin  2  0.0     6    0    2  0.000    0    1  ...   \n16  17.0          Jace Rayl  1  0.0     1    0    0    NaN    0    0  ...   \n17   NaN      School Totals  6  NaN  1200  170  347  0.490  121  227  ...   \n\n    ORB  DRB  TRB  AST  STL  BLK  TOV  PF  PTS    team  \n0    27   42   69    6    1   17   11   8  138  PURDUE  \n1     3   29   32   37   12    0   15   9   72  PURDUE  \n2     1   17   18    7    6    0    8  10   64  PURDUE  \n3     1   14   15   15   10    0   12  11   57  PURDUE  \n4     5   17   22    7    2    2    4   8   35  PURDUE  \n5     0    3    3    2    1    2    4   5   31  PURDUE  \n6     2    7    9    3    0    3    4   8   24  PURDUE  \n7     5   16   21    4    2    3    4   5   21  PURDUE  \n8     7   12   19    9    0    0    7   8   21  PURDUE  \n9     3    3    6    0    0    0    1   3   11  PURDUE  \n10    1    1    2    7    4    1    2   4    8  PURDUE  \n11    0    3    3    1    0    0    0   0    6  PURDUE  \n12    1    2    3    0    0    2    1   0    2  PURDUE  \n13    0    3    3    0    0    0    0   2    0  PURDUE  \n14    0    1    1    0    0    0    0   0    0  PURDUE  \n15    0    2    2    2    0    0    2   1    0  PURDUE  \n16    0    0    0    0    0    0    0   0    0  PURDUE  \n17   62  182  244  100   38   30   78  82  490  PURDUE  \n\n[18 rows x 27 columns]",
      "text/html": "<div>\n<style scoped>\n    .dataframe tbody tr th:only-of-type {\n        vertical-align: middle;\n    }\n\n    .dataframe tbody tr th {\n        vertical-align: top;\n    }\n\n    .dataframe thead th {\n        text-align: right;\n    }\n</style>\n<table border=\"1\" class=\"dataframe\">\n  <thead>\n    <tr style=\"text-align: right;\">\n      <th></th>\n      <th>Rk</th>\n      <th>Player</th>\n      <th>G</th>\n      <th>GS</th>\n      <th>MP</th>\n      <th>FG</th>\n      <th>FGA</th>\n      <th>FG%</th>\n      <th>2P</th>\n      <th>2PA</th>\n      <th>...</th>\n      <th>ORB</th>\n      <th>DRB</th>\n      <th>TRB</th>\n      <th>AST</th>\n      <th>STL</th>\n      <th>BLK</th>\n      <th>TOV</th>\n      <th>PF</th>\n      <th>PTS</th>\n      <th>team</th>\n    </tr>\n  </thead>\n  <tbody>\n    <tr>\n      <th>0</th>\n      <td>1.0</td>\n      <td>Zach Edey</td>\n      <td>6</td>\n      <td>6.0</td>\n      <td>173</td>\n      <td>45</td>\n      <td>76</td>\n      <td>0.592</td>\n      <td>45</td>\n      <td>76</td>\n      <td>...</td>\n      <td>27</td>\n      <td>42</td>\n      <td>69</td>\n      <td>6</td>\n      <td>1</td>\n      <td>17</td>\n      <td>11</td>\n      <td>8</td>\n      <td>138</td>\n      <td>PURDUE</td>\n    </tr>\n    <tr>\n      <th>1</th>\n      <td>2.0</td>\n      <td>Braden Smith</td>\n      <td>6</td>\n      <td>6.0</td>\n      <td>190</td>\n      <td>29</td>\n      <td>56</td>\n      <td>0.518</td>\n      <td>20</td>\n      <td>38</td>\n      <td>...</td>\n      <td>3</td>\n      <td>29</td>\n      <td>32</td>\n      <td>37</td>\n      <td>12</td>\n      <td>0</td>\n      <td>15</td>\n      <td>9</td>\n      <td>72</td>\n      <td>PURDUE</td>\n    </tr>\n    <tr>\n      <th>2</th>\n      <td>3.0</td>\n      <td>Fletcher Loyer</td>\n      <td>6</td>\n      <td>6.0</td>\n      <td>165</td>\n      <td>19</td>\n      <td>52</td>\n      <td>0.365</td>\n      <td>10</td>\n      <td>24</td>\n      <td>...</td>\n      <td>1</td>\n      <td>17</td>\n      <td>18</td>\n      <td>7</td>\n      <td>6</td>\n      <td>0</td>\n      <td>8</td>\n      <td>10</td>\n      <td>64</td>\n      <td>PURDUE</td>\n    </tr>\n    <tr>\n      <th>3</th>\n      <td>4.0</td>\n      <td>Lance Jones</td>\n      <td>6</td>\n      <td>6.0</td>\n      <td>164</td>\n      <td>22</td>\n      <td>54</td>\n      <td>0.407</td>\n      <td>13</td>\n      <td>25</td>\n      <td>...</td>\n      <td>1</td>\n      <td>14</td>\n      <td>15</td>\n      <td>15</td>\n      <td>10</td>\n      <td>0</td>\n      <td>12</td>\n      <td>11</td>\n      <td>57</td>\n      <td>PURDUE</td>\n    </tr>\n    <tr>\n      <th>4</th>\n      <td>5.0</td>\n      <td>Trey Kaufman-Renn</td>\n      <td>6</td>\n      <td>6.0</td>\n      <td>95</td>\n      <td>12</td>\n      <td>25</td>\n      <td>0.480</td>\n      <td>10</td>\n      <td>19</td>\n      <td>...</td>\n      <td>5</td>\n      <td>17</td>\n      <td>22</td>\n      <td>7</td>\n      <td>2</td>\n      <td>2</td>\n      <td>4</td>\n      <td>8</td>\n      <td>35</td>\n      <td>PURDUE</td>\n    </tr>\n    <tr>\n      <th>5</th>\n      <td>6.0</td>\n      <td>Myles Colvin</td>\n      <td>6</td>\n      <td>0.0</td>\n      <td>63</td>\n      <td>11</td>\n      <td>20</td>\n      <td>0.550</td>\n      <td>2</td>\n      <td>6</td>\n      <td>...</td>\n      <td>0</td>\n      <td>3</td>\n      <td>3</td>\n      <td>2</td>\n      <td>1</td>\n      <td>2</td>\n      <td>4</td>\n      <td>5</td>\n      <td>31</td>\n      <td>PURDUE</td>\n    </tr>\n    <tr>\n      <th>6</th>\n      <td>7.0</td>\n      <td>Camden Heide</td>\n      <td>6</td>\n      <td>0.0</td>\n      <td>70</td>\n      <td>9</td>\n      <td>15</td>\n      <td>0.600</td>\n      <td>6</td>\n      <td>10</td>\n      <td>...</td>\n      <td>2</td>\n      <td>7</td>\n      <td>9</td>\n      <td>3</td>\n      <td>0</td>\n      <td>3</td>\n      <td>4</td>\n      <td>8</td>\n      <td>24</td>\n      <td>PURDUE</td>\n    </tr>\n    <tr>\n      <th>7</th>\n      <td>8.0</td>\n      <td>Caleb Furst</td>\n      <td>6</td>\n      <td>0.0</td>\n      <td>80</td>\n      <td>6</td>\n      <td>14</td>\n      <td>0.429</td>\n      <td>4</td>\n      <td>9</td>\n      <td>...</td>\n      <td>5</td>\n      <td>16</td>\n      <td>21</td>\n      <td>4</td>\n      <td>2</td>\n      <td>3</td>\n      <td>4</td>\n      <td>5</td>\n      <td>21</td>\n      <td>PURDUE</td>\n    </tr>\n    <tr>\n      <th>8</th>\n      <td>9.0</td>\n      <td>Mason Gillis</td>\n      <td>6</td>\n      <td>0.0</td>\n      <td>108</td>\n      <td>7</td>\n      <td>17</td>\n      <td>0.412</td>\n      <td>3</td>\n      <td>7</td>\n      <td>...</td>\n      <td>7</td>\n      <td>12</td>\n      <td>19</td>\n      <td>9</td>\n      <td>0</td>\n      <td>0</td>\n      <td>7</td>\n      <td>8</td>\n      <td>21</td>\n      <td>PURDUE</td>\n    </tr>\n    <tr>\n      <th>9</th>\n      <td>10.0</td>\n      <td>Will Berg</td>\n      <td>2</td>\n      <td>0.0</td>\n      <td>11</td>\n      <td>5</td>\n      <td>7</td>\n      <td>0.714</td>\n      <td>5</td>\n      <td>7</td>\n      <td>...</td>\n      <td>3</td>\n      <td>3</td>\n      <td>6</td>\n      <td>0</td>\n      <td>0</td>\n      <td>0</td>\n      <td>1</td>\n      <td>3</td>\n      <td>11</td>\n      <td>PURDUE</td>\n    </tr>\n    <tr>\n      <th>10</th>\n      <td>11.0</td>\n      <td>Ethan Morton</td>\n      <td>5</td>\n      <td>0.0</td>\n      <td>49</td>\n      <td>2</td>\n      <td>4</td>\n      <td>0.500</td>\n      <td>0</td>\n      <td>1</td>\n      <td>...</td>\n      <td>1</td>\n      <td>1</td>\n      <td>2</td>\n      <td>7</td>\n      <td>4</td>\n      <td>1</td>\n      <td>2</td>\n      <td>4</td>\n      <td>8</td>\n      <td>PURDUE</td>\n    </tr>\n    <tr>\n      <th>11</th>\n      <td>12.0</td>\n      <td>Brian Waddell</td>\n      <td>2</td>\n      <td>0.0</td>\n      <td>16</td>\n      <td>3</td>\n      <td>5</td>\n      <td>0.600</td>\n      <td>3</td>\n      <td>4</td>\n      <td>...</td>\n      <td>0</td>\n      <td>3</td>\n      <td>3</td>\n      <td>1</td>\n      <td>0</td>\n      <td>0</td>\n      <td>0</td>\n      <td>0</td>\n      <td>6</td>\n      <td>PURDUE</td>\n    </tr>\n    <tr>\n      <th>12</th>\n      <td>13.0</td>\n      <td>Sam King</td>\n      <td>2</td>\n      <td>0.0</td>\n      <td>2</td>\n      <td>0</td>\n      <td>0</td>\n      <td>NaN</td>\n      <td>0</td>\n      <td>0</td>\n      <td>...</td>\n      <td>1</td>\n      <td>2</td>\n      <td>3</td>\n      <td>0</td>\n      <td>0</td>\n      <td>2</td>\n      <td>1</td>\n      <td>0</td>\n      <td>2</td>\n      <td>PURDUE</td>\n    </tr>\n    <tr>\n      <th>13</th>\n      <td>14.0</td>\n      <td>Carson Barrett</td>\n      <td>2</td>\n      <td>0.0</td>\n      <td>6</td>\n      <td>0</td>\n      <td>0</td>\n      <td>NaN</td>\n      <td>0</td>\n      <td>0</td>\n      <td>...</td>\n      <td>0</td>\n      <td>3</td>\n      <td>3</td>\n      <td>0</td>\n      <td>0</td>\n      <td>0</td>\n      <td>0</td>\n      <td>2</td>\n      <td>0</td>\n      <td>PURDUE</td>\n    </tr>\n    <tr>\n      <th>14</th>\n      <td>15.0</td>\n      <td>Josh Furst</td>\n      <td>1</td>\n      <td>0.0</td>\n      <td>1</td>\n      <td>0</td>\n      <td>0</td>\n      <td>NaN</td>\n      <td>0</td>\n      <td>0</td>\n      <td>...</td>\n      <td>0</td>\n      <td>1</td>\n      <td>1</td>\n      <td>0</td>\n      <td>0</td>\n      <td>0</td>\n      <td>0</td>\n      <td>0</td>\n      <td>0</td>\n      <td>PURDUE</td>\n    </tr>\n    <tr>\n      <th>15</th>\n      <td>16.0</td>\n      <td>Chase Martin</td>\n      <td>2</td>\n      <td>0.0</td>\n      <td>6</td>\n      <td>0</td>\n      <td>2</td>\n      <td>0.000</td>\n      <td>0</td>\n      <td>1</td>\n      <td>...</td>\n      <td>0</td>\n      <td>2</td>\n      <td>2</td>\n      <td>2</td>\n      <td>0</td>\n      <td>0</td>\n      <td>2</td>\n      <td>1</td>\n      <td>0</td>\n      <td>PURDUE</td>\n    </tr>\n    <tr>\n      <th>16</th>\n      <td>17.0</td>\n      <td>Jace Rayl</td>\n      <td>1</td>\n      <td>0.0</td>\n      <td>1</td>\n      <td>0</td>\n      <td>0</td>\n      <td>NaN</td>\n      <td>0</td>\n      <td>0</td>\n      <td>...</td>\n      <td>0</td>\n      <td>0</td>\n      <td>0</td>\n      <td>0</td>\n      <td>0</td>\n      <td>0</td>\n      <td>0</td>\n      <td>0</td>\n      <td>0</td>\n      <td>PURDUE</td>\n    </tr>\n    <tr>\n      <th>17</th>\n      <td>NaN</td>\n      <td>School Totals</td>\n      <td>6</td>\n      <td>NaN</td>\n      <td>1200</td>\n      <td>170</td>\n      <td>347</td>\n      <td>0.490</td>\n      <td>121</td>\n      <td>227</td>\n      <td>...</td>\n      <td>62</td>\n      <td>182</td>\n      <td>244</td>\n      <td>100</td>\n      <td>38</td>\n      <td>30</td>\n      <td>78</td>\n      <td>82</td>\n      <td>490</td>\n      <td>PURDUE</td>\n    </tr>\n  </tbody>\n</table>\n<p>18 rows × 27 columns</p>\n</div>"
     },
     "execution_count": 7,
     "metadata": {},
     "output_type": "execute_result"
    }
   ],
   "source": [
    "import pandas as pd\n",
    "import json\n",
    "with open('json_files/teams_and_players.json','r') as f:\n",
    "    master_json = json.load(f)\n",
    "pd.DataFrame(master_json[\"PURDUE\"]['player_totals'])"
   ]
  },
  {
   "cell_type": "code",
   "execution_count": 14,
   "outputs": [
    {
     "data": {
      "text/plain": "{'Rk': 2.0,\n 'Player': 'Braden Smith',\n 'G': 6,\n 'GS': 6.0,\n 'MP': 190,\n 'FG': 29,\n 'FGA': 56,\n 'FG%': 0.518,\n '2P': 20,\n '2PA': 38,\n '2P%': 0.526,\n '3P': 9,\n '3PA': 18,\n '3P%': 0.5,\n 'FT': 5,\n 'FTA': 10,\n 'FT%': 0.5,\n 'ORB': 3,\n 'DRB': 29,\n 'TRB': 32,\n 'AST': 37,\n 'STL': 12,\n 'BLK': 0,\n 'TOV': 15,\n 'PF': 9,\n 'PTS': 72,\n 'team': 'PURDUE'}"
     },
     "execution_count": 14,
     "metadata": {},
     "output_type": "execute_result"
    }
   ],
   "source": [
    "master_json[\"PURDUE\"]['player_totals'][1]"
   ],
   "metadata": {
    "collapsed": false,
    "ExecuteTime": {
     "end_time": "2023-12-04T22:28:57.777865900Z",
     "start_time": "2023-12-04T22:28:57.763843500Z"
    }
   },
   "id": "bd257aa61fc891fc"
  },
  {
   "cell_type": "code",
   "execution_count": 18,
   "outputs": [
    {
     "data": {
      "text/plain": "                  Player  G   GS   MP  FG  FGA    FG%  2P  2PA    2P%  ...  \\\n0        Ali Abdou Dibba  6  6.0  166  29   66  0.439  28   59  0.475  ...   \n1     Hunter-Jack Madden  6  6.0  172  22   44  0.500  11   25  0.440  ...   \n2         Airion Simmons  6  5.0  132  30   67  0.448  23   48  0.479  ...   \n3         Cameron Steele  6  6.0  166  14   40  0.350   5   20  0.250  ...   \n4         Immanuel Allen  6  0.0  100   7   24  0.292   5   16  0.313  ...   \n...                  ... ..  ...  ...  ..  ...    ...  ..  ...    ...  ...   \n5035           EJ Farmer  6  5.0  133  14   43  0.326  13   29  0.448  ...   \n5036        Jaylen Bates  5  0.0   63   5   18  0.278   1    8  0.125  ...   \n5037     Imanuel Zorgvol  6  0.0   51   5    9  0.556   5    9  0.556  ...   \n5038          Gabe Dynes  6  0.0   65   7   12  0.583   7   11  0.636  ...   \n5039         Tommy Fryda  2  0.0    2   0    0    NaN   0    0    NaN  ...   \n\n      ORB  DRB  TRB  AST  STL  BLK  TOV  PF  PTS    team  \n0       3   19   22    6    7    0   12  13   78  PURDUE  \n1       8   22   30    6    5    0    8  11   75  PURDUE  \n2       7   25   32   15    6    2   10  17   73  PURDUE  \n3       6   11   17    6    6    6    4   6   42  PURDUE  \n4       4    8   12    4    7    0    4  17   32  PURDUE  \n...   ...  ...  ...  ...  ...  ...  ...  ..  ...     ...  \n5035    3   11   14    5    4    0    6   3   32  PURDUE  \n5036    5   15   20    1    1    1    5   9   22  PURDUE  \n5037    5   11   16    0    1    5    3  15   17  PURDUE  \n5038    4   15   19    1    1    8    1   7   15  PURDUE  \n5039    0    1    1    0    0    1    0   0    0  PURDUE  \n\n[4679 rows x 26 columns]",
      "text/html": "<div>\n<style scoped>\n    .dataframe tbody tr th:only-of-type {\n        vertical-align: middle;\n    }\n\n    .dataframe tbody tr th {\n        vertical-align: top;\n    }\n\n    .dataframe thead th {\n        text-align: right;\n    }\n</style>\n<table border=\"1\" class=\"dataframe\">\n  <thead>\n    <tr style=\"text-align: right;\">\n      <th></th>\n      <th>Player</th>\n      <th>G</th>\n      <th>GS</th>\n      <th>MP</th>\n      <th>FG</th>\n      <th>FGA</th>\n      <th>FG%</th>\n      <th>2P</th>\n      <th>2PA</th>\n      <th>2P%</th>\n      <th>...</th>\n      <th>ORB</th>\n      <th>DRB</th>\n      <th>TRB</th>\n      <th>AST</th>\n      <th>STL</th>\n      <th>BLK</th>\n      <th>TOV</th>\n      <th>PF</th>\n      <th>PTS</th>\n      <th>team</th>\n    </tr>\n  </thead>\n  <tbody>\n    <tr>\n      <th>0</th>\n      <td>Ali Abdou Dibba</td>\n      <td>6</td>\n      <td>6.0</td>\n      <td>166</td>\n      <td>29</td>\n      <td>66</td>\n      <td>0.439</td>\n      <td>28</td>\n      <td>59</td>\n      <td>0.475</td>\n      <td>...</td>\n      <td>3</td>\n      <td>19</td>\n      <td>22</td>\n      <td>6</td>\n      <td>7</td>\n      <td>0</td>\n      <td>12</td>\n      <td>13</td>\n      <td>78</td>\n      <td>PURDUE</td>\n    </tr>\n    <tr>\n      <th>1</th>\n      <td>Hunter-Jack Madden</td>\n      <td>6</td>\n      <td>6.0</td>\n      <td>172</td>\n      <td>22</td>\n      <td>44</td>\n      <td>0.500</td>\n      <td>11</td>\n      <td>25</td>\n      <td>0.440</td>\n      <td>...</td>\n      <td>8</td>\n      <td>22</td>\n      <td>30</td>\n      <td>6</td>\n      <td>5</td>\n      <td>0</td>\n      <td>8</td>\n      <td>11</td>\n      <td>75</td>\n      <td>PURDUE</td>\n    </tr>\n    <tr>\n      <th>2</th>\n      <td>Airion Simmons</td>\n      <td>6</td>\n      <td>5.0</td>\n      <td>132</td>\n      <td>30</td>\n      <td>67</td>\n      <td>0.448</td>\n      <td>23</td>\n      <td>48</td>\n      <td>0.479</td>\n      <td>...</td>\n      <td>7</td>\n      <td>25</td>\n      <td>32</td>\n      <td>15</td>\n      <td>6</td>\n      <td>2</td>\n      <td>10</td>\n      <td>17</td>\n      <td>73</td>\n      <td>PURDUE</td>\n    </tr>\n    <tr>\n      <th>3</th>\n      <td>Cameron Steele</td>\n      <td>6</td>\n      <td>6.0</td>\n      <td>166</td>\n      <td>14</td>\n      <td>40</td>\n      <td>0.350</td>\n      <td>5</td>\n      <td>20</td>\n      <td>0.250</td>\n      <td>...</td>\n      <td>6</td>\n      <td>11</td>\n      <td>17</td>\n      <td>6</td>\n      <td>6</td>\n      <td>6</td>\n      <td>4</td>\n      <td>6</td>\n      <td>42</td>\n      <td>PURDUE</td>\n    </tr>\n    <tr>\n      <th>4</th>\n      <td>Immanuel Allen</td>\n      <td>6</td>\n      <td>0.0</td>\n      <td>100</td>\n      <td>7</td>\n      <td>24</td>\n      <td>0.292</td>\n      <td>5</td>\n      <td>16</td>\n      <td>0.313</td>\n      <td>...</td>\n      <td>4</td>\n      <td>8</td>\n      <td>12</td>\n      <td>4</td>\n      <td>7</td>\n      <td>0</td>\n      <td>4</td>\n      <td>17</td>\n      <td>32</td>\n      <td>PURDUE</td>\n    </tr>\n    <tr>\n      <th>...</th>\n      <td>...</td>\n      <td>...</td>\n      <td>...</td>\n      <td>...</td>\n      <td>...</td>\n      <td>...</td>\n      <td>...</td>\n      <td>...</td>\n      <td>...</td>\n      <td>...</td>\n      <td>...</td>\n      <td>...</td>\n      <td>...</td>\n      <td>...</td>\n      <td>...</td>\n      <td>...</td>\n      <td>...</td>\n      <td>...</td>\n      <td>...</td>\n      <td>...</td>\n      <td>...</td>\n    </tr>\n    <tr>\n      <th>5035</th>\n      <td>EJ Farmer</td>\n      <td>6</td>\n      <td>5.0</td>\n      <td>133</td>\n      <td>14</td>\n      <td>43</td>\n      <td>0.326</td>\n      <td>13</td>\n      <td>29</td>\n      <td>0.448</td>\n      <td>...</td>\n      <td>3</td>\n      <td>11</td>\n      <td>14</td>\n      <td>5</td>\n      <td>4</td>\n      <td>0</td>\n      <td>6</td>\n      <td>3</td>\n      <td>32</td>\n      <td>PURDUE</td>\n    </tr>\n    <tr>\n      <th>5036</th>\n      <td>Jaylen Bates</td>\n      <td>5</td>\n      <td>0.0</td>\n      <td>63</td>\n      <td>5</td>\n      <td>18</td>\n      <td>0.278</td>\n      <td>1</td>\n      <td>8</td>\n      <td>0.125</td>\n      <td>...</td>\n      <td>5</td>\n      <td>15</td>\n      <td>20</td>\n      <td>1</td>\n      <td>1</td>\n      <td>1</td>\n      <td>5</td>\n      <td>9</td>\n      <td>22</td>\n      <td>PURDUE</td>\n    </tr>\n    <tr>\n      <th>5037</th>\n      <td>Imanuel Zorgvol</td>\n      <td>6</td>\n      <td>0.0</td>\n      <td>51</td>\n      <td>5</td>\n      <td>9</td>\n      <td>0.556</td>\n      <td>5</td>\n      <td>9</td>\n      <td>0.556</td>\n      <td>...</td>\n      <td>5</td>\n      <td>11</td>\n      <td>16</td>\n      <td>0</td>\n      <td>1</td>\n      <td>5</td>\n      <td>3</td>\n      <td>15</td>\n      <td>17</td>\n      <td>PURDUE</td>\n    </tr>\n    <tr>\n      <th>5038</th>\n      <td>Gabe Dynes</td>\n      <td>6</td>\n      <td>0.0</td>\n      <td>65</td>\n      <td>7</td>\n      <td>12</td>\n      <td>0.583</td>\n      <td>7</td>\n      <td>11</td>\n      <td>0.636</td>\n      <td>...</td>\n      <td>4</td>\n      <td>15</td>\n      <td>19</td>\n      <td>1</td>\n      <td>1</td>\n      <td>8</td>\n      <td>1</td>\n      <td>7</td>\n      <td>15</td>\n      <td>PURDUE</td>\n    </tr>\n    <tr>\n      <th>5039</th>\n      <td>Tommy Fryda</td>\n      <td>2</td>\n      <td>0.0</td>\n      <td>2</td>\n      <td>0</td>\n      <td>0</td>\n      <td>NaN</td>\n      <td>0</td>\n      <td>0</td>\n      <td>NaN</td>\n      <td>...</td>\n      <td>0</td>\n      <td>1</td>\n      <td>1</td>\n      <td>0</td>\n      <td>0</td>\n      <td>1</td>\n      <td>0</td>\n      <td>0</td>\n      <td>0</td>\n      <td>PURDUE</td>\n    </tr>\n  </tbody>\n</table>\n<p>4679 rows × 26 columns</p>\n</div>"
     },
     "execution_count": 18,
     "metadata": {},
     "output_type": "execute_result"
    }
   ],
   "source": [
    "def create_all_player_totals_dataframe() -> pd.DataFrame:\n",
    "    \n",
    "    list_to_transform = []\n",
    "    \n",
    "    for team,data in master_json.items():\n",
    "        \n",
    "        for player_data_row in data['player_totals']:\n",
    "            list_to_transform.append(player_data_row)\n",
    "    \n",
    "    return pd.DataFrame(list_to_transform,index = [i for i in range(len(list_to_transform))])\\\n",
    "        .query(\"Player != 'School Totals'\").drop('Rk',axis = 1)\n",
    "\n",
    "create_all_player_totals_dataframe()"
   ],
   "metadata": {
    "collapsed": false,
    "ExecuteTime": {
     "end_time": "2023-12-04T22:30:13.553633200Z",
     "start_time": "2023-12-04T22:30:13.508802Z"
    }
   },
   "id": "6077e4729db92590"
  }
 ],
 "metadata": {
  "kernelspec": {
   "display_name": "Python 3",
   "language": "python",
   "name": "python3"
  },
  "language_info": {
   "codemirror_mode": {
    "name": "ipython",
    "version": 2
   },
   "file_extension": ".py",
   "mimetype": "text/x-python",
   "name": "python",
   "nbconvert_exporter": "python",
   "pygments_lexer": "ipython2",
   "version": "2.7.6"
  }
 },
 "nbformat": 4,
 "nbformat_minor": 5
}
