{
 "cells": [
  {
   "cell_type": "code",
   "execution_count": null,
   "metadata": {},
   "outputs": [],
   "source": [
    "from bs4 import BeautifulSoup\n",
    "import requests\n",
    "import pandas as pd\n",
    "import numpy as np\n",
    "from tqdm import tqdm\n",
    "import time"
   ]
  },
  {
   "cell_type": "code",
   "execution_count": null,
   "metadata": {},
   "outputs": [],
   "source": [
    "all_schools_url = 'https://www.sports-reference.com/cbb/seasons/men/2023-school-stats.html'\n",
    "response = requests.get(all_schools_url, timeout = 10)\n",
    "print(response.status_code)\n",
    "\n",
    "team_name_id_dict = {}\n",
    "\n",
    "soup = BeautifulSoup(response.content)\n",
    "table = soup.findAll('tr')\n",
    "\n",
    "for row in table:\n",
    "    \n",
    "    search = row.find('a',href = True)\n",
    "    if search:\n",
    "        url_suffix = str(search).split('\"')[1].replace(\".html\",\"\")\n",
    "        team_name = str(search).split(\">\")[1].replace(\"</a\",\"\").strip()\n",
    "        team_name_id_dict[team_name] = url_suffix\n",
    "\n",
    "print(team_name_id_dict['Purdue'])"
   ]
  },
  {
   "cell_type": "code",
   "execution_count": null,
   "metadata": {},
   "outputs": [],
   "source": [
    "master_df = pd.DataFrame()\n",
    "counter = 0\n",
    "stop_to_rest_point = np.random.randint(100,300)\n",
    "\n",
    "url_prefix = 'https://www.sports-reference.com'\n",
    "\n",
    "for team_name,url_suffix in tqdm(team_name_id_dict.items()):\n",
    "\n",
    "    full_url = f\"{url_prefix}{url_suffix}-gamelogs.html\"\n",
    "    temp_df = pd.read_html(full_url)[0]\n",
    "    temp_df.columns = [col2 if (col1.startswith('Unnamed') or col1 == \"School\") else f\"opp_{col2}\" for col1,col2 in temp_df.columns]\n",
    "    temp_df = temp_df.iloc[:,~temp_df.columns.str.startswith('Unnamed')].drop('G',axis = 1).dropna().query(\"Date != 'Date'\")\n",
    "    temp_df['team_name'] = team_name\n",
    "    master_df = pd.concat([master_df,temp_df])\n",
    "    counter +=1\n",
    "    if counter == stop_to_rest_point:\n",
    "        time.sleep(np.random.randint(60,120))\n",
    "        continue\n",
    "  \n",
    "    time.sleep(np.random.rantint(3,7))"
   ]
  },
  {
   "cell_type": "code",
   "execution_count": null,
   "metadata": {},
   "outputs": [],
   "source": [
    "master_df"
   ]
  }
 ],
 "metadata": {
  "kernelspec": {
   "display_name": "base",
   "language": "python",
   "name": "python3"
  },
  "language_info": {
   "codemirror_mode": {
    "name": "ipython",
    "version": 3
   },
   "file_extension": ".py",
   "mimetype": "text/x-python",
   "name": "python",
   "nbconvert_exporter": "python",
   "pygments_lexer": "ipython3",
   "version": "3.9.12"
  },
  "orig_nbformat": 4
 },
 "nbformat": 4,
 "nbformat_minor": 2
}
