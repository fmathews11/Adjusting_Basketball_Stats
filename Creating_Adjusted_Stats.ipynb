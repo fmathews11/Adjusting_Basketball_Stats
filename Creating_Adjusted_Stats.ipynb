{
 "cells": [
  {
   "cell_type": "code",
   "execution_count": null,
   "id": "initial_id",
   "metadata": {
    "collapsed": true
   },
   "outputs": [],
   "source": [
    "import pandas as pd\n",
    "import numpy as np\n",
    "from modules import constants\n",
    "from modules.functions import convert_box_score_dataframe_to_regression_format\n",
    "from sklearn.linear_model import Ridge\n",
    "from modules.objects import RegressionHub\n",
    "\n",
    "team_id_name_dict = {v:k for k,v in constants.TEAM_NAME_ID_DICT.items()}"
   ]
  },
  {
   "cell_type": "markdown",
   "source": [
    "Read in full data filter on D1 games only"
   ],
   "metadata": {
    "collapsed": false
   },
   "id": "1fe91a743877355d"
  },
  {
   "cell_type": "code",
   "execution_count": null,
   "outputs": [],
   "source": [
    "full_box_df = pd.read_parquet('parquet_files/box_scores_sports_reference_2024.gzip')\n",
    "reg_df = convert_box_score_dataframe_to_regression_format(full_box_df)\n",
    "games_df = reg_df.drop(['ortg','drtg','pace','to_pct','opp_to_pct','game_date'],axis = 1).copy()\n",
    "y_df = reg_df[['ortg','drtg','pace']].copy()"
   ],
   "metadata": {
    "collapsed": false
   },
   "id": "b8fb4656d224a94a"
  },
  {
   "cell_type": "code",
   "execution_count": null,
   "outputs": [],
   "source": [
    "parameter_dict = {}\n",
    "master_df = pd.DataFrame()\n",
    "for column in y_df.columns.tolist():\n",
    "    \n",
    "    reg = Ridge(alpha=2,fit_intercept=True)\n",
    "    reg.fit(X = games_df ,y = y_df[column].to_numpy())\n",
    "    reg_results = {\"variable\":[],f'coef_{column}':[],f'intercept_{column}':[],f'adj_{column}':[]}\n",
    "    intercept = round(reg.intercept_,2)\n",
    "    parameter_dict[f\"{column}_regression\"] = reg\n",
    "    \n",
    "    for variable,coefficient in zip(games_df.columns,reg.coef_):\n",
    "        reg_results[f'intercept_{column}'].append(intercept)\n",
    "        reg_results['variable'].append(variable)\n",
    "        reg_results[f'coef_{column}'].append(coefficient)\n",
    "        reg_results[f'adj_{column}'].append(coefficient + reg.intercept_)\n",
    "    \n",
    "    output_df = pd.DataFrame(reg_results)\n",
    "    output_df = output_df.loc[(output_df.variable.str.startswith(\"TM\")) | (output_df.variable == \"home\")].copy()\n",
    "    output_df['tm_id'] = output_df.variable.map(lambda x: x.split(\"_\")[1] if x != 'home' else -1).astype(int)\n",
    "    output_df['team_name'] = output_df.tm_id.map(lambda x: team_id_name_dict.get(x,\"HOME_COURT_ADVANTAGE\"))\n",
    "    output_df = output_df[['team_name',f'intercept_{column}',f'coef_{column}',f'adj_{column}']]\n",
    "    \n",
    "    if master_df.empty:\n",
    "        master_df = output_df.copy()\n",
    "        continue\n",
    "    \n",
    "    master_df = master_df.merge(output_df,on = 'team_name')\n",
    "    \n",
    "\n",
    "master_df['adj_nrtg'] = master_df.adj_ortg - master_df.adj_drtg\n",
    "parameter_dict['regression_dict'] = master_df.set_index('team_name').to_dict(orient='index')\n",
    "master_df.sort_values('adj_nrtg',ascending=False)"
   ],
   "metadata": {
    "collapsed": false
   },
   "id": "33a0dfc9a11f467b"
  },
  {
   "cell_type": "code",
   "execution_count": null,
   "outputs": [],
   "source": [
    "hub = RegressionHub(**parameter_dict)\n",
    "print(hub.ortg_regression.intercept_,hub.drtg_regression.intercept_,hub.pace_regression.intercept_)"
   ],
   "metadata": {
    "collapsed": false
   },
   "id": "217c93d65c9daa57"
  },
  {
   "cell_type": "code",
   "execution_count": null,
   "outputs": [],
   "source": [
    "games_df['predicted_ortg'] = hub.ortg_regression.predict(games_df.iloc[:,:725])\n",
    "games_df['actual_ortg'] = y_df.ortg\n",
    "games_df['predicted_drtg'] = hub.drtg_regression.predict(games_df.iloc[:,:725])\n",
    "games_df['actual_drtg'] = y_df.drtg\n",
    "games_df['predicted_pace'] = hub.pace_regression.predict(games_df.iloc[:,:725])\n",
    "games_df['actual_pace'] = y_df.pace\n",
    "games_df['actual_nrtg'] = games_df.actual_ortg - games_df.actual_drtg\n",
    "games_df['predicted_nrtg'] = games_df.predicted_ortg - games_df.predicted_drtg"
   ],
   "metadata": {
    "collapsed": false
   },
   "id": "3cd020ac8d65b3bd"
  },
  {
   "cell_type": "code",
   "execution_count": null,
   "outputs": [],
   "source": [
    "import seaborn as sns\n",
    "import matplotlib.pyplot as plt\n",
    "\n",
    "plt.figure(figsize=(16,8))\n",
    "sns.regplot(x = games_df.predicted_ortg,y = games_df.actual_ortg,line_kws={'color':'red'})\n",
    "plt.title(\"Offensive rating - prediction vs observed\")\n",
    "plt.xlabel(\"Predicted Offensive Rating\")\n",
    "plt.ylabel(\"Actual offensive rating\")\n",
    "plt.show();"
   ],
   "metadata": {
    "collapsed": false
   },
   "id": "a0065faec49727f3"
  },
  {
   "cell_type": "code",
   "execution_count": null,
   "outputs": [],
   "source": [
    "plt.figure(figsize=(16,8))\n",
    "sns.histplot(games_df.apply(lambda x: np.abs(x.predicted_nrtg - x.actual_nrtg),axis = 1));"
   ],
   "metadata": {
    "collapsed": false
   },
   "id": "dc4ff624d676c95e"
  }
 ],
 "metadata": {
  "kernelspec": {
   "display_name": "Python 3",
   "language": "python",
   "name": "python3"
  },
  "language_info": {
   "codemirror_mode": {
    "name": "ipython",
    "version": 2
   },
   "file_extension": ".py",
   "mimetype": "text/x-python",
   "name": "python",
   "nbconvert_exporter": "python",
   "pygments_lexer": "ipython2",
   "version": "2.7.6"
  }
 },
 "nbformat": 4,
 "nbformat_minor": 5
}
