{
 "cells": [
  {
   "cell_type": "code",
   "execution_count": null,
   "id": "initial_id",
   "metadata": {
    "collapsed": true
   },
   "outputs": [],
   "source": [
    "import pandas as pd\n",
    "from modules import constants\n",
    "from modules.functions import convert_box_score_dataframe_to_regression_format,add_calculated_metrics_to_preprocessed_dataframe\n",
    "from sklearn.linear_model import Ridge\n",
    "from modules.objects import RegressionHub\n",
    "team_id_name_dict = {v:k for k,v in constants.TEAM_NAME_ID_DICT.items()}\n",
    "from datetime import datetime\n",
    "today = str(datetime.today()).split(\" \")[0]"
   ]
  },
  {
   "cell_type": "markdown",
   "source": [
    "Read in full data filter on D1 games only"
   ],
   "metadata": {
    "collapsed": false
   },
   "id": "1fe91a743877355d"
  },
  {
   "cell_type": "code",
   "execution_count": null,
   "outputs": [],
   "source": [
    "full_box_df = pd.read_parquet('parquet_files/box_scores_sports_reference_2024.gzip')\n",
    "metrics_df = add_calculated_metrics_to_preprocessed_dataframe(full_box_df)\n",
    "reg_df = convert_box_score_dataframe_to_regression_format(metrics_df)\n",
    "print(reg_df.shape)\n",
    "games_df = reg_df.drop(['ortg','drtg','pace','to_pct','opp_to_pct','game_date','ui'],axis = 1).copy()\n",
    "y_df = reg_df[['ortg','drtg','pace']].copy()\n",
    "\n",
    "parameter_dict = {}\n",
    "master_df = pd.DataFrame()\n",
    "for column in y_df.columns.tolist():\n",
    "    \n",
    "    reg = Ridge(alpha=1.5,fit_intercept=True)\n",
    "    reg.fit(X = games_df ,y = y_df[column].to_numpy())\n",
    "    reg_results = {\"variable\":[],f'coef_{column}':[],f'intercept_{column}':[],f'adj_{column}':[]}\n",
    "    intercept = round(reg.intercept_,2)\n",
    "    parameter_dict[f\"{column}_regression\"] = reg\n",
    "    \n",
    "    for variable,coefficient in zip(games_df.columns,reg.coef_):\n",
    "        reg_results[f'intercept_{column}'].append(intercept)\n",
    "        reg_results['variable'].append(variable)\n",
    "        reg_results[f'coef_{column}'].append(coefficient)\n",
    "        reg_results[f'adj_{column}'].append(coefficient + reg.intercept_)\n",
    "    \n",
    "    output_df = pd.DataFrame(reg_results)\n",
    "    output_df = output_df.loc[(output_df.variable.str.startswith(\"TM\")) | (output_df.variable == \"home\")].copy()\n",
    "    output_df['tm_id'] = output_df.variable.map(lambda x: x.split(\"_\")[1] if x != 'home' else -1).astype(int)\n",
    "    output_df['team_name'] = output_df.tm_id.map(lambda x: team_id_name_dict.get(x,\"HOME_COURT_ADVANTAGE\"))\n",
    "    output_df = output_df[['team_name',f'intercept_{column}',f'coef_{column}',f'adj_{column}']]\n",
    "    \n",
    "    if master_df.empty:\n",
    "        master_df = output_df.copy()\n",
    "        continue\n",
    "    \n",
    "    master_df = master_df.merge(output_df,on = 'team_name')\n",
    "    \n",
    "\n",
    "master_df['adj_nrtg'] = master_df.adj_ortg - master_df.adj_drtg\n",
    "parameter_dict['regression_dict'] = master_df.set_index('team_name').to_dict(orient='index')\n",
    "\n",
    "master_df.to_parquet(f'outputs/adjusted_rankings/adjusted_rankings_{today}.gzip',compression='gzip',index = False)\n",
    "master_df.sort_values('adj_nrtg',ascending=False).reset_index(drop = True)"
   ],
   "metadata": {
    "collapsed": false
   },
   "id": "33a0dfc9a11f467b"
  },
  {
   "cell_type": "code",
   "outputs": [],
   "source": [
    "hub = RegressionHub(**parameter_dict)\n",
    "print(hub.ortg_regression.intercept_,hub.drtg_regression.intercept_,hub.pace_regression.intercept_)"
   ],
   "metadata": {
    "collapsed": false
   },
   "id": "217c93d65c9daa57",
   "execution_count": null
  },
  {
   "cell_type": "code",
   "outputs": [],
   "source": [
    "games_df['expected_ortg'] = hub.ortg_regression.predict(games_df.iloc[:,:725])\n",
    "games_df['actual_ortg'] = y_df.ortg\n",
    "games_df['expected_drtg'] = hub.drtg_regression.predict(games_df.iloc[:,:725])\n",
    "games_df['actual_drtg'] = y_df.drtg\n",
    "games_df['expected_pace'] = hub.pace_regression.predict(games_df.iloc[:,:725])\n",
    "games_df['actual_pace'] = y_df.pace\n",
    "games_df['actual_nrtg'] = games_df.actual_ortg - games_df.actual_drtg\n",
    "games_df['expected_nrtg'] = games_df.expected_ortg - games_df.expected_drtg\n",
    "games_df['ui'] = metrics_df.ui\n",
    "\n",
    "df_to_merge = games_df[[i for i in games_df.columns if (i.startswith('expe')  or i == 'ui')]].copy()\n",
    "metrics_df = metrics_df.merge(df_to_merge, on='ui').round(2)\n",
    "metrics_df.to_parquet(f'outputs/boxscores_with_expected_values/ev_{today}',compression='gzip',index=False)"
   ],
   "metadata": {
    "collapsed": false
   },
   "id": "c6a152e00c4be51b",
   "execution_count": null
  },
  {
   "cell_type": "code",
   "execution_count": null,
   "outputs": [],
   "source": [
    "import seaborn as sns\n",
    "import matplotlib.pyplot as plt\n",
    "\n",
    "plt.figure(figsize=(16,8))\n",
    "sns.scatterplot(x = games_df.expected_nrtg,y = games_df.actual_nrtg)\n",
    "plt.title(\"Offensive Net Rating:  Expected vs Observed\")\n",
    "plt.xlabel(\"Expected Offensive Rating\",size = 12)\n",
    "plt.ylabel(\"Actual offensive rating\",size = 12)\n",
    "plt.show();"
   ],
   "metadata": {
    "collapsed": false
   },
   "id": "a0065faec49727f3"
  },
  {
   "cell_type": "code",
   "outputs": [],
   "source": [
    "{key for key in parameter_dict.keys()}"
   ],
   "metadata": {
    "collapsed": false
   },
   "id": "b000777e00253667",
   "execution_count": null
  },
  {
   "cell_type": "code",
   "outputs": [],
   "source": [
    "from modules.functions import generate_expected_efficiencies_verbose\n",
    "\n",
    "generate_expected_efficiencies_verbose(parameter_dict['regression_dict'],'Purdue','Illinois','Illinois')"
   ],
   "metadata": {
    "collapsed": false
   },
   "id": "eec836b00b58176d",
   "execution_count": null
  }
 ],
 "metadata": {
  "kernelspec": {
   "display_name": "Python 3",
   "language": "python",
   "name": "python3"
  },
  "language_info": {
   "codemirror_mode": {
    "name": "ipython",
    "version": 2
   },
   "file_extension": ".py",
   "mimetype": "text/x-python",
   "name": "python",
   "nbconvert_exporter": "python",
   "pygments_lexer": "ipython2",
   "version": "2.7.6"
  }
 },
 "nbformat": 4,
 "nbformat_minor": 5
}
