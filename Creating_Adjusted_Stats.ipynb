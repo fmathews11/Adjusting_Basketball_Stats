{
 "cells": [
  {
   "cell_type": "code",
   "execution_count": 1,
   "id": "initial_id",
   "metadata": {
    "collapsed": true,
    "ExecuteTime": {
     "end_time": "2024-02-02T04:17:29.819978200Z",
     "start_time": "2024-02-02T04:17:29.805710100Z"
    }
   },
   "outputs": [],
   "source": [
    "import pandas as pd\n",
    "import numpy as np\n",
    "from modules import constants"
   ]
  },
  {
   "cell_type": "markdown",
   "source": [
    "Read in full data filter, on D1 games only"
   ],
   "metadata": {
    "collapsed": false
   },
   "id": "1fe91a743877355d"
  },
  {
   "cell_type": "code",
   "execution_count": 27,
   "outputs": [],
   "source": [
    "def calculate_possessions(fga,ors,tos,fta) -> float:\n",
    "    \n",
    "    return fga - ors + tos + (0.475 * fta)"
   ],
   "metadata": {
    "collapsed": false,
    "ExecuteTime": {
     "end_time": "2024-02-02T04:34:35.451321900Z",
     "start_time": "2024-02-02T04:34:35.450322400Z"
    }
   },
   "id": "3829b559665a44bd"
  },
  {
   "cell_type": "code",
   "execution_count": 38,
   "outputs": [
    {
     "data": {
      "text/plain": "            date        opp_name wl  score  opp_score  fg  fga  fgpct  3p  \\\n4251  2023-11-10          DAYTON  W     71         66  25   53  0.472   5   \n4384  2023-12-20             UNC  L     69         81  23   57  0.404   7   \n220   2023-11-29     SAM HOUSTON  W     78         61  33   64  0.516   4   \n3864  2024-01-02  COLORADO STATE  L     68         76  28   60  0.467   8   \n5745  2023-11-29            YALE  L     71         79  24   54  0.444  10   \n\n      3pa  ...  opp_orb  opp_trb  opp_ast  opp_stl  opp_blk  opp_tov  opp_pf  \\\n4251   14  ...        3       21       16        3        1       15      17   \n4384   23  ...        7       34        9       10        6        9      18   \n220    18  ...       12       40       13        5        3       15      17   \n3864   17  ...        7       36       14       10        6       15      14   \n5745   22  ...       14       35       14       10        3       11      16   \n\n          team_name  team_id  opp_id  \n4251   NORTHWESTERN      165     320  \n4384       OKLAHOMA       98     108  \n220   ARIZONA STATE      179     221  \n3864     NEW MEXICO      146     297  \n5745    STONY BROOK       43      44  \n\n[5 rows x 40 columns]",
      "text/html": "<div>\n<style scoped>\n    .dataframe tbody tr th:only-of-type {\n        vertical-align: middle;\n    }\n\n    .dataframe tbody tr th {\n        vertical-align: top;\n    }\n\n    .dataframe thead th {\n        text-align: right;\n    }\n</style>\n<table border=\"1\" class=\"dataframe\">\n  <thead>\n    <tr style=\"text-align: right;\">\n      <th></th>\n      <th>date</th>\n      <th>opp_name</th>\n      <th>wl</th>\n      <th>score</th>\n      <th>opp_score</th>\n      <th>fg</th>\n      <th>fga</th>\n      <th>fgpct</th>\n      <th>3p</th>\n      <th>3pa</th>\n      <th>...</th>\n      <th>opp_orb</th>\n      <th>opp_trb</th>\n      <th>opp_ast</th>\n      <th>opp_stl</th>\n      <th>opp_blk</th>\n      <th>opp_tov</th>\n      <th>opp_pf</th>\n      <th>team_name</th>\n      <th>team_id</th>\n      <th>opp_id</th>\n    </tr>\n  </thead>\n  <tbody>\n    <tr>\n      <th>4251</th>\n      <td>2023-11-10</td>\n      <td>DAYTON</td>\n      <td>W</td>\n      <td>71</td>\n      <td>66</td>\n      <td>25</td>\n      <td>53</td>\n      <td>0.472</td>\n      <td>5</td>\n      <td>14</td>\n      <td>...</td>\n      <td>3</td>\n      <td>21</td>\n      <td>16</td>\n      <td>3</td>\n      <td>1</td>\n      <td>15</td>\n      <td>17</td>\n      <td>NORTHWESTERN</td>\n      <td>165</td>\n      <td>320</td>\n    </tr>\n    <tr>\n      <th>4384</th>\n      <td>2023-12-20</td>\n      <td>UNC</td>\n      <td>L</td>\n      <td>69</td>\n      <td>81</td>\n      <td>23</td>\n      <td>57</td>\n      <td>0.404</td>\n      <td>7</td>\n      <td>23</td>\n      <td>...</td>\n      <td>7</td>\n      <td>34</td>\n      <td>9</td>\n      <td>10</td>\n      <td>6</td>\n      <td>9</td>\n      <td>18</td>\n      <td>OKLAHOMA</td>\n      <td>98</td>\n      <td>108</td>\n    </tr>\n    <tr>\n      <th>220</th>\n      <td>2023-11-29</td>\n      <td>SAM HOUSTON</td>\n      <td>W</td>\n      <td>78</td>\n      <td>61</td>\n      <td>33</td>\n      <td>64</td>\n      <td>0.516</td>\n      <td>4</td>\n      <td>18</td>\n      <td>...</td>\n      <td>12</td>\n      <td>40</td>\n      <td>13</td>\n      <td>5</td>\n      <td>3</td>\n      <td>15</td>\n      <td>17</td>\n      <td>ARIZONA STATE</td>\n      <td>179</td>\n      <td>221</td>\n    </tr>\n    <tr>\n      <th>3864</th>\n      <td>2024-01-02</td>\n      <td>COLORADO STATE</td>\n      <td>L</td>\n      <td>68</td>\n      <td>76</td>\n      <td>28</td>\n      <td>60</td>\n      <td>0.467</td>\n      <td>8</td>\n      <td>17</td>\n      <td>...</td>\n      <td>7</td>\n      <td>36</td>\n      <td>14</td>\n      <td>10</td>\n      <td>6</td>\n      <td>15</td>\n      <td>14</td>\n      <td>NEW MEXICO</td>\n      <td>146</td>\n      <td>297</td>\n    </tr>\n    <tr>\n      <th>5745</th>\n      <td>2023-11-29</td>\n      <td>YALE</td>\n      <td>L</td>\n      <td>71</td>\n      <td>79</td>\n      <td>24</td>\n      <td>54</td>\n      <td>0.444</td>\n      <td>10</td>\n      <td>22</td>\n      <td>...</td>\n      <td>14</td>\n      <td>35</td>\n      <td>14</td>\n      <td>10</td>\n      <td>3</td>\n      <td>11</td>\n      <td>16</td>\n      <td>STONY BROOK</td>\n      <td>43</td>\n      <td>44</td>\n    </tr>\n  </tbody>\n</table>\n<p>5 rows × 40 columns</p>\n</div>"
     },
     "execution_count": 38,
     "metadata": {},
     "output_type": "execute_result"
    }
   ],
   "source": [
    "full_box_df = pd.read_parquet('parquet_files/box_scores_sports_reference_2024.gzip')\n",
    "full_box_df['team_id'] = full_box_df.team_name.map(constants.TEAM_NAME_ID_DICT)\n",
    "full_box_df['opp_id'] = full_box_df.opp_name.map(constants.TEAM_NAME_ID_DICT)\n",
    "d1_df = full_box_df.loc[~full_box_df.opp_id.isin(constants.NON_D1_IDs)].copy()\n",
    "d1_df = d1_df.loc[~d1_df.team_id.isin(constants.NON_D1_IDs)].reset_index(drop =True).copy()\n",
    "# Coerce appropriate columns to numeric data types\n",
    "for col in d1_df.columns.tolist():\n",
    "    try:\n",
    "        d1_df[col] = pd.to_numeric(d1_df[col])\n",
    "    except ValueError as e:\n",
    "        continue\n",
    "assert d1_df.opp_id.nunique() == 362\n",
    "assert d1_df.team_id.nunique() == 362\n",
    "assert len(set(d1_df.team_id.unique().tolist() + d1_df.opp_id.unique().tolist())) == 362\n",
    "d1_df.sample(5)"
   ],
   "metadata": {
    "collapsed": false,
    "ExecuteTime": {
     "end_time": "2024-02-02T04:40:12.676950800Z",
     "start_time": "2024-02-02T04:40:12.564579100Z"
    }
   },
   "id": "7782bd18771752c1"
  },
  {
   "cell_type": "markdown",
   "source": [],
   "metadata": {
    "collapsed": false
   },
   "id": "238ef28f9003599b"
  },
  {
   "cell_type": "code",
   "execution_count": 41,
   "outputs": [
    {
     "data": {
      "text/plain": "            date           opp_name wl  score  opp_score  fg  fga  fgpct  3p  \\\n0     2023-11-06     OKLAHOMA STATE  W     64         59  26   57  0.456   5   \n1     2023-11-10           NC STATE  L     64         84  20   57  0.351   5   \n2     2023-11-14       PRAIRIE VIEW  L     74         79  23   60  0.383   5   \n3     2023-11-17     SAN JOSE STATE  W     77         71  25   59  0.424   7   \n4     2023-11-19            FORDHAM  W     59         45  22   55  0.400   3   \n...          ...                ... ..    ...        ...  ..  ...    ...  ..   \n7043  2024-01-12       WRIGHT STATE  W     81         71  27   65  0.415  10   \n7044  2024-01-17            OAKLAND  L     67         70  26   66  0.394   8   \n7045  2024-01-20      DETROIT MERCY  W    105         64  38   60  0.633  14   \n7046  2024-01-25              IUPUI  W     78         50  31   61  0.508   4   \n7047  2024-01-28  NORTHERN KENTUCKY  W     82         52  28   61  0.459   7   \n\n      3pa  ...  opp_tov  opp_pf          team_name  team_id  opp_id  \\\n0      18  ...       12      16  ABILENE CHRISTIAN      215     270   \n1      17  ...        7      20  ABILENE CHRISTIAN      215     237   \n2      19  ...       14      23  ABILENE CHRISTIAN      215     333   \n3      15  ...        6      18  ABILENE CHRISTIAN      215     139   \n4      12  ...       19      16  ABILENE CHRISTIAN      215      65   \n...   ...  ...      ...     ...                ...      ...     ...   \n7043   33  ...        6      17   YOUNGSTOWN STATE      299     359   \n7044   31  ...       10      13   YOUNGSTOWN STATE      299     321   \n7045   26  ...       14      15   YOUNGSTOWN STATE      299     289   \n7046   20  ...       13      16   YOUNGSTOWN STATE      299     186   \n7047   28  ...       19      17   YOUNGSTOWN STATE      299     138   \n\n      possessions  opp_possessions        ortg        drtg    net_rtg  \n0          70.225           71.500   91.135635   82.517483   8.618153  \n1          66.825           68.400   95.772540  122.807018 -27.034477  \n2          74.775           71.150   98.963557  111.033029 -12.069471  \n3          69.350           63.700  111.031002  111.459969  -0.428966  \n4          66.075           66.975   89.292471   67.189250  22.103221  \n...           ...              ...         ...         ...        ...  \n7043       70.975           73.600  114.124692   96.467391  17.657300  \n7044       65.175           64.175  102.800153  109.076743  -6.276590  \n7045       73.125           71.650  143.589744   89.323098  54.266645  \n7046       73.650           73.500  105.906314   68.027211  37.879103  \n7047       65.975           71.450  124.289504   72.778167  51.511337  \n\n[7048 rows x 45 columns]",
      "text/html": "<div>\n<style scoped>\n    .dataframe tbody tr th:only-of-type {\n        vertical-align: middle;\n    }\n\n    .dataframe tbody tr th {\n        vertical-align: top;\n    }\n\n    .dataframe thead th {\n        text-align: right;\n    }\n</style>\n<table border=\"1\" class=\"dataframe\">\n  <thead>\n    <tr style=\"text-align: right;\">\n      <th></th>\n      <th>date</th>\n      <th>opp_name</th>\n      <th>wl</th>\n      <th>score</th>\n      <th>opp_score</th>\n      <th>fg</th>\n      <th>fga</th>\n      <th>fgpct</th>\n      <th>3p</th>\n      <th>3pa</th>\n      <th>...</th>\n      <th>opp_tov</th>\n      <th>opp_pf</th>\n      <th>team_name</th>\n      <th>team_id</th>\n      <th>opp_id</th>\n      <th>possessions</th>\n      <th>opp_possessions</th>\n      <th>ortg</th>\n      <th>drtg</th>\n      <th>net_rtg</th>\n    </tr>\n  </thead>\n  <tbody>\n    <tr>\n      <th>0</th>\n      <td>2023-11-06</td>\n      <td>OKLAHOMA STATE</td>\n      <td>W</td>\n      <td>64</td>\n      <td>59</td>\n      <td>26</td>\n      <td>57</td>\n      <td>0.456</td>\n      <td>5</td>\n      <td>18</td>\n      <td>...</td>\n      <td>12</td>\n      <td>16</td>\n      <td>ABILENE CHRISTIAN</td>\n      <td>215</td>\n      <td>270</td>\n      <td>70.225</td>\n      <td>71.500</td>\n      <td>91.135635</td>\n      <td>82.517483</td>\n      <td>8.618153</td>\n    </tr>\n    <tr>\n      <th>1</th>\n      <td>2023-11-10</td>\n      <td>NC STATE</td>\n      <td>L</td>\n      <td>64</td>\n      <td>84</td>\n      <td>20</td>\n      <td>57</td>\n      <td>0.351</td>\n      <td>5</td>\n      <td>17</td>\n      <td>...</td>\n      <td>7</td>\n      <td>20</td>\n      <td>ABILENE CHRISTIAN</td>\n      <td>215</td>\n      <td>237</td>\n      <td>66.825</td>\n      <td>68.400</td>\n      <td>95.772540</td>\n      <td>122.807018</td>\n      <td>-27.034477</td>\n    </tr>\n    <tr>\n      <th>2</th>\n      <td>2023-11-14</td>\n      <td>PRAIRIE VIEW</td>\n      <td>L</td>\n      <td>74</td>\n      <td>79</td>\n      <td>23</td>\n      <td>60</td>\n      <td>0.383</td>\n      <td>5</td>\n      <td>19</td>\n      <td>...</td>\n      <td>14</td>\n      <td>23</td>\n      <td>ABILENE CHRISTIAN</td>\n      <td>215</td>\n      <td>333</td>\n      <td>74.775</td>\n      <td>71.150</td>\n      <td>98.963557</td>\n      <td>111.033029</td>\n      <td>-12.069471</td>\n    </tr>\n    <tr>\n      <th>3</th>\n      <td>2023-11-17</td>\n      <td>SAN JOSE STATE</td>\n      <td>W</td>\n      <td>77</td>\n      <td>71</td>\n      <td>25</td>\n      <td>59</td>\n      <td>0.424</td>\n      <td>7</td>\n      <td>15</td>\n      <td>...</td>\n      <td>6</td>\n      <td>18</td>\n      <td>ABILENE CHRISTIAN</td>\n      <td>215</td>\n      <td>139</td>\n      <td>69.350</td>\n      <td>63.700</td>\n      <td>111.031002</td>\n      <td>111.459969</td>\n      <td>-0.428966</td>\n    </tr>\n    <tr>\n      <th>4</th>\n      <td>2023-11-19</td>\n      <td>FORDHAM</td>\n      <td>W</td>\n      <td>59</td>\n      <td>45</td>\n      <td>22</td>\n      <td>55</td>\n      <td>0.400</td>\n      <td>3</td>\n      <td>12</td>\n      <td>...</td>\n      <td>19</td>\n      <td>16</td>\n      <td>ABILENE CHRISTIAN</td>\n      <td>215</td>\n      <td>65</td>\n      <td>66.075</td>\n      <td>66.975</td>\n      <td>89.292471</td>\n      <td>67.189250</td>\n      <td>22.103221</td>\n    </tr>\n    <tr>\n      <th>...</th>\n      <td>...</td>\n      <td>...</td>\n      <td>...</td>\n      <td>...</td>\n      <td>...</td>\n      <td>...</td>\n      <td>...</td>\n      <td>...</td>\n      <td>...</td>\n      <td>...</td>\n      <td>...</td>\n      <td>...</td>\n      <td>...</td>\n      <td>...</td>\n      <td>...</td>\n      <td>...</td>\n      <td>...</td>\n      <td>...</td>\n      <td>...</td>\n      <td>...</td>\n      <td>...</td>\n    </tr>\n    <tr>\n      <th>7043</th>\n      <td>2024-01-12</td>\n      <td>WRIGHT STATE</td>\n      <td>W</td>\n      <td>81</td>\n      <td>71</td>\n      <td>27</td>\n      <td>65</td>\n      <td>0.415</td>\n      <td>10</td>\n      <td>33</td>\n      <td>...</td>\n      <td>6</td>\n      <td>17</td>\n      <td>YOUNGSTOWN STATE</td>\n      <td>299</td>\n      <td>359</td>\n      <td>70.975</td>\n      <td>73.600</td>\n      <td>114.124692</td>\n      <td>96.467391</td>\n      <td>17.657300</td>\n    </tr>\n    <tr>\n      <th>7044</th>\n      <td>2024-01-17</td>\n      <td>OAKLAND</td>\n      <td>L</td>\n      <td>67</td>\n      <td>70</td>\n      <td>26</td>\n      <td>66</td>\n      <td>0.394</td>\n      <td>8</td>\n      <td>31</td>\n      <td>...</td>\n      <td>10</td>\n      <td>13</td>\n      <td>YOUNGSTOWN STATE</td>\n      <td>299</td>\n      <td>321</td>\n      <td>65.175</td>\n      <td>64.175</td>\n      <td>102.800153</td>\n      <td>109.076743</td>\n      <td>-6.276590</td>\n    </tr>\n    <tr>\n      <th>7045</th>\n      <td>2024-01-20</td>\n      <td>DETROIT MERCY</td>\n      <td>W</td>\n      <td>105</td>\n      <td>64</td>\n      <td>38</td>\n      <td>60</td>\n      <td>0.633</td>\n      <td>14</td>\n      <td>26</td>\n      <td>...</td>\n      <td>14</td>\n      <td>15</td>\n      <td>YOUNGSTOWN STATE</td>\n      <td>299</td>\n      <td>289</td>\n      <td>73.125</td>\n      <td>71.650</td>\n      <td>143.589744</td>\n      <td>89.323098</td>\n      <td>54.266645</td>\n    </tr>\n    <tr>\n      <th>7046</th>\n      <td>2024-01-25</td>\n      <td>IUPUI</td>\n      <td>W</td>\n      <td>78</td>\n      <td>50</td>\n      <td>31</td>\n      <td>61</td>\n      <td>0.508</td>\n      <td>4</td>\n      <td>20</td>\n      <td>...</td>\n      <td>13</td>\n      <td>16</td>\n      <td>YOUNGSTOWN STATE</td>\n      <td>299</td>\n      <td>186</td>\n      <td>73.650</td>\n      <td>73.500</td>\n      <td>105.906314</td>\n      <td>68.027211</td>\n      <td>37.879103</td>\n    </tr>\n    <tr>\n      <th>7047</th>\n      <td>2024-01-28</td>\n      <td>NORTHERN KENTUCKY</td>\n      <td>W</td>\n      <td>82</td>\n      <td>52</td>\n      <td>28</td>\n      <td>61</td>\n      <td>0.459</td>\n      <td>7</td>\n      <td>28</td>\n      <td>...</td>\n      <td>19</td>\n      <td>17</td>\n      <td>YOUNGSTOWN STATE</td>\n      <td>299</td>\n      <td>138</td>\n      <td>65.975</td>\n      <td>71.450</td>\n      <td>124.289504</td>\n      <td>72.778167</td>\n      <td>51.511337</td>\n    </tr>\n  </tbody>\n</table>\n<p>7048 rows × 45 columns</p>\n</div>"
     },
     "execution_count": 41,
     "metadata": {},
     "output_type": "execute_result"
    }
   ],
   "source": [
    "d1_df['possessions'] = d1_df.apply(lambda x: calculate_possessions(x.fga,x.orb,x.tov,x.fta),axis = 1)\n",
    "d1_df['opp_possessions'] = d1_df.apply(lambda x: calculate_possessions(x.opp_fga,x.opp_orb,x.opp_tov,x.opp_fta),axis = 1)\n",
    "d1_df['ortg'] = d1_df.apply(lambda x: 100*(x.score/x.possessions),axis =1)\n",
    "d1_df['drtg'] = d1_df.apply(lambda x: 100*(x.opp_score/x.opp_possessions),axis =1)\n",
    "d1_df['net_rtg'] = d1_df.apply(lambda x: x.ortg - x.drtg,axis = 1)\n",
    "d1_df"
   ],
   "metadata": {
    "collapsed": false,
    "ExecuteTime": {
     "end_time": "2024-02-02T04:40:33.819943400Z",
     "start_time": "2024-02-02T04:40:33.316038500Z"
    }
   },
   "id": "68aaa9e568bd2fe9"
  },
  {
   "cell_type": "code",
   "execution_count": 18,
   "outputs": [],
   "source": [
    "base_dict = {f\"TM_{id}\":0 for id in set(d1_df.team_id.unique().tolist() + d1_df.opp_id.unique().tolist())}\n",
    "base_dict.update({f\"OPP_{id}\":0 for id in set(d1_df.team_id.unique().tolist() + d1_df.opp_id.unique().tolist())})"
   ],
   "metadata": {
    "collapsed": false,
    "ExecuteTime": {
     "end_time": "2024-02-02T04:26:57.904852600Z",
     "start_time": "2024-02-02T04:26:57.886492300Z"
    }
   },
   "id": "20425f7741953bc7"
  },
  {
   "cell_type": "code",
   "execution_count": 42,
   "outputs": [],
   "source": [
    "output_dict = {}\n",
    "for meaningless_index_value,sub_dict in d1_df.to_dict(orient = 'index').items():\n",
    "    \n",
    "    output_dict[meaningless_index_value] = base_dict.copy()\n",
    "    team_id = sub_dict['team_id']\n",
    "    opp_id = sub_dict['opp_id']\n",
    "    output_dict[meaningless_index_value][f\"TM_{team_id}\"] = 1\n",
    "    output_dict[meaningless_index_value][f\"OPP_{opp_id}\"] = 1\n",
    "    output_dict[meaningless_index_value]['ortg'] = sub_dict['ortg']\n",
    "    output_dict[meaningless_index_value]['drtg'] = sub_dict['drtg']\n",
    "    output_dict[meaningless_index_value]['pace'] = sub_dict['possessions']"
   ],
   "metadata": {
    "collapsed": false,
    "ExecuteTime": {
     "end_time": "2024-02-02T04:42:21.807407Z",
     "start_time": "2024-02-02T04:42:21.682532500Z"
    }
   },
   "id": "2111fdaf12d9d02b"
  },
  {
   "cell_type": "code",
   "execution_count": 47,
   "outputs": [
    {
     "data": {
      "text/plain": "      TM_0  TM_1  TM_2  TM_3  TM_4  TM_5  TM_6  TM_7  TM_8  TM_9  ...  \\\n0        0     0     0     0     0     0     0     0     0     0  ...   \n1        0     0     0     0     0     0     0     0     0     0  ...   \n2        0     0     0     0     0     0     0     0     0     0  ...   \n3        0     0     0     0     0     0     0     0     0     0  ...   \n4        0     0     0     0     0     0     0     0     0     0  ...   \n...    ...   ...   ...   ...   ...   ...   ...   ...   ...   ...  ...   \n7043     0     0     0     0     0     0     0     0     0     0  ...   \n7044     0     0     0     0     0     0     0     0     0     0  ...   \n7045     0     0     0     0     0     0     0     0     0     0  ...   \n7046     0     0     0     0     0     0     0     0     0     0  ...   \n7047     0     0     0     0     0     0     0     0     0     0  ...   \n\n      OPP_355  OPP_356  OPP_357  OPP_358  OPP_359  OPP_620  OPP_631  \\\n0           0        0        0        0        0        0        0   \n1           0        0        0        0        0        0        0   \n2           0        0        0        0        0        0        0   \n3           0        0        0        0        0        0        0   \n4           0        0        0        0        0        0        0   \n...       ...      ...      ...      ...      ...      ...      ...   \n7043        0        0        0        0        1        0        0   \n7044        0        0        0        0        0        0        0   \n7045        0        0        0        0        0        0        0   \n7046        0        0        0        0        0        0        0   \n7047        0        0        0        0        0        0        0   \n\n            ortg        drtg    pace  \n0      91.135635   82.517483  70.225  \n1      95.772540  122.807018  66.825  \n2      98.963557  111.033029  74.775  \n3     111.031002  111.459969  69.350  \n4      89.292471   67.189250  66.075  \n...          ...         ...     ...  \n7043  114.124692   96.467391  70.975  \n7044  102.800153  109.076743  65.175  \n7045  143.589744   89.323098  73.125  \n7046  105.906314   68.027211  73.650  \n7047  124.289504   72.778167  65.975  \n\n[7048 rows x 727 columns]",
      "text/html": "<div>\n<style scoped>\n    .dataframe tbody tr th:only-of-type {\n        vertical-align: middle;\n    }\n\n    .dataframe tbody tr th {\n        vertical-align: top;\n    }\n\n    .dataframe thead th {\n        text-align: right;\n    }\n</style>\n<table border=\"1\" class=\"dataframe\">\n  <thead>\n    <tr style=\"text-align: right;\">\n      <th></th>\n      <th>TM_0</th>\n      <th>TM_1</th>\n      <th>TM_2</th>\n      <th>TM_3</th>\n      <th>TM_4</th>\n      <th>TM_5</th>\n      <th>TM_6</th>\n      <th>TM_7</th>\n      <th>TM_8</th>\n      <th>TM_9</th>\n      <th>...</th>\n      <th>OPP_355</th>\n      <th>OPP_356</th>\n      <th>OPP_357</th>\n      <th>OPP_358</th>\n      <th>OPP_359</th>\n      <th>OPP_620</th>\n      <th>OPP_631</th>\n      <th>ortg</th>\n      <th>drtg</th>\n      <th>pace</th>\n    </tr>\n  </thead>\n  <tbody>\n    <tr>\n      <th>0</th>\n      <td>0</td>\n      <td>0</td>\n      <td>0</td>\n      <td>0</td>\n      <td>0</td>\n      <td>0</td>\n      <td>0</td>\n      <td>0</td>\n      <td>0</td>\n      <td>0</td>\n      <td>...</td>\n      <td>0</td>\n      <td>0</td>\n      <td>0</td>\n      <td>0</td>\n      <td>0</td>\n      <td>0</td>\n      <td>0</td>\n      <td>91.135635</td>\n      <td>82.517483</td>\n      <td>70.225</td>\n    </tr>\n    <tr>\n      <th>1</th>\n      <td>0</td>\n      <td>0</td>\n      <td>0</td>\n      <td>0</td>\n      <td>0</td>\n      <td>0</td>\n      <td>0</td>\n      <td>0</td>\n      <td>0</td>\n      <td>0</td>\n      <td>...</td>\n      <td>0</td>\n      <td>0</td>\n      <td>0</td>\n      <td>0</td>\n      <td>0</td>\n      <td>0</td>\n      <td>0</td>\n      <td>95.772540</td>\n      <td>122.807018</td>\n      <td>66.825</td>\n    </tr>\n    <tr>\n      <th>2</th>\n      <td>0</td>\n      <td>0</td>\n      <td>0</td>\n      <td>0</td>\n      <td>0</td>\n      <td>0</td>\n      <td>0</td>\n      <td>0</td>\n      <td>0</td>\n      <td>0</td>\n      <td>...</td>\n      <td>0</td>\n      <td>0</td>\n      <td>0</td>\n      <td>0</td>\n      <td>0</td>\n      <td>0</td>\n      <td>0</td>\n      <td>98.963557</td>\n      <td>111.033029</td>\n      <td>74.775</td>\n    </tr>\n    <tr>\n      <th>3</th>\n      <td>0</td>\n      <td>0</td>\n      <td>0</td>\n      <td>0</td>\n      <td>0</td>\n      <td>0</td>\n      <td>0</td>\n      <td>0</td>\n      <td>0</td>\n      <td>0</td>\n      <td>...</td>\n      <td>0</td>\n      <td>0</td>\n      <td>0</td>\n      <td>0</td>\n      <td>0</td>\n      <td>0</td>\n      <td>0</td>\n      <td>111.031002</td>\n      <td>111.459969</td>\n      <td>69.350</td>\n    </tr>\n    <tr>\n      <th>4</th>\n      <td>0</td>\n      <td>0</td>\n      <td>0</td>\n      <td>0</td>\n      <td>0</td>\n      <td>0</td>\n      <td>0</td>\n      <td>0</td>\n      <td>0</td>\n      <td>0</td>\n      <td>...</td>\n      <td>0</td>\n      <td>0</td>\n      <td>0</td>\n      <td>0</td>\n      <td>0</td>\n      <td>0</td>\n      <td>0</td>\n      <td>89.292471</td>\n      <td>67.189250</td>\n      <td>66.075</td>\n    </tr>\n    <tr>\n      <th>...</th>\n      <td>...</td>\n      <td>...</td>\n      <td>...</td>\n      <td>...</td>\n      <td>...</td>\n      <td>...</td>\n      <td>...</td>\n      <td>...</td>\n      <td>...</td>\n      <td>...</td>\n      <td>...</td>\n      <td>...</td>\n      <td>...</td>\n      <td>...</td>\n      <td>...</td>\n      <td>...</td>\n      <td>...</td>\n      <td>...</td>\n      <td>...</td>\n      <td>...</td>\n      <td>...</td>\n    </tr>\n    <tr>\n      <th>7043</th>\n      <td>0</td>\n      <td>0</td>\n      <td>0</td>\n      <td>0</td>\n      <td>0</td>\n      <td>0</td>\n      <td>0</td>\n      <td>0</td>\n      <td>0</td>\n      <td>0</td>\n      <td>...</td>\n      <td>0</td>\n      <td>0</td>\n      <td>0</td>\n      <td>0</td>\n      <td>1</td>\n      <td>0</td>\n      <td>0</td>\n      <td>114.124692</td>\n      <td>96.467391</td>\n      <td>70.975</td>\n    </tr>\n    <tr>\n      <th>7044</th>\n      <td>0</td>\n      <td>0</td>\n      <td>0</td>\n      <td>0</td>\n      <td>0</td>\n      <td>0</td>\n      <td>0</td>\n      <td>0</td>\n      <td>0</td>\n      <td>0</td>\n      <td>...</td>\n      <td>0</td>\n      <td>0</td>\n      <td>0</td>\n      <td>0</td>\n      <td>0</td>\n      <td>0</td>\n      <td>0</td>\n      <td>102.800153</td>\n      <td>109.076743</td>\n      <td>65.175</td>\n    </tr>\n    <tr>\n      <th>7045</th>\n      <td>0</td>\n      <td>0</td>\n      <td>0</td>\n      <td>0</td>\n      <td>0</td>\n      <td>0</td>\n      <td>0</td>\n      <td>0</td>\n      <td>0</td>\n      <td>0</td>\n      <td>...</td>\n      <td>0</td>\n      <td>0</td>\n      <td>0</td>\n      <td>0</td>\n      <td>0</td>\n      <td>0</td>\n      <td>0</td>\n      <td>143.589744</td>\n      <td>89.323098</td>\n      <td>73.125</td>\n    </tr>\n    <tr>\n      <th>7046</th>\n      <td>0</td>\n      <td>0</td>\n      <td>0</td>\n      <td>0</td>\n      <td>0</td>\n      <td>0</td>\n      <td>0</td>\n      <td>0</td>\n      <td>0</td>\n      <td>0</td>\n      <td>...</td>\n      <td>0</td>\n      <td>0</td>\n      <td>0</td>\n      <td>0</td>\n      <td>0</td>\n      <td>0</td>\n      <td>0</td>\n      <td>105.906314</td>\n      <td>68.027211</td>\n      <td>73.650</td>\n    </tr>\n    <tr>\n      <th>7047</th>\n      <td>0</td>\n      <td>0</td>\n      <td>0</td>\n      <td>0</td>\n      <td>0</td>\n      <td>0</td>\n      <td>0</td>\n      <td>0</td>\n      <td>0</td>\n      <td>0</td>\n      <td>...</td>\n      <td>0</td>\n      <td>0</td>\n      <td>0</td>\n      <td>0</td>\n      <td>0</td>\n      <td>0</td>\n      <td>0</td>\n      <td>124.289504</td>\n      <td>72.778167</td>\n      <td>65.975</td>\n    </tr>\n  </tbody>\n</table>\n<p>7048 rows × 727 columns</p>\n</div>"
     },
     "execution_count": 47,
     "metadata": {},
     "output_type": "execute_result"
    }
   ],
   "source": [
    "reg_df = pd.DataFrame(output_dict).transpose()\n",
    "for col in [i for i in reg_df.columns if (i.startswith(\"TM\") or i.startswith(\"OPP\"))]:\n",
    "    reg_df[col] = reg_df[col].astype(int)\n",
    "reg_df"
   ],
   "metadata": {
    "collapsed": false,
    "ExecuteTime": {
     "end_time": "2024-02-02T04:44:14.891327100Z",
     "start_time": "2024-02-02T04:44:10.489811400Z"
    }
   },
   "id": "4eb2fe05cf4686d1"
  }
 ],
 "metadata": {
  "kernelspec": {
   "display_name": "Python 3",
   "language": "python",
   "name": "python3"
  },
  "language_info": {
   "codemirror_mode": {
    "name": "ipython",
    "version": 2
   },
   "file_extension": ".py",
   "mimetype": "text/x-python",
   "name": "python",
   "nbconvert_exporter": "python",
   "pygments_lexer": "ipython2",
   "version": "2.7.6"
  }
 },
 "nbformat": 4,
 "nbformat_minor": 5
}
