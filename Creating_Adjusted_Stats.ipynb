{
 "cells": [
  {
   "cell_type": "code",
   "execution_count": 1,
   "id": "initial_id",
   "metadata": {
    "collapsed": true,
    "ExecuteTime": {
     "end_time": "2024-02-15T20:58:33.501085200Z",
     "start_time": "2024-02-15T20:58:32.976488300Z"
    }
   },
   "outputs": [],
   "source": [
    "import pandas as pd\n",
    "import numpy as np\n",
    "from modules import constants\n",
    "from modules.functions import convert_box_score_dataframe_to_regression_format\n",
    "from sklearn.linear_model import Ridge\n",
    "from dataclasses import dataclass\n",
    "\n",
    "team_id_name_dict = {v:k for k,v in constants.TEAM_NAME_ID_DICT.items()}\n",
    "@dataclass\n",
    "class RegressionHub:\n",
    "    ortg_regression: Ridge\n",
    "    drtg_regression: Ridge\n",
    "    pace_regression: Ridge"
   ]
  },
  {
   "cell_type": "markdown",
   "source": [
    "Read in full data filter on D1 games only"
   ],
   "metadata": {
    "collapsed": false
   },
   "id": "1fe91a743877355d"
  },
  {
   "cell_type": "code",
   "execution_count": 2,
   "outputs": [
    {
     "data": {
      "text/plain": "      TM_0  TM_1  TM_2  TM_3  TM_4  TM_5  TM_6  TM_7  TM_8  TM_9  ...  \\\n0        0     0     0     0     0     0     0     0     0     0  ...   \n1        0     0     0     0     0     0     0     0     0     0  ...   \n2        0     0     0     0     0     0     0     0     0     0  ...   \n3        0     0     0     0     0     0     0     0     0     0  ...   \n4        0     0     0     0     0     0     0     0     0     0  ...   \n...    ...   ...   ...   ...   ...   ...   ...   ...   ...   ...  ...   \n8359     0     0     0     0     0     0     0     0     0     0  ...   \n8360     0     0     0     0     0     0     0     0     0     0  ...   \n8361     0     0     0     0     0     0     0     0     0     0  ...   \n8362     0     0     0     0     0     0     0     0     0     0  ...   \n8363     0     0     0     0     0     0     0     0     0     0  ...   \n\n      OPP_358  OPP_359  OPP_620  OPP_631  home        ortg        drtg  \\\n0           0        0        0        0  -1.0   91.135635   82.517483   \n1           0        0        0        0  -1.0   95.772540  122.807018   \n2           0        0        0        0   1.0   98.963557  111.033029   \n3           0        0        0        0   0.0  111.031002  111.459969   \n4           0        0        0        0   0.0   89.292471   67.189250   \n...       ...      ...      ...      ...   ...         ...         ...   \n8359        0        1        0        0  -1.0  119.646499  106.280193   \n8360        0        0        0        0  -1.0   99.079073  113.259669   \n8361        0        0        0        0   1.0  110.825478  101.040119   \n8362        0        0        0        0   1.0  116.246499  119.957158   \n8363        0        0        0        0   1.0  122.019635  112.326769   \n\n        pace     to_pct  opp_to_pct  \n0     70.225  21.359915   16.783217  \n1     66.825  16.460905   10.233918  \n2     74.775  18.722835   19.676739  \n3     69.350   7.209805    9.419152  \n4     66.075  13.620885   28.368794  \n...      ...        ...         ...  \n8359  73.550  14.955812   17.943409  \n8360  78.725  15.242934   11.049724  \n8361  77.800  11.425307   15.453195  \n8362  71.400   7.002801   14.280614  \n8363  71.300   5.610098    8.752735  \n\n[8364 rows x 730 columns]",
      "text/html": "<div>\n<style scoped>\n    .dataframe tbody tr th:only-of-type {\n        vertical-align: middle;\n    }\n\n    .dataframe tbody tr th {\n        vertical-align: top;\n    }\n\n    .dataframe thead th {\n        text-align: right;\n    }\n</style>\n<table border=\"1\" class=\"dataframe\">\n  <thead>\n    <tr style=\"text-align: right;\">\n      <th></th>\n      <th>TM_0</th>\n      <th>TM_1</th>\n      <th>TM_2</th>\n      <th>TM_3</th>\n      <th>TM_4</th>\n      <th>TM_5</th>\n      <th>TM_6</th>\n      <th>TM_7</th>\n      <th>TM_8</th>\n      <th>TM_9</th>\n      <th>...</th>\n      <th>OPP_358</th>\n      <th>OPP_359</th>\n      <th>OPP_620</th>\n      <th>OPP_631</th>\n      <th>home</th>\n      <th>ortg</th>\n      <th>drtg</th>\n      <th>pace</th>\n      <th>to_pct</th>\n      <th>opp_to_pct</th>\n    </tr>\n  </thead>\n  <tbody>\n    <tr>\n      <th>0</th>\n      <td>0</td>\n      <td>0</td>\n      <td>0</td>\n      <td>0</td>\n      <td>0</td>\n      <td>0</td>\n      <td>0</td>\n      <td>0</td>\n      <td>0</td>\n      <td>0</td>\n      <td>...</td>\n      <td>0</td>\n      <td>0</td>\n      <td>0</td>\n      <td>0</td>\n      <td>-1.0</td>\n      <td>91.135635</td>\n      <td>82.517483</td>\n      <td>70.225</td>\n      <td>21.359915</td>\n      <td>16.783217</td>\n    </tr>\n    <tr>\n      <th>1</th>\n      <td>0</td>\n      <td>0</td>\n      <td>0</td>\n      <td>0</td>\n      <td>0</td>\n      <td>0</td>\n      <td>0</td>\n      <td>0</td>\n      <td>0</td>\n      <td>0</td>\n      <td>...</td>\n      <td>0</td>\n      <td>0</td>\n      <td>0</td>\n      <td>0</td>\n      <td>-1.0</td>\n      <td>95.772540</td>\n      <td>122.807018</td>\n      <td>66.825</td>\n      <td>16.460905</td>\n      <td>10.233918</td>\n    </tr>\n    <tr>\n      <th>2</th>\n      <td>0</td>\n      <td>0</td>\n      <td>0</td>\n      <td>0</td>\n      <td>0</td>\n      <td>0</td>\n      <td>0</td>\n      <td>0</td>\n      <td>0</td>\n      <td>0</td>\n      <td>...</td>\n      <td>0</td>\n      <td>0</td>\n      <td>0</td>\n      <td>0</td>\n      <td>1.0</td>\n      <td>98.963557</td>\n      <td>111.033029</td>\n      <td>74.775</td>\n      <td>18.722835</td>\n      <td>19.676739</td>\n    </tr>\n    <tr>\n      <th>3</th>\n      <td>0</td>\n      <td>0</td>\n      <td>0</td>\n      <td>0</td>\n      <td>0</td>\n      <td>0</td>\n      <td>0</td>\n      <td>0</td>\n      <td>0</td>\n      <td>0</td>\n      <td>...</td>\n      <td>0</td>\n      <td>0</td>\n      <td>0</td>\n      <td>0</td>\n      <td>0.0</td>\n      <td>111.031002</td>\n      <td>111.459969</td>\n      <td>69.350</td>\n      <td>7.209805</td>\n      <td>9.419152</td>\n    </tr>\n    <tr>\n      <th>4</th>\n      <td>0</td>\n      <td>0</td>\n      <td>0</td>\n      <td>0</td>\n      <td>0</td>\n      <td>0</td>\n      <td>0</td>\n      <td>0</td>\n      <td>0</td>\n      <td>0</td>\n      <td>...</td>\n      <td>0</td>\n      <td>0</td>\n      <td>0</td>\n      <td>0</td>\n      <td>0.0</td>\n      <td>89.292471</td>\n      <td>67.189250</td>\n      <td>66.075</td>\n      <td>13.620885</td>\n      <td>28.368794</td>\n    </tr>\n    <tr>\n      <th>...</th>\n      <td>...</td>\n      <td>...</td>\n      <td>...</td>\n      <td>...</td>\n      <td>...</td>\n      <td>...</td>\n      <td>...</td>\n      <td>...</td>\n      <td>...</td>\n      <td>...</td>\n      <td>...</td>\n      <td>...</td>\n      <td>...</td>\n      <td>...</td>\n      <td>...</td>\n      <td>...</td>\n      <td>...</td>\n      <td>...</td>\n      <td>...</td>\n      <td>...</td>\n      <td>...</td>\n    </tr>\n    <tr>\n      <th>8359</th>\n      <td>0</td>\n      <td>0</td>\n      <td>0</td>\n      <td>0</td>\n      <td>0</td>\n      <td>0</td>\n      <td>0</td>\n      <td>0</td>\n      <td>0</td>\n      <td>0</td>\n      <td>...</td>\n      <td>0</td>\n      <td>1</td>\n      <td>0</td>\n      <td>0</td>\n      <td>-1.0</td>\n      <td>119.646499</td>\n      <td>106.280193</td>\n      <td>73.550</td>\n      <td>14.955812</td>\n      <td>17.943409</td>\n    </tr>\n    <tr>\n      <th>8360</th>\n      <td>0</td>\n      <td>0</td>\n      <td>0</td>\n      <td>0</td>\n      <td>0</td>\n      <td>0</td>\n      <td>0</td>\n      <td>0</td>\n      <td>0</td>\n      <td>0</td>\n      <td>...</td>\n      <td>0</td>\n      <td>0</td>\n      <td>0</td>\n      <td>0</td>\n      <td>-1.0</td>\n      <td>99.079073</td>\n      <td>113.259669</td>\n      <td>78.725</td>\n      <td>15.242934</td>\n      <td>11.049724</td>\n    </tr>\n    <tr>\n      <th>8361</th>\n      <td>0</td>\n      <td>0</td>\n      <td>0</td>\n      <td>0</td>\n      <td>0</td>\n      <td>0</td>\n      <td>0</td>\n      <td>0</td>\n      <td>0</td>\n      <td>0</td>\n      <td>...</td>\n      <td>0</td>\n      <td>0</td>\n      <td>0</td>\n      <td>0</td>\n      <td>1.0</td>\n      <td>110.825478</td>\n      <td>101.040119</td>\n      <td>77.800</td>\n      <td>11.425307</td>\n      <td>15.453195</td>\n    </tr>\n    <tr>\n      <th>8362</th>\n      <td>0</td>\n      <td>0</td>\n      <td>0</td>\n      <td>0</td>\n      <td>0</td>\n      <td>0</td>\n      <td>0</td>\n      <td>0</td>\n      <td>0</td>\n      <td>0</td>\n      <td>...</td>\n      <td>0</td>\n      <td>0</td>\n      <td>0</td>\n      <td>0</td>\n      <td>1.0</td>\n      <td>116.246499</td>\n      <td>119.957158</td>\n      <td>71.400</td>\n      <td>7.002801</td>\n      <td>14.280614</td>\n    </tr>\n    <tr>\n      <th>8363</th>\n      <td>0</td>\n      <td>0</td>\n      <td>0</td>\n      <td>0</td>\n      <td>0</td>\n      <td>0</td>\n      <td>0</td>\n      <td>0</td>\n      <td>0</td>\n      <td>0</td>\n      <td>...</td>\n      <td>0</td>\n      <td>0</td>\n      <td>0</td>\n      <td>0</td>\n      <td>1.0</td>\n      <td>122.019635</td>\n      <td>112.326769</td>\n      <td>71.300</td>\n      <td>5.610098</td>\n      <td>8.752735</td>\n    </tr>\n  </tbody>\n</table>\n<p>8364 rows × 730 columns</p>\n</div>"
     },
     "execution_count": 2,
     "metadata": {},
     "output_type": "execute_result"
    }
   ],
   "source": [
    "full_box_df = pd.read_parquet('parquet_files/box_scores_sports_reference_2024.gzip')\n",
    "reg_df = convert_box_score_dataframe_to_regression_format(full_box_df)\n",
    "reg_df"
   ],
   "metadata": {
    "collapsed": false,
    "ExecuteTime": {
     "end_time": "2024-02-15T20:58:46.502206100Z",
     "start_time": "2024-02-15T20:58:39.764155Z"
    }
   },
   "id": "234af63866fb0e45"
  },
  {
   "cell_type": "code",
   "execution_count": 3,
   "outputs": [],
   "source": [
    "games_df = reg_df.drop(['ortg','drtg','pace','to_pct','opp_to_pct'],axis = 1).copy()\n",
    "y_df = reg_df[['ortg','drtg','pace']].copy()\n",
    "\n",
    "reg = Ridge(alpha=0.5,fit_intercept=True)"
   ],
   "metadata": {
    "collapsed": false,
    "ExecuteTime": {
     "end_time": "2024-02-15T20:59:02.745995300Z",
     "start_time": "2024-02-15T20:59:02.728230100Z"
    }
   },
   "id": "b8fb4656d224a94a"
  },
  {
   "cell_type": "code",
   "execution_count": 12,
   "outputs": [
    {
     "data": {
      "text/plain": "                    team_name  constant_ortg  coef_ortg    adj_ortg  \\\n335                   HOUSTON         103.33  13.486063  116.812043   \n66                     PURDUE         103.33  20.347915  123.673896   \n31                    ARIZONA         103.33  17.411369  120.737350   \n144                     UCONN         103.33  19.469401  122.795382   \n136                   ALABAMA         103.33  21.900074  125.226054   \n..                        ...            ...        ...         ...   \n129                   PACIFIC         103.33 -12.443708   90.882273   \n174                     SIENA         103.33 -17.536694   85.789287   \n15               COPPIN STATE         103.33 -22.268101   81.057880   \n186                     IUPUI         103.33 -13.992371   89.333609   \n5    MISSISSIPPI VALLEY STATE         103.33 -20.755102   82.570878   \n\n     constant_drtg  coef_drtg    adj_drtg  constant_pace  coef_pace  \\\n335         103.33 -22.279116   81.046864          69.75  -4.281965   \n66          103.33 -13.314748   90.011232          69.75   0.032196   \n31          103.33 -14.077877   89.248104          69.75   5.023320   \n144         103.33 -10.739814   92.586167          69.75  -3.076504   \n136         103.33  -7.572636   95.753345          69.75   5.015723   \n..             ...        ...         ...            ...        ...   \n129         103.33  11.809068  115.135049          69.75   0.344927   \n174         103.33   6.972974  110.298955          69.75  -0.608213   \n15          103.33   3.775157  107.101138          69.75  -1.167220   \n186         103.33  14.216744  117.542725          69.75  -0.518362   \n5           103.33  15.007154  118.333134          69.75  -3.914061   \n\n      adj_pace   adj_nrtg  \n335  65.468769  35.765179  \n66   69.782930  33.662664  \n31   74.774054  31.489246  \n144  66.674230  30.209215  \n136  74.766456  29.472709  \n..         ...        ...  \n129  70.095661 -24.252776  \n174  69.142521 -24.509668  \n15   68.583514 -26.043258  \n186  69.232371 -28.209115  \n5    65.836673 -35.762256  \n\n[363 rows x 11 columns]",
      "text/html": "<div>\n<style scoped>\n    .dataframe tbody tr th:only-of-type {\n        vertical-align: middle;\n    }\n\n    .dataframe tbody tr th {\n        vertical-align: top;\n    }\n\n    .dataframe thead th {\n        text-align: right;\n    }\n</style>\n<table border=\"1\" class=\"dataframe\">\n  <thead>\n    <tr style=\"text-align: right;\">\n      <th></th>\n      <th>team_name</th>\n      <th>constant_ortg</th>\n      <th>coef_ortg</th>\n      <th>adj_ortg</th>\n      <th>constant_drtg</th>\n      <th>coef_drtg</th>\n      <th>adj_drtg</th>\n      <th>constant_pace</th>\n      <th>coef_pace</th>\n      <th>adj_pace</th>\n      <th>adj_nrtg</th>\n    </tr>\n  </thead>\n  <tbody>\n    <tr>\n      <th>335</th>\n      <td>HOUSTON</td>\n      <td>103.33</td>\n      <td>13.486063</td>\n      <td>116.812043</td>\n      <td>103.33</td>\n      <td>-22.279116</td>\n      <td>81.046864</td>\n      <td>69.75</td>\n      <td>-4.281965</td>\n      <td>65.468769</td>\n      <td>35.765179</td>\n    </tr>\n    <tr>\n      <th>66</th>\n      <td>PURDUE</td>\n      <td>103.33</td>\n      <td>20.347915</td>\n      <td>123.673896</td>\n      <td>103.33</td>\n      <td>-13.314748</td>\n      <td>90.011232</td>\n      <td>69.75</td>\n      <td>0.032196</td>\n      <td>69.782930</td>\n      <td>33.662664</td>\n    </tr>\n    <tr>\n      <th>31</th>\n      <td>ARIZONA</td>\n      <td>103.33</td>\n      <td>17.411369</td>\n      <td>120.737350</td>\n      <td>103.33</td>\n      <td>-14.077877</td>\n      <td>89.248104</td>\n      <td>69.75</td>\n      <td>5.023320</td>\n      <td>74.774054</td>\n      <td>31.489246</td>\n    </tr>\n    <tr>\n      <th>144</th>\n      <td>UCONN</td>\n      <td>103.33</td>\n      <td>19.469401</td>\n      <td>122.795382</td>\n      <td>103.33</td>\n      <td>-10.739814</td>\n      <td>92.586167</td>\n      <td>69.75</td>\n      <td>-3.076504</td>\n      <td>66.674230</td>\n      <td>30.209215</td>\n    </tr>\n    <tr>\n      <th>136</th>\n      <td>ALABAMA</td>\n      <td>103.33</td>\n      <td>21.900074</td>\n      <td>125.226054</td>\n      <td>103.33</td>\n      <td>-7.572636</td>\n      <td>95.753345</td>\n      <td>69.75</td>\n      <td>5.015723</td>\n      <td>74.766456</td>\n      <td>29.472709</td>\n    </tr>\n    <tr>\n      <th>...</th>\n      <td>...</td>\n      <td>...</td>\n      <td>...</td>\n      <td>...</td>\n      <td>...</td>\n      <td>...</td>\n      <td>...</td>\n      <td>...</td>\n      <td>...</td>\n      <td>...</td>\n      <td>...</td>\n    </tr>\n    <tr>\n      <th>129</th>\n      <td>PACIFIC</td>\n      <td>103.33</td>\n      <td>-12.443708</td>\n      <td>90.882273</td>\n      <td>103.33</td>\n      <td>11.809068</td>\n      <td>115.135049</td>\n      <td>69.75</td>\n      <td>0.344927</td>\n      <td>70.095661</td>\n      <td>-24.252776</td>\n    </tr>\n    <tr>\n      <th>174</th>\n      <td>SIENA</td>\n      <td>103.33</td>\n      <td>-17.536694</td>\n      <td>85.789287</td>\n      <td>103.33</td>\n      <td>6.972974</td>\n      <td>110.298955</td>\n      <td>69.75</td>\n      <td>-0.608213</td>\n      <td>69.142521</td>\n      <td>-24.509668</td>\n    </tr>\n    <tr>\n      <th>15</th>\n      <td>COPPIN STATE</td>\n      <td>103.33</td>\n      <td>-22.268101</td>\n      <td>81.057880</td>\n      <td>103.33</td>\n      <td>3.775157</td>\n      <td>107.101138</td>\n      <td>69.75</td>\n      <td>-1.167220</td>\n      <td>68.583514</td>\n      <td>-26.043258</td>\n    </tr>\n    <tr>\n      <th>186</th>\n      <td>IUPUI</td>\n      <td>103.33</td>\n      <td>-13.992371</td>\n      <td>89.333609</td>\n      <td>103.33</td>\n      <td>14.216744</td>\n      <td>117.542725</td>\n      <td>69.75</td>\n      <td>-0.518362</td>\n      <td>69.232371</td>\n      <td>-28.209115</td>\n    </tr>\n    <tr>\n      <th>5</th>\n      <td>MISSISSIPPI VALLEY STATE</td>\n      <td>103.33</td>\n      <td>-20.755102</td>\n      <td>82.570878</td>\n      <td>103.33</td>\n      <td>15.007154</td>\n      <td>118.333134</td>\n      <td>69.75</td>\n      <td>-3.914061</td>\n      <td>65.836673</td>\n      <td>-35.762256</td>\n    </tr>\n  </tbody>\n</table>\n<p>363 rows × 11 columns</p>\n</div>"
     },
     "execution_count": 12,
     "metadata": {},
     "output_type": "execute_result"
    }
   ],
   "source": [
    "reg_dict = {}\n",
    "master_df = pd.DataFrame()\n",
    "for column in y_df.columns.tolist():\n",
    "    \n",
    "    reg.fit(X = games_df ,y = y_df[column].to_numpy())\n",
    "    reg_results = {\"variable\":[],f'coef_{column}':[],f'constant_{column}':[],f'adj_{column}':[]}\n",
    "    intercept = round(reg.intercept_,2)\n",
    "    reg_dict[f\"{column}_regression\"] = reg\n",
    "    \n",
    "    for variable,coefficient in zip(games_df.columns,reg.coef_):\n",
    "        reg_results[f'constant_{column}'].append(intercept)\n",
    "        reg_results['variable'].append(variable)\n",
    "        reg_results[f'coef_{column}'].append(coefficient)\n",
    "        reg_results[f'adj_{column}'].append(coefficient + reg.intercept_)\n",
    "    \n",
    "    output_df = pd.DataFrame(reg_results)\n",
    "    output_df = output_df.loc[(output_df.variable.str.startswith(\"TM\")) | (output_df.variable == \"home\")].copy()\n",
    "    output_df['tm_id'] = output_df.variable.map(lambda x: x.split(\"_\")[1] if x != 'home' else -1).astype(int)\n",
    "    output_df['team_name'] = output_df.tm_id.map(lambda x: team_id_name_dict.get(x,\"HOME_COURT_ADVANTAGE\"))\n",
    "    output_df = output_df[['team_name',f'constant_{column}',f'coef_{column}',f'adj_{column}']]\n",
    "    \n",
    "    if master_df.empty:\n",
    "        master_df = output_df.copy()\n",
    "        continue\n",
    "    \n",
    "    master_df = master_df.merge(output_df,on = 'team_name')\n",
    "    \n",
    "\n",
    "master_df['adj_nrtg'] = master_df.adj_ortg - master_df.adj_drtg\n",
    "master_df.sort_values('adj_nrtg',ascending=False)"
   ],
   "metadata": {
    "collapsed": false,
    "ExecuteTime": {
     "end_time": "2024-02-15T21:02:26.903437300Z",
     "start_time": "2024-02-15T21:02:26.662974400Z"
    }
   },
   "id": "33a0dfc9a11f467b"
  }
 ],
 "metadata": {
  "kernelspec": {
   "display_name": "Python 3",
   "language": "python",
   "name": "python3"
  },
  "language_info": {
   "codemirror_mode": {
    "name": "ipython",
    "version": 2
   },
   "file_extension": ".py",
   "mimetype": "text/x-python",
   "name": "python",
   "nbconvert_exporter": "python",
   "pygments_lexer": "ipython2",
   "version": "2.7.6"
  }
 },
 "nbformat": 4,
 "nbformat_minor": 5
}
