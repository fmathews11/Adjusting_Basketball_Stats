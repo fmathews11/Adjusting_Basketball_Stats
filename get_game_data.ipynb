{
 "cells": [
  {
   "cell_type": "code",
   "execution_count": 2,
   "metadata": {},
   "outputs": [
    {
     "name": "stdout",
     "output_type": "stream",
     "text": [
      "c:\\Users\\fmath\\OneDrive\\Desktop\\Github\\Adjusting_Basketball_Stats\n"
     ]
    }
   ],
   "source": [
    "import warnings\n",
    "warnings.filterwarnings(\"ignore\")\n",
    "from modules.functions import get_schedule,ids,create_home_and_away_simple_dataframe,clean_dataframe,BadStatusCodeError\n",
    "import pandas as pd\n",
    "import numpy as np\n",
    "from bs4 import BeautifulSoup\n",
    "import requests\n",
    "import time\n",
    "from tqdm import tqdm\n",
    "import pickle\n",
    "ids = ids.loc[ids.link.notnull()].copy()\n",
    "%cd Adjusting_Basketball_Stats"
   ]
  },
  {
   "cell_type": "code",
   "execution_count": 4,
   "metadata": {},
   "outputs": [],
   "source": [
    "master_df = pd.read_parquet('parquet_files/master_dataframe.gzip')\n",
    "already_scraped_ids = set(master_df.Game_ID.unique().tolist())\n",
    "not_yet_played_ids = set()"
   ]
  },
  {
   "cell_type": "code",
   "execution_count": 5,
   "metadata": {},
   "outputs": [
    {
     "name": "stderr",
     "output_type": "stream",
     "text": [
      "  2%|▏         | 8/357 [04:07<2:57:32, 30.52s/it]"
     ]
    },
    {
     "name": "stdout",
     "output_type": "stream",
     "text": [
      "5592\n"
     ]
    },
    {
     "name": "stderr",
     "output_type": "stream",
     "text": [
      "  5%|▌         | 19/357 [09:21<2:30:39, 26.74s/it]"
     ]
    },
    {
     "name": "stdout",
     "output_type": "stream",
     "text": [
      "5617\n"
     ]
    },
    {
     "name": "stderr",
     "output_type": "stream",
     "text": [
      "  8%|▊         | 28/357 [13:42<2:32:38, 27.84s/it]"
     ]
    },
    {
     "name": "stdout",
     "output_type": "stream",
     "text": [
      "5642\n"
     ]
    },
    {
     "name": "stderr",
     "output_type": "stream",
     "text": [
      " 11%|█         | 39/357 [19:01<2:42:28, 30.66s/it]"
     ]
    },
    {
     "name": "stdout",
     "output_type": "stream",
     "text": [
      "5667\n"
     ]
    },
    {
     "name": "stderr",
     "output_type": "stream",
     "text": [
      " 14%|█▎        | 49/357 [23:54<2:32:11, 29.65s/it]"
     ]
    },
    {
     "name": "stdout",
     "output_type": "stream",
     "text": [
      "5692\n"
     ]
    },
    {
     "name": "stderr",
     "output_type": "stream",
     "text": [
      " 16%|█▌        | 58/357 [28:23<2:22:39, 28.63s/it]"
     ]
    },
    {
     "name": "stdout",
     "output_type": "stream",
     "text": [
      "5717\n"
     ]
    },
    {
     "name": "stderr",
     "output_type": "stream",
     "text": [
      " 19%|█▉        | 68/357 [34:49<2:47:03, 34.68s/it]"
     ]
    },
    {
     "name": "stdout",
     "output_type": "stream",
     "text": [
      "5742\n"
     ]
    },
    {
     "name": "stderr",
     "output_type": "stream",
     "text": [
      " 22%|██▏       | 79/357 [40:09<2:07:12, 27.45s/it]"
     ]
    },
    {
     "name": "stdout",
     "output_type": "stream",
     "text": [
      "5767\n"
     ]
    },
    {
     "name": "stderr",
     "output_type": "stream",
     "text": [
      " 25%|██▌       | 90/357 [46:25<2:06:50, 28.50s/it]"
     ]
    },
    {
     "name": "stdout",
     "output_type": "stream",
     "text": [
      "5792\n"
     ]
    },
    {
     "name": "stderr",
     "output_type": "stream",
     "text": [
      " 29%|██▉       | 105/357 [53:14<1:51:44, 26.60s/it]"
     ]
    },
    {
     "name": "stdout",
     "output_type": "stream",
     "text": [
      "5817\n"
     ]
    },
    {
     "name": "stderr",
     "output_type": "stream",
     "text": [
      " 33%|███▎      | 119/357 [59:27<1:50:30, 27.86s/it]"
     ]
    },
    {
     "name": "stdout",
     "output_type": "stream",
     "text": [
      "5842\n"
     ]
    },
    {
     "name": "stderr",
     "output_type": "stream",
     "text": [
      " 37%|███▋      | 133/357 [1:06:06<1:43:31, 27.73s/it]"
     ]
    },
    {
     "name": "stdout",
     "output_type": "stream",
     "text": [
      "5867\n"
     ]
    },
    {
     "name": "stderr",
     "output_type": "stream",
     "text": [
      " 43%|████▎     | 153/357 [1:14:42<1:23:50, 24.66s/it]"
     ]
    },
    {
     "name": "stdout",
     "output_type": "stream",
     "text": [
      "5892\n"
     ]
    },
    {
     "name": "stderr",
     "output_type": "stream",
     "text": [
      " 46%|████▌     | 163/357 [1:19:34<1:32:18, 28.55s/it]"
     ]
    },
    {
     "name": "stdout",
     "output_type": "stream",
     "text": [
      "5917\n"
     ]
    },
    {
     "name": "stderr",
     "output_type": "stream",
     "text": [
      " 50%|████▉     | 178/357 [1:26:22<1:18:29, 26.31s/it]"
     ]
    },
    {
     "name": "stdout",
     "output_type": "stream",
     "text": [
      "5942\n"
     ]
    },
    {
     "name": "stderr",
     "output_type": "stream",
     "text": [
      " 55%|█████▌    | 198/357 [1:34:52<1:07:31, 25.48s/it]"
     ]
    },
    {
     "name": "stdout",
     "output_type": "stream",
     "text": [
      "5967\n"
     ]
    },
    {
     "name": "stderr",
     "output_type": "stream",
     "text": [
      " 61%|██████    | 217/357 [1:43:07<1:03:50, 27.36s/it]"
     ]
    },
    {
     "name": "stdout",
     "output_type": "stream",
     "text": [
      "5992\n"
     ]
    },
    {
     "name": "stderr",
     "output_type": "stream",
     "text": [
      " 68%|██████▊   | 241/357 [1:53:09<46:35, 24.10s/it]  "
     ]
    },
    {
     "name": "stdout",
     "output_type": "stream",
     "text": [
      "6017\n"
     ]
    },
    {
     "name": "stderr",
     "output_type": "stream",
     "text": [
      " 78%|███████▊  | 277/357 [2:07:35<30:16, 22.71s/it]"
     ]
    },
    {
     "name": "stdout",
     "output_type": "stream",
     "text": [
      "6042\n"
     ]
    },
    {
     "name": "stderr",
     "output_type": "stream",
     "text": [
      " 89%|████████▊ | 316/357 [2:23:03<15:51, 23.20s/it]"
     ]
    },
    {
     "name": "stdout",
     "output_type": "stream",
     "text": [
      "6067\n"
     ]
    },
    {
     "name": "stderr",
     "output_type": "stream",
     "text": [
      "100%|██████████| 357/357 [2:38:37<00:00, 26.66s/it]\n"
     ]
    }
   ],
   "source": [
    "counter = 0\n",
    "bad_requests_counter = 0\n",
    "\n",
    "for team in tqdm(ids.team.unique().tolist()):\n",
    "\n",
    "    scrape_counter = 0\n",
    "    time.sleep(np.random.randint(2,6))\n",
    "    temp_master_dict = get_schedule(team).drop_duplicates(subset=\"GAME_ID\").set_index(\"GAME_ID\").to_dict(orient = 'index')\n",
    "    quick_skip = True\n",
    "\n",
    "    for game_id,sub_dict in temp_master_dict.items():\n",
    "\n",
    "        game_id = int(game_id)\n",
    "\n",
    "        if (game_id in already_scraped_ids or game_id in not_yet_played_ids):\n",
    "            continue\n",
    "        \n",
    "        # Attempt to get data, unless it hasn't been played - Log it as such, and move on\n",
    "        try:\n",
    "            home_df,away_df = create_home_and_away_simple_dataframe(game_id)\n",
    "        except ValueError as e:\n",
    "            not_yet_played_ids.add(game_id)\n",
    "            continue\n",
    "        except BadStatusCodeError as e:\n",
    "            bad_requests_counter +=1\n",
    "            if bad_requests_counter == 5:\n",
    "                raise Exception(\"5 bad requests...\")\n",
    "            continue\n",
    "        \n",
    "        # Transform home and away dataframes\n",
    "        home_df = home_df.reset_index().drop('level_1',axis = 1).rename(columns = {'level_0':\"Team\"})\\\n",
    "        .assign(Opponent = sub_dict['OPPONENT'].replace(\"@\",\"\").strip()).query(\"Player != 'Team'\")\\\n",
    "        .assign(Game_ID = game_id).copy()\n",
    "\n",
    "        away_df = away_df.reset_index().drop('level_1',axis = 1).rename(columns = {'level_0':'Team'.strip()})\\\n",
    "        .assign(Opponent = team).query(\"Player != 'Team'\")\\\n",
    "        .assign(Game_ID = game_id).copy()\n",
    "\n",
    "        final_df = pd.concat([home_df,away_df])\n",
    "        final_df['Game_Date'] = sub_dict['DATE']\n",
    "\n",
    "        master_df = pd.concat([master_df,final_df])\n",
    "        already_scraped_ids.add(game_id)\n",
    "        time_to_sleep = np.random.randint(7,14)\n",
    "\n",
    "        counter +=1\n",
    "        scrape_counter +=1\n",
    "        if counter == 25:\n",
    "            # Save every 25 iterations, just in case\n",
    "            master_df.assign(Game_ID = master_df.Game_ID.astype(int)).to_parquet('parquet_files/master_dataframe.gzip',compression='gzip')\n",
    "            print(master_df.Game_ID.nunique())\n",
    "            counter = 0\n",
    "        if scrape_counter >= 5:\n",
    "            quick_skip = False\n",
    "        \n",
    "        if not quick_skip:\n",
    "            # Sleep\n",
    "            time.sleep(time_to_sleep)\n",
    "        else:\n",
    "            time.sleep(2)\n",
    "\n",
    "    # Sleep\n",
    "    if not quick_skip:\n",
    "        time.sleep(np.random.randint(20,120))\n",
    "    else:\n",
    "        time.sleep(18)\n",
    "\n",
    "master_df.reset_index(drop=True).to_parquet('parquet_files/master_dataframe.gzip',compression='gzip')"
   ]
  },
  {
   "cell_type": "code",
   "execution_count": 7,
   "metadata": {},
   "outputs": [
    {
     "name": "stdout",
     "output_type": "stream",
     "text": [
      "6074\n"
     ]
    }
   ],
   "source": [
    "master_df.to_parquet('parquet_files/master_dataframe.gzip',compression='gzip')\n",
    "print(master_df.Game_ID.nunique())\n",
    "\n",
    "with open('pickle_files/not_yet_played_games.pickle','wb') as f:\n",
    "    pickle.dump(not_yet_played_ids,f)"
   ]
  }
 ],
 "metadata": {
  "kernelspec": {
   "display_name": "base",
   "language": "python",
   "name": "python3"
  },
  "language_info": {
   "codemirror_mode": {
    "name": "ipython",
    "version": 3
   },
   "file_extension": ".py",
   "mimetype": "text/x-python",
   "name": "python",
   "nbconvert_exporter": "python",
   "pygments_lexer": "ipython3",
   "version": "3.9.13"
  },
  "orig_nbformat": 4,
  "vscode": {
   "interpreter": {
    "hash": "788e49aa3fe5dd1af6a68397f1749d9e903e8595b7673a0aae7419ea668aa0b7"
   }
  }
 },
 "nbformat": 4,
 "nbformat_minor": 2
}
